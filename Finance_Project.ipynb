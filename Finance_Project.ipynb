{
  "nbformat": 4,
  "nbformat_minor": 0,
  "metadata": {
    "colab": {
      "name": "Finance Project.ipynb",
      "provenance": [],
      "collapsed_sections": [],
      "toc_visible": true,
      "machine_shape": "hm"
    },
    "kernelspec": {
      "name": "python3",
      "display_name": "Python 3"
    },
    "accelerator": "GPU",
    "widgets": {
      "application/vnd.jupyter.widget-state+json": {
        "ab06670091444e25b0b6f91a7b5b2f8b": {
          "model_module": "@jupyter-widgets/controls",
          "model_name": "HBoxModel",
          "state": {
            "_view_name": "HBoxView",
            "_dom_classes": [],
            "_model_name": "HBoxModel",
            "_view_module": "@jupyter-widgets/controls",
            "_model_module_version": "1.5.0",
            "_view_count": null,
            "_view_module_version": "1.5.0",
            "box_style": "",
            "layout": "IPY_MODEL_a0d9e5bb23eb48a991e95f3617fa7379",
            "_model_module": "@jupyter-widgets/controls",
            "children": [
              "IPY_MODEL_c84d5496fd0c498cb848135af3dcd162",
              "IPY_MODEL_28ff746a77fb42db9e84abd294f3bb6b"
            ]
          }
        },
        "a0d9e5bb23eb48a991e95f3617fa7379": {
          "model_module": "@jupyter-widgets/base",
          "model_name": "LayoutModel",
          "state": {
            "_view_name": "LayoutView",
            "grid_template_rows": null,
            "right": null,
            "justify_content": null,
            "_view_module": "@jupyter-widgets/base",
            "overflow": null,
            "_model_module_version": "1.2.0",
            "_view_count": null,
            "flex_flow": null,
            "width": null,
            "min_width": null,
            "border": null,
            "align_items": null,
            "bottom": null,
            "_model_module": "@jupyter-widgets/base",
            "top": null,
            "grid_column": null,
            "overflow_y": null,
            "overflow_x": null,
            "grid_auto_flow": null,
            "grid_area": null,
            "grid_template_columns": null,
            "flex": null,
            "_model_name": "LayoutModel",
            "justify_items": null,
            "grid_row": null,
            "max_height": null,
            "align_content": null,
            "visibility": null,
            "align_self": null,
            "height": null,
            "min_height": null,
            "padding": null,
            "grid_auto_rows": null,
            "grid_gap": null,
            "max_width": null,
            "order": null,
            "_view_module_version": "1.2.0",
            "grid_template_areas": null,
            "object_position": null,
            "object_fit": null,
            "grid_auto_columns": null,
            "margin": null,
            "display": null,
            "left": null
          }
        },
        "c84d5496fd0c498cb848135af3dcd162": {
          "model_module": "@jupyter-widgets/controls",
          "model_name": "IntProgressModel",
          "state": {
            "_view_name": "ProgressView",
            "style": "IPY_MODEL_590c76e05efa44e8a0c4240251cdd450",
            "_dom_classes": [],
            "description": "Downloading: 100%",
            "_model_name": "IntProgressModel",
            "bar_style": "success",
            "max": 231508,
            "_view_module": "@jupyter-widgets/controls",
            "_model_module_version": "1.5.0",
            "value": 231508,
            "_view_count": null,
            "_view_module_version": "1.5.0",
            "orientation": "horizontal",
            "min": 0,
            "description_tooltip": null,
            "_model_module": "@jupyter-widgets/controls",
            "layout": "IPY_MODEL_62a320403a3448638ee397de90acf26e"
          }
        },
        "28ff746a77fb42db9e84abd294f3bb6b": {
          "model_module": "@jupyter-widgets/controls",
          "model_name": "HTMLModel",
          "state": {
            "_view_name": "HTMLView",
            "style": "IPY_MODEL_1c4151a26dee49ec9ff9bf9d5a4fe3a9",
            "_dom_classes": [],
            "description": "",
            "_model_name": "HTMLModel",
            "placeholder": "​",
            "_view_module": "@jupyter-widgets/controls",
            "_model_module_version": "1.5.0",
            "value": " 232k/232k [00:00&lt;00:00, 304kB/s]",
            "_view_count": null,
            "_view_module_version": "1.5.0",
            "description_tooltip": null,
            "_model_module": "@jupyter-widgets/controls",
            "layout": "IPY_MODEL_c651e8791f4247f29caa40519b4babaa"
          }
        },
        "590c76e05efa44e8a0c4240251cdd450": {
          "model_module": "@jupyter-widgets/controls",
          "model_name": "ProgressStyleModel",
          "state": {
            "_view_name": "StyleView",
            "_model_name": "ProgressStyleModel",
            "description_width": "initial",
            "_view_module": "@jupyter-widgets/base",
            "_model_module_version": "1.5.0",
            "_view_count": null,
            "_view_module_version": "1.2.0",
            "bar_color": null,
            "_model_module": "@jupyter-widgets/controls"
          }
        },
        "62a320403a3448638ee397de90acf26e": {
          "model_module": "@jupyter-widgets/base",
          "model_name": "LayoutModel",
          "state": {
            "_view_name": "LayoutView",
            "grid_template_rows": null,
            "right": null,
            "justify_content": null,
            "_view_module": "@jupyter-widgets/base",
            "overflow": null,
            "_model_module_version": "1.2.0",
            "_view_count": null,
            "flex_flow": null,
            "width": null,
            "min_width": null,
            "border": null,
            "align_items": null,
            "bottom": null,
            "_model_module": "@jupyter-widgets/base",
            "top": null,
            "grid_column": null,
            "overflow_y": null,
            "overflow_x": null,
            "grid_auto_flow": null,
            "grid_area": null,
            "grid_template_columns": null,
            "flex": null,
            "_model_name": "LayoutModel",
            "justify_items": null,
            "grid_row": null,
            "max_height": null,
            "align_content": null,
            "visibility": null,
            "align_self": null,
            "height": null,
            "min_height": null,
            "padding": null,
            "grid_auto_rows": null,
            "grid_gap": null,
            "max_width": null,
            "order": null,
            "_view_module_version": "1.2.0",
            "grid_template_areas": null,
            "object_position": null,
            "object_fit": null,
            "grid_auto_columns": null,
            "margin": null,
            "display": null,
            "left": null
          }
        },
        "1c4151a26dee49ec9ff9bf9d5a4fe3a9": {
          "model_module": "@jupyter-widgets/controls",
          "model_name": "DescriptionStyleModel",
          "state": {
            "_view_name": "StyleView",
            "_model_name": "DescriptionStyleModel",
            "description_width": "",
            "_view_module": "@jupyter-widgets/base",
            "_model_module_version": "1.5.0",
            "_view_count": null,
            "_view_module_version": "1.2.0",
            "_model_module": "@jupyter-widgets/controls"
          }
        },
        "c651e8791f4247f29caa40519b4babaa": {
          "model_module": "@jupyter-widgets/base",
          "model_name": "LayoutModel",
          "state": {
            "_view_name": "LayoutView",
            "grid_template_rows": null,
            "right": null,
            "justify_content": null,
            "_view_module": "@jupyter-widgets/base",
            "overflow": null,
            "_model_module_version": "1.2.0",
            "_view_count": null,
            "flex_flow": null,
            "width": null,
            "min_width": null,
            "border": null,
            "align_items": null,
            "bottom": null,
            "_model_module": "@jupyter-widgets/base",
            "top": null,
            "grid_column": null,
            "overflow_y": null,
            "overflow_x": null,
            "grid_auto_flow": null,
            "grid_area": null,
            "grid_template_columns": null,
            "flex": null,
            "_model_name": "LayoutModel",
            "justify_items": null,
            "grid_row": null,
            "max_height": null,
            "align_content": null,
            "visibility": null,
            "align_self": null,
            "height": null,
            "min_height": null,
            "padding": null,
            "grid_auto_rows": null,
            "grid_gap": null,
            "max_width": null,
            "order": null,
            "_view_module_version": "1.2.0",
            "grid_template_areas": null,
            "object_position": null,
            "object_fit": null,
            "grid_auto_columns": null,
            "margin": null,
            "display": null,
            "left": null
          }
        },
        "7fe6c3ab7e444e91b1c330d774c9bd0b": {
          "model_module": "@jupyter-widgets/controls",
          "model_name": "HBoxModel",
          "state": {
            "_view_name": "HBoxView",
            "_dom_classes": [],
            "_model_name": "HBoxModel",
            "_view_module": "@jupyter-widgets/controls",
            "_model_module_version": "1.5.0",
            "_view_count": null,
            "_view_module_version": "1.5.0",
            "box_style": "",
            "layout": "IPY_MODEL_915ce56486d24885b50ba8f0c0c3739a",
            "_model_module": "@jupyter-widgets/controls",
            "children": [
              "IPY_MODEL_64bb45799c7b44aaa396bbd1e5516b50",
              "IPY_MODEL_448e7983f2d14b709b86338b21090270"
            ]
          }
        },
        "915ce56486d24885b50ba8f0c0c3739a": {
          "model_module": "@jupyter-widgets/base",
          "model_name": "LayoutModel",
          "state": {
            "_view_name": "LayoutView",
            "grid_template_rows": null,
            "right": null,
            "justify_content": null,
            "_view_module": "@jupyter-widgets/base",
            "overflow": null,
            "_model_module_version": "1.2.0",
            "_view_count": null,
            "flex_flow": null,
            "width": null,
            "min_width": null,
            "border": null,
            "align_items": null,
            "bottom": null,
            "_model_module": "@jupyter-widgets/base",
            "top": null,
            "grid_column": null,
            "overflow_y": null,
            "overflow_x": null,
            "grid_auto_flow": null,
            "grid_area": null,
            "grid_template_columns": null,
            "flex": null,
            "_model_name": "LayoutModel",
            "justify_items": null,
            "grid_row": null,
            "max_height": null,
            "align_content": null,
            "visibility": null,
            "align_self": null,
            "height": null,
            "min_height": null,
            "padding": null,
            "grid_auto_rows": null,
            "grid_gap": null,
            "max_width": null,
            "order": null,
            "_view_module_version": "1.2.0",
            "grid_template_areas": null,
            "object_position": null,
            "object_fit": null,
            "grid_auto_columns": null,
            "margin": null,
            "display": null,
            "left": null
          }
        },
        "64bb45799c7b44aaa396bbd1e5516b50": {
          "model_module": "@jupyter-widgets/controls",
          "model_name": "IntProgressModel",
          "state": {
            "_view_name": "ProgressView",
            "style": "IPY_MODEL_f7675e262af94ae19959fe734a0d293d",
            "_dom_classes": [],
            "description": "Downloading: 100%",
            "_model_name": "IntProgressModel",
            "bar_style": "success",
            "max": 546,
            "_view_module": "@jupyter-widgets/controls",
            "_model_module_version": "1.5.0",
            "value": 546,
            "_view_count": null,
            "_view_module_version": "1.5.0",
            "orientation": "horizontal",
            "min": 0,
            "description_tooltip": null,
            "_model_module": "@jupyter-widgets/controls",
            "layout": "IPY_MODEL_1475b110bbbb478a940492a02a6b5fa1"
          }
        },
        "448e7983f2d14b709b86338b21090270": {
          "model_module": "@jupyter-widgets/controls",
          "model_name": "HTMLModel",
          "state": {
            "_view_name": "HTMLView",
            "style": "IPY_MODEL_0a047578837446e4b37949e6da23606a",
            "_dom_classes": [],
            "description": "",
            "_model_name": "HTMLModel",
            "placeholder": "​",
            "_view_module": "@jupyter-widgets/controls",
            "_model_module_version": "1.5.0",
            "value": " 546/546 [00:22&lt;00:00, 24.4B/s]",
            "_view_count": null,
            "_view_module_version": "1.5.0",
            "description_tooltip": null,
            "_model_module": "@jupyter-widgets/controls",
            "layout": "IPY_MODEL_6c84dfa3f0064f3288da4045f57e4ce3"
          }
        },
        "f7675e262af94ae19959fe734a0d293d": {
          "model_module": "@jupyter-widgets/controls",
          "model_name": "ProgressStyleModel",
          "state": {
            "_view_name": "StyleView",
            "_model_name": "ProgressStyleModel",
            "description_width": "initial",
            "_view_module": "@jupyter-widgets/base",
            "_model_module_version": "1.5.0",
            "_view_count": null,
            "_view_module_version": "1.2.0",
            "bar_color": null,
            "_model_module": "@jupyter-widgets/controls"
          }
        },
        "1475b110bbbb478a940492a02a6b5fa1": {
          "model_module": "@jupyter-widgets/base",
          "model_name": "LayoutModel",
          "state": {
            "_view_name": "LayoutView",
            "grid_template_rows": null,
            "right": null,
            "justify_content": null,
            "_view_module": "@jupyter-widgets/base",
            "overflow": null,
            "_model_module_version": "1.2.0",
            "_view_count": null,
            "flex_flow": null,
            "width": null,
            "min_width": null,
            "border": null,
            "align_items": null,
            "bottom": null,
            "_model_module": "@jupyter-widgets/base",
            "top": null,
            "grid_column": null,
            "overflow_y": null,
            "overflow_x": null,
            "grid_auto_flow": null,
            "grid_area": null,
            "grid_template_columns": null,
            "flex": null,
            "_model_name": "LayoutModel",
            "justify_items": null,
            "grid_row": null,
            "max_height": null,
            "align_content": null,
            "visibility": null,
            "align_self": null,
            "height": null,
            "min_height": null,
            "padding": null,
            "grid_auto_rows": null,
            "grid_gap": null,
            "max_width": null,
            "order": null,
            "_view_module_version": "1.2.0",
            "grid_template_areas": null,
            "object_position": null,
            "object_fit": null,
            "grid_auto_columns": null,
            "margin": null,
            "display": null,
            "left": null
          }
        },
        "0a047578837446e4b37949e6da23606a": {
          "model_module": "@jupyter-widgets/controls",
          "model_name": "DescriptionStyleModel",
          "state": {
            "_view_name": "StyleView",
            "_model_name": "DescriptionStyleModel",
            "description_width": "",
            "_view_module": "@jupyter-widgets/base",
            "_model_module_version": "1.5.0",
            "_view_count": null,
            "_view_module_version": "1.2.0",
            "_model_module": "@jupyter-widgets/controls"
          }
        },
        "6c84dfa3f0064f3288da4045f57e4ce3": {
          "model_module": "@jupyter-widgets/base",
          "model_name": "LayoutModel",
          "state": {
            "_view_name": "LayoutView",
            "grid_template_rows": null,
            "right": null,
            "justify_content": null,
            "_view_module": "@jupyter-widgets/base",
            "overflow": null,
            "_model_module_version": "1.2.0",
            "_view_count": null,
            "flex_flow": null,
            "width": null,
            "min_width": null,
            "border": null,
            "align_items": null,
            "bottom": null,
            "_model_module": "@jupyter-widgets/base",
            "top": null,
            "grid_column": null,
            "overflow_y": null,
            "overflow_x": null,
            "grid_auto_flow": null,
            "grid_area": null,
            "grid_template_columns": null,
            "flex": null,
            "_model_name": "LayoutModel",
            "justify_items": null,
            "grid_row": null,
            "max_height": null,
            "align_content": null,
            "visibility": null,
            "align_self": null,
            "height": null,
            "min_height": null,
            "padding": null,
            "grid_auto_rows": null,
            "grid_gap": null,
            "max_width": null,
            "order": null,
            "_view_module_version": "1.2.0",
            "grid_template_areas": null,
            "object_position": null,
            "object_fit": null,
            "grid_auto_columns": null,
            "margin": null,
            "display": null,
            "left": null
          }
        },
        "225dbba6c4544eae8288beaeae5417f9": {
          "model_module": "@jupyter-widgets/controls",
          "model_name": "HBoxModel",
          "state": {
            "_view_name": "HBoxView",
            "_dom_classes": [],
            "_model_name": "HBoxModel",
            "_view_module": "@jupyter-widgets/controls",
            "_model_module_version": "1.5.0",
            "_view_count": null,
            "_view_module_version": "1.5.0",
            "box_style": "",
            "layout": "IPY_MODEL_79a982cdd5114a3ea9dcd194558ad782",
            "_model_module": "@jupyter-widgets/controls",
            "children": [
              "IPY_MODEL_371f92b4670a4906ae2d42d80cf71c88",
              "IPY_MODEL_e0e5fb13b60e4e0e94462609909df1fb"
            ]
          }
        },
        "79a982cdd5114a3ea9dcd194558ad782": {
          "model_module": "@jupyter-widgets/base",
          "model_name": "LayoutModel",
          "state": {
            "_view_name": "LayoutView",
            "grid_template_rows": null,
            "right": null,
            "justify_content": null,
            "_view_module": "@jupyter-widgets/base",
            "overflow": null,
            "_model_module_version": "1.2.0",
            "_view_count": null,
            "flex_flow": null,
            "width": null,
            "min_width": null,
            "border": null,
            "align_items": null,
            "bottom": null,
            "_model_module": "@jupyter-widgets/base",
            "top": null,
            "grid_column": null,
            "overflow_y": null,
            "overflow_x": null,
            "grid_auto_flow": null,
            "grid_area": null,
            "grid_template_columns": null,
            "flex": null,
            "_model_name": "LayoutModel",
            "justify_items": null,
            "grid_row": null,
            "max_height": null,
            "align_content": null,
            "visibility": null,
            "align_self": null,
            "height": null,
            "min_height": null,
            "padding": null,
            "grid_auto_rows": null,
            "grid_gap": null,
            "max_width": null,
            "order": null,
            "_view_module_version": "1.2.0",
            "grid_template_areas": null,
            "object_position": null,
            "object_fit": null,
            "grid_auto_columns": null,
            "margin": null,
            "display": null,
            "left": null
          }
        },
        "371f92b4670a4906ae2d42d80cf71c88": {
          "model_module": "@jupyter-widgets/controls",
          "model_name": "IntProgressModel",
          "state": {
            "_view_name": "ProgressView",
            "style": "IPY_MODEL_fe84484b96394bb1a74259d66b7eb347",
            "_dom_classes": [],
            "description": "Downloading: 100%",
            "_model_name": "IntProgressModel",
            "bar_style": "success",
            "max": 267967963,
            "_view_module": "@jupyter-widgets/controls",
            "_model_module_version": "1.5.0",
            "value": 267967963,
            "_view_count": null,
            "_view_module_version": "1.5.0",
            "orientation": "horizontal",
            "min": 0,
            "description_tooltip": null,
            "_model_module": "@jupyter-widgets/controls",
            "layout": "IPY_MODEL_b76d771bdec249e2882c77bac00e254f"
          }
        },
        "e0e5fb13b60e4e0e94462609909df1fb": {
          "model_module": "@jupyter-widgets/controls",
          "model_name": "HTMLModel",
          "state": {
            "_view_name": "HTMLView",
            "style": "IPY_MODEL_baef5ab9c34b4cbca71e7f259bc99a74",
            "_dom_classes": [],
            "description": "",
            "_model_name": "HTMLModel",
            "placeholder": "​",
            "_view_module": "@jupyter-widgets/controls",
            "_model_module_version": "1.5.0",
            "value": " 268M/268M [00:20&lt;00:00, 13.0MB/s]",
            "_view_count": null,
            "_view_module_version": "1.5.0",
            "description_tooltip": null,
            "_model_module": "@jupyter-widgets/controls",
            "layout": "IPY_MODEL_0bae3515455f4edd8ae83df58982851e"
          }
        },
        "fe84484b96394bb1a74259d66b7eb347": {
          "model_module": "@jupyter-widgets/controls",
          "model_name": "ProgressStyleModel",
          "state": {
            "_view_name": "StyleView",
            "_model_name": "ProgressStyleModel",
            "description_width": "initial",
            "_view_module": "@jupyter-widgets/base",
            "_model_module_version": "1.5.0",
            "_view_count": null,
            "_view_module_version": "1.2.0",
            "bar_color": null,
            "_model_module": "@jupyter-widgets/controls"
          }
        },
        "b76d771bdec249e2882c77bac00e254f": {
          "model_module": "@jupyter-widgets/base",
          "model_name": "LayoutModel",
          "state": {
            "_view_name": "LayoutView",
            "grid_template_rows": null,
            "right": null,
            "justify_content": null,
            "_view_module": "@jupyter-widgets/base",
            "overflow": null,
            "_model_module_version": "1.2.0",
            "_view_count": null,
            "flex_flow": null,
            "width": null,
            "min_width": null,
            "border": null,
            "align_items": null,
            "bottom": null,
            "_model_module": "@jupyter-widgets/base",
            "top": null,
            "grid_column": null,
            "overflow_y": null,
            "overflow_x": null,
            "grid_auto_flow": null,
            "grid_area": null,
            "grid_template_columns": null,
            "flex": null,
            "_model_name": "LayoutModel",
            "justify_items": null,
            "grid_row": null,
            "max_height": null,
            "align_content": null,
            "visibility": null,
            "align_self": null,
            "height": null,
            "min_height": null,
            "padding": null,
            "grid_auto_rows": null,
            "grid_gap": null,
            "max_width": null,
            "order": null,
            "_view_module_version": "1.2.0",
            "grid_template_areas": null,
            "object_position": null,
            "object_fit": null,
            "grid_auto_columns": null,
            "margin": null,
            "display": null,
            "left": null
          }
        },
        "baef5ab9c34b4cbca71e7f259bc99a74": {
          "model_module": "@jupyter-widgets/controls",
          "model_name": "DescriptionStyleModel",
          "state": {
            "_view_name": "StyleView",
            "_model_name": "DescriptionStyleModel",
            "description_width": "",
            "_view_module": "@jupyter-widgets/base",
            "_model_module_version": "1.5.0",
            "_view_count": null,
            "_view_module_version": "1.2.0",
            "_model_module": "@jupyter-widgets/controls"
          }
        },
        "0bae3515455f4edd8ae83df58982851e": {
          "model_module": "@jupyter-widgets/base",
          "model_name": "LayoutModel",
          "state": {
            "_view_name": "LayoutView",
            "grid_template_rows": null,
            "right": null,
            "justify_content": null,
            "_view_module": "@jupyter-widgets/base",
            "overflow": null,
            "_model_module_version": "1.2.0",
            "_view_count": null,
            "flex_flow": null,
            "width": null,
            "min_width": null,
            "border": null,
            "align_items": null,
            "bottom": null,
            "_model_module": "@jupyter-widgets/base",
            "top": null,
            "grid_column": null,
            "overflow_y": null,
            "overflow_x": null,
            "grid_auto_flow": null,
            "grid_area": null,
            "grid_template_columns": null,
            "flex": null,
            "_model_name": "LayoutModel",
            "justify_items": null,
            "grid_row": null,
            "max_height": null,
            "align_content": null,
            "visibility": null,
            "align_self": null,
            "height": null,
            "min_height": null,
            "padding": null,
            "grid_auto_rows": null,
            "grid_gap": null,
            "max_width": null,
            "order": null,
            "_view_module_version": "1.2.0",
            "grid_template_areas": null,
            "object_position": null,
            "object_fit": null,
            "grid_auto_columns": null,
            "margin": null,
            "display": null,
            "left": null
          }
        }
      }
    }
  },
  "cells": [
    {
      "cell_type": "markdown",
      "metadata": {
        "id": "B3mbag40CLub",
        "colab_type": "text"
      },
      "source": [
        "# Textual Analysis of Company Business Models to Explain Varying Exposures to Covid-19 Market Shock\n",
        "\n",
        "Author: Adil Wahab, Aparna Raman, Di Yao, Missy Putur, Luke Towers <br>\n",
        "Date : April 19,2020"
      ]
    },
    {
      "cell_type": "markdown",
      "metadata": {
        "id": "XuotJl92Cpxw",
        "colab_type": "text"
      },
      "source": [
        "## Data Preparation\n",
        "**Please see the colab notebook BA870_group_project_scraping.ipynb on scrapping the company's description from Yahoo finance. We started this notebook by loading the exported file \"stock_dec.csv\"**"
      ]
    },
    {
      "cell_type": "code",
      "metadata": {
        "id": "i94Ks0C_B-TV",
        "colab_type": "code",
        "colab": {
          "base_uri": "https://localhost:8080/",
          "height": 747
        },
        "outputId": "6bf268d7-2a13-4748-a373-0f2adfe4f357"
      },
      "source": [
        "from google.colab import files\n",
        "import numpy as np\n",
        "import pandas as pd\n",
        "import statsmodels.api as sm\n",
        "from sklearn.model_selection import train_test_split\n",
        "from sklearn.linear_model import LogisticRegression\n",
        "from sklearn.model_selection import GridSearchCV\n",
        "from sklearn.model_selection import cross_val_score\n",
        "import torch\n",
        "import warnings\n",
        "\n",
        "!pip install transformers\n",
        "\n",
        "import transformers as ppb"
      ],
      "execution_count": null,
      "outputs": [
        {
          "output_type": "stream",
          "text": [
            "/usr/local/lib/python3.6/dist-packages/statsmodels/tools/_testing.py:19: FutureWarning: pandas.util.testing is deprecated. Use the functions in the public API at pandas.testing instead.\n",
            "  import pandas.util.testing as tm\n"
          ],
          "name": "stderr"
        },
        {
          "output_type": "stream",
          "text": [
            "Collecting transformers\n",
            "\u001b[?25l  Downloading https://files.pythonhosted.org/packages/a3/78/92cedda05552398352ed9784908b834ee32a0bd071a9b32de287327370b7/transformers-2.8.0-py3-none-any.whl (563kB)\n",
            "\u001b[K     |████████████████████████████████| 573kB 2.6MB/s \n",
            "\u001b[?25hCollecting sacremoses\n",
            "\u001b[?25l  Downloading https://files.pythonhosted.org/packages/99/50/93509f906a40bffd7d175f97fd75ea328ad9bd91f48f59c4bd084c94a25e/sacremoses-0.0.41.tar.gz (883kB)\n",
            "\u001b[K     |████████████████████████████████| 890kB 12.5MB/s \n",
            "\u001b[?25hCollecting tokenizers==0.5.2\n",
            "\u001b[?25l  Downloading https://files.pythonhosted.org/packages/d1/3f/73c881ea4723e43c1e9acf317cf407fab3a278daab3a69c98dcac511c04f/tokenizers-0.5.2-cp36-cp36m-manylinux1_x86_64.whl (3.7MB)\n",
            "\u001b[K     |████████████████████████████████| 3.7MB 11.6MB/s \n",
            "\u001b[?25hRequirement already satisfied: tqdm>=4.27 in /usr/local/lib/python3.6/dist-packages (from transformers) (4.38.0)\n",
            "Requirement already satisfied: boto3 in /usr/local/lib/python3.6/dist-packages (from transformers) (1.12.39)\n",
            "Requirement already satisfied: dataclasses; python_version < \"3.7\" in /usr/local/lib/python3.6/dist-packages (from transformers) (0.7)\n",
            "Requirement already satisfied: filelock in /usr/local/lib/python3.6/dist-packages (from transformers) (3.0.12)\n",
            "Requirement already satisfied: regex!=2019.12.17 in /usr/local/lib/python3.6/dist-packages (from transformers) (2019.12.20)\n",
            "Requirement already satisfied: numpy in /usr/local/lib/python3.6/dist-packages (from transformers) (1.18.2)\n",
            "Collecting sentencepiece\n",
            "\u001b[?25l  Downloading https://files.pythonhosted.org/packages/74/f4/2d5214cbf13d06e7cb2c20d84115ca25b53ea76fa1f0ade0e3c9749de214/sentencepiece-0.1.85-cp36-cp36m-manylinux1_x86_64.whl (1.0MB)\n",
            "\u001b[K     |████████████████████████████████| 1.0MB 35.7MB/s \n",
            "\u001b[?25hRequirement already satisfied: requests in /usr/local/lib/python3.6/dist-packages (from transformers) (2.21.0)\n",
            "Requirement already satisfied: six in /usr/local/lib/python3.6/dist-packages (from sacremoses->transformers) (1.12.0)\n",
            "Requirement already satisfied: click in /usr/local/lib/python3.6/dist-packages (from sacremoses->transformers) (7.1.1)\n",
            "Requirement already satisfied: joblib in /usr/local/lib/python3.6/dist-packages (from sacremoses->transformers) (0.14.1)\n",
            "Requirement already satisfied: botocore<1.16.0,>=1.15.39 in /usr/local/lib/python3.6/dist-packages (from boto3->transformers) (1.15.39)\n",
            "Requirement already satisfied: s3transfer<0.4.0,>=0.3.0 in /usr/local/lib/python3.6/dist-packages (from boto3->transformers) (0.3.3)\n",
            "Requirement already satisfied: jmespath<1.0.0,>=0.7.1 in /usr/local/lib/python3.6/dist-packages (from boto3->transformers) (0.9.5)\n",
            "Requirement already satisfied: idna<2.9,>=2.5 in /usr/local/lib/python3.6/dist-packages (from requests->transformers) (2.8)\n",
            "Requirement already satisfied: certifi>=2017.4.17 in /usr/local/lib/python3.6/dist-packages (from requests->transformers) (2020.4.5.1)\n",
            "Requirement already satisfied: chardet<3.1.0,>=3.0.2 in /usr/local/lib/python3.6/dist-packages (from requests->transformers) (3.0.4)\n",
            "Requirement already satisfied: urllib3<1.25,>=1.21.1 in /usr/local/lib/python3.6/dist-packages (from requests->transformers) (1.24.3)\n",
            "Requirement already satisfied: python-dateutil<3.0.0,>=2.1 in /usr/local/lib/python3.6/dist-packages (from botocore<1.16.0,>=1.15.39->boto3->transformers) (2.8.1)\n",
            "Requirement already satisfied: docutils<0.16,>=0.10 in /usr/local/lib/python3.6/dist-packages (from botocore<1.16.0,>=1.15.39->boto3->transformers) (0.15.2)\n",
            "Building wheels for collected packages: sacremoses\n",
            "  Building wheel for sacremoses (setup.py) ... \u001b[?25l\u001b[?25hdone\n",
            "  Created wheel for sacremoses: filename=sacremoses-0.0.41-cp36-none-any.whl size=893334 sha256=f29618aa619486f07151b3affbfeff595fab8a1c44ad1e18ae39765229561cb4\n",
            "  Stored in directory: /root/.cache/pip/wheels/22/5a/d4/b020a81249de7dc63758a34222feaa668dbe8ebfe9170cc9b1\n",
            "Successfully built sacremoses\n",
            "Installing collected packages: sacremoses, tokenizers, sentencepiece, transformers\n",
            "Successfully installed sacremoses-0.0.41 sentencepiece-0.1.85 tokenizers-0.5.2 transformers-2.8.0\n"
          ],
          "name": "stdout"
        }
      ]
    },
    {
      "cell_type": "code",
      "metadata": {
        "id": "UNn6ZLaMDi5l",
        "colab_type": "code",
        "colab": {
          "resources": {
            "http://localhost:8080/nbextensions/google.colab/files.js": {
              "data": "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",
              "ok": true,
              "headers": [
                [
                  "content-type",
                  "application/javascript"
                ]
              ],
              "status": 200,
              "status_text": ""
            }
          },
          "base_uri": "https://localhost:8080/",
          "height": 72
        },
        "outputId": "7354ff0c-a9e8-4b2d-ed78-b73b8b091774"
      },
      "source": [
        "uploaded = files.upload()"
      ],
      "execution_count": null,
      "outputs": [
        {
          "output_type": "display_data",
          "data": {
            "text/html": [
              "\n",
              "     <input type=\"file\" id=\"files-cde11b42-8686-4dc8-a237-4543ff5912d9\" name=\"files[]\" multiple disabled />\n",
              "     <output id=\"result-cde11b42-8686-4dc8-a237-4543ff5912d9\">\n",
              "      Upload widget is only available when the cell has been executed in the\n",
              "      current browser session. Please rerun this cell to enable.\n",
              "      </output>\n",
              "      <script src=\"/nbextensions/google.colab/files.js\"></script> "
            ],
            "text/plain": [
              "<IPython.core.display.HTML object>"
            ]
          },
          "metadata": {
            "tags": []
          }
        },
        {
          "output_type": "stream",
          "text": [
            "Saving stock_des.csv to stock_des.csv\n"
          ],
          "name": "stdout"
        }
      ]
    },
    {
      "cell_type": "code",
      "metadata": {
        "id": "-RlROWguDlRe",
        "colab_type": "code",
        "colab": {}
      },
      "source": [
        "dfDescriptions = pd.read_csv('stock_des.csv')"
      ],
      "execution_count": null,
      "outputs": []
    },
    {
      "cell_type": "code",
      "metadata": {
        "id": "f3Wsc2PJClNz",
        "colab_type": "code",
        "colab": {
          "resources": {
            "http://localhost:8080/nbextensions/google.colab/files.js": {
              "data": "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",
              "ok": true,
              "headers": [
                [
                  "content-type",
                  "application/javascript"
                ]
              ],
              "status": 200,
              "status_text": ""
            }
          },
          "base_uri": "https://localhost:8080/",
          "height": 72
        },
        "outputId": "0ebe3fc2-0836-4ff1-ca89-f1649d463928"
      },
      "source": [
        "uploaded = files.upload()"
      ],
      "execution_count": null,
      "outputs": [
        {
          "output_type": "display_data",
          "data": {
            "text/html": [
              "\n",
              "     <input type=\"file\" id=\"files-95312a0a-2327-48d7-8fbb-365ff87559c1\" name=\"files[]\" multiple disabled />\n",
              "     <output id=\"result-95312a0a-2327-48d7-8fbb-365ff87559c1\">\n",
              "      Upload widget is only available when the cell has been executed in the\n",
              "      current browser session. Please rerun this cell to enable.\n",
              "      </output>\n",
              "      <script src=\"/nbextensions/google.colab/files.js\"></script> "
            ],
            "text/plain": [
              "<IPython.core.display.HTML object>"
            ]
          },
          "metadata": {
            "tags": []
          }
        },
        {
          "output_type": "stream",
          "text": [
            "Saving BA870 Project Data 2020.xlsx to BA870 Project Data 2020.xlsx\n"
          ],
          "name": "stdout"
        }
      ]
    },
    {
      "cell_type": "code",
      "metadata": {
        "id": "qR4WGEZADiRM",
        "colab_type": "code",
        "colab": {}
      },
      "source": [
        "df = pd.read_excel('BA870 Project Data 2020.xlsx')"
      ],
      "execution_count": null,
      "outputs": []
    },
    {
      "cell_type": "markdown",
      "metadata": {
        "id": "9QcRPHoEEGbZ",
        "colab_type": "text"
      },
      "source": [
        "We divided the data into two buckets based on their returns for the past 3 months since COVID-19 began to heavily impact businesses globally.\n",
        "\n",
        "**The buckets are as follows:**\n",
        "\n",
        "\n",
        "*   **Bucket 1:** This bucket contains the ~top 20% of companies that have had the best returns over the last 3 months. The returns for these companies was greater than or equal to -15%\n",
        "*   **Bucket 2:** This bucket contains the ~bottom 80% of companies in terms of returns over the last 3 months. The returns for these companies was less than -15%. "
      ]
    },
    {
      "cell_type": "code",
      "metadata": {
        "id": "3Gb8aifsEHBy",
        "colab_type": "code",
        "colab": {
          "base_uri": "https://localhost:8080/",
          "height": 52
        },
        "outputId": "4f76a857-523f-4544-a3fe-6e0ddbe284c2"
      },
      "source": [
        "print(df.loc[df[\"3-mth Ret\"] >= -.15, '3-mth Ret'].count())\n",
        "print(df.loc[df[\"3-mth Ret\"] >= -.15, '3-mth Ret'].count()/ df.shape[0])"
      ],
      "execution_count": null,
      "outputs": [
        {
          "output_type": "stream",
          "text": [
            "263\n",
            "0.19324026451138868\n"
          ],
          "name": "stdout"
        }
      ]
    },
    {
      "cell_type": "markdown",
      "metadata": {
        "id": "2NHcNkxCEZv1",
        "colab_type": "text"
      },
      "source": [
        "Creating the buckets based on the greater than/less than -15% threshold described above."
      ]
    },
    {
      "cell_type": "code",
      "metadata": {
        "id": "YTBEH0z3EXSI",
        "colab_type": "code",
        "colab": {}
      },
      "source": [
        "df[\"3_month_bucket\"] = df[\"3-mth Ret\"].apply(lambda x: 0 if x < -.15 else 1)"
      ],
      "execution_count": null,
      "outputs": []
    },
    {
      "cell_type": "markdown",
      "metadata": {
        "id": "V-TtLBhKEh46",
        "colab_type": "text"
      },
      "source": [
        "With the breakdown, 1098 companies are in the \"Bottom 80%\" bucket and 263 companies are in the \"Top 20%\" bucket."
      ]
    },
    {
      "cell_type": "code",
      "metadata": {
        "id": "L8la279REilA",
        "colab_type": "code",
        "colab": {
          "base_uri": "https://localhost:8080/",
          "height": 87
        },
        "outputId": "4a83cb1c-7528-47c0-a91f-9ef9b5f0ae9b"
      },
      "source": [
        "df[\"3_month_bucket\"].groupby(df[\"3_month_bucket\"]).count()"
      ],
      "execution_count": null,
      "outputs": [
        {
          "output_type": "execute_result",
          "data": {
            "text/plain": [
              "3_month_bucket\n",
              "0    1098\n",
              "1     263\n",
              "Name: 3_month_bucket, dtype: int64"
            ]
          },
          "metadata": {
            "tags": []
          },
          "execution_count": 8
        }
      ]
    },
    {
      "cell_type": "markdown",
      "metadata": {
        "id": "pcDkG8HwEoBo",
        "colab_type": "text"
      },
      "source": [
        "Spot checking the data, we see that a couple of pharmaceutical or lab-based companies, as well as Zoom, are categorized in the \"Top 20%\" group as expected."
      ]
    },
    {
      "cell_type": "code",
      "metadata": {
        "id": "wQ4v_BvAEoj1",
        "colab_type": "code",
        "colab": {
          "base_uri": "https://localhost:8080/",
          "height": 593
        },
        "outputId": "dcc4daf0-990b-499d-ab99-74136e9c6902"
      },
      "source": [
        "df.loc[df['3_month_bucket'] == 1]"
      ],
      "execution_count": null,
      "outputs": [
        {
          "output_type": "execute_result",
          "data": {
            "text/html": [
              "<div>\n",
              "<style scoped>\n",
              "    .dataframe tbody tr th:only-of-type {\n",
              "        vertical-align: middle;\n",
              "    }\n",
              "\n",
              "    .dataframe tbody tr th {\n",
              "        vertical-align: top;\n",
              "    }\n",
              "\n",
              "    .dataframe thead th {\n",
              "        text-align: right;\n",
              "    }\n",
              "</style>\n",
              "<table border=\"1\" class=\"dataframe\">\n",
              "  <thead>\n",
              "    <tr style=\"text-align: right;\">\n",
              "      <th></th>\n",
              "      <th>tic</th>\n",
              "      <th>conm_x</th>\n",
              "      <th>Last Price</th>\n",
              "      <th>YTD Ret</th>\n",
              "      <th>1-mth Ret</th>\n",
              "      <th>3-mth Ret</th>\n",
              "      <th>12-mth Ret</th>\n",
              "      <th>BothSP-NASDAQ</th>\n",
              "      <th>SP500</th>\n",
              "      <th>Ticker</th>\n",
              "      <th>gvkey</th>\n",
              "      <th>datadate</th>\n",
              "      <th>fyear</th>\n",
              "      <th>cusip</th>\n",
              "      <th>conm_y</th>\n",
              "      <th>fyr</th>\n",
              "      <th>exchg</th>\n",
              "      <th>cik</th>\n",
              "      <th>fic</th>\n",
              "      <th>addzip</th>\n",
              "      <th>city</th>\n",
              "      <th>gsubind</th>\n",
              "      <th>naics</th>\n",
              "      <th>sic</th>\n",
              "      <th>state</th>\n",
              "      <th>PERMNO</th>\n",
              "      <th>date</th>\n",
              "      <th>NCUSIP</th>\n",
              "      <th>COMNAM</th>\n",
              "      <th>PERMCO</th>\n",
              "      <th>CUSIP</th>\n",
              "      <th>3_month_bucket</th>\n",
              "    </tr>\n",
              "  </thead>\n",
              "  <tbody>\n",
              "    <tr>\n",
              "      <th>2</th>\n",
              "      <td>AAON</td>\n",
              "      <td>Aaon Inc</td>\n",
              "      <td>44.91</td>\n",
              "      <td>-0.0911</td>\n",
              "      <td>-0.2006</td>\n",
              "      <td>-0.1080</td>\n",
              "      <td>-0.0194</td>\n",
              "      <td>0</td>\n",
              "      <td>0</td>\n",
              "      <td>AAON</td>\n",
              "      <td>21542.0</td>\n",
              "      <td>20191231.0</td>\n",
              "      <td>2019.0</td>\n",
              "      <td>360206</td>\n",
              "      <td>AAON INC</td>\n",
              "      <td>12.0</td>\n",
              "      <td>14.0</td>\n",
              "      <td>824142.0</td>\n",
              "      <td>USA</td>\n",
              "      <td>74107</td>\n",
              "      <td>Tulsa</td>\n",
              "      <td>20102010.0</td>\n",
              "      <td>333415.0</td>\n",
              "      <td>3585.0</td>\n",
              "      <td>OK</td>\n",
              "      <td>76868.0</td>\n",
              "      <td>20191231.0</td>\n",
              "      <td>36020</td>\n",
              "      <td>AAON INC</td>\n",
              "      <td>10817.0</td>\n",
              "      <td>36020</td>\n",
              "      <td>1</td>\n",
              "    </tr>\n",
              "    <tr>\n",
              "      <th>8</th>\n",
              "      <td>ABC</td>\n",
              "      <td>Amerisourcebergen Corp</td>\n",
              "      <td>81.34</td>\n",
              "      <td>-0.0433</td>\n",
              "      <td>-0.0528</td>\n",
              "      <td>-0.0318</td>\n",
              "      <td>0.0838</td>\n",
              "      <td>0</td>\n",
              "      <td>1</td>\n",
              "      <td>ABC</td>\n",
              "      <td>31673.0</td>\n",
              "      <td>20190930.0</td>\n",
              "      <td>2019.0</td>\n",
              "      <td>3.07E+108</td>\n",
              "      <td>AMERISOURCEBERGEN CORP</td>\n",
              "      <td>9.0</td>\n",
              "      <td>11.0</td>\n",
              "      <td>1140859.0</td>\n",
              "      <td>USA</td>\n",
              "      <td>19087</td>\n",
              "      <td>Chesterbrook</td>\n",
              "      <td>35102010.0</td>\n",
              "      <td>424210.0</td>\n",
              "      <td>5122.0</td>\n",
              "      <td>PA</td>\n",
              "      <td>81540.0</td>\n",
              "      <td>20191231.0</td>\n",
              "      <td>3.07E+13</td>\n",
              "      <td>AMERISOURCEBERGEN CORP</td>\n",
              "      <td>13650.0</td>\n",
              "      <td>3.07E+13</td>\n",
              "      <td>1</td>\n",
              "    </tr>\n",
              "    <tr>\n",
              "      <th>11</th>\n",
              "      <td>ABT</td>\n",
              "      <td>Abbott Laboratories</td>\n",
              "      <td>79.45</td>\n",
              "      <td>-0.0853</td>\n",
              "      <td>0.0187</td>\n",
              "      <td>-0.0750</td>\n",
              "      <td>-0.0006</td>\n",
              "      <td>0</td>\n",
              "      <td>1</td>\n",
              "      <td>ABT</td>\n",
              "      <td>1078.0</td>\n",
              "      <td>20191231.0</td>\n",
              "      <td>2019.0</td>\n",
              "      <td>2824100</td>\n",
              "      <td>ABBOTT LABORATORIES</td>\n",
              "      <td>12.0</td>\n",
              "      <td>11.0</td>\n",
              "      <td>1800.0</td>\n",
              "      <td>USA</td>\n",
              "      <td>60064</td>\n",
              "      <td>Abbott Park</td>\n",
              "      <td>35101010.0</td>\n",
              "      <td>334510.0</td>\n",
              "      <td>3845.0</td>\n",
              "      <td>IL</td>\n",
              "      <td>20482.0</td>\n",
              "      <td>20191231.0</td>\n",
              "      <td>282410</td>\n",
              "      <td>ABBOTT LABORATORIES</td>\n",
              "      <td>20017.0</td>\n",
              "      <td>282410</td>\n",
              "      <td>1</td>\n",
              "    </tr>\n",
              "    <tr>\n",
              "      <th>13</th>\n",
              "      <td>ACAD</td>\n",
              "      <td>Acadia Pharmaceutica</td>\n",
              "      <td>40.76</td>\n",
              "      <td>-0.0472</td>\n",
              "      <td>-0.0291</td>\n",
              "      <td>0.0102</td>\n",
              "      <td>0.4903</td>\n",
              "      <td>0</td>\n",
              "      <td>0</td>\n",
              "      <td>ACAD</td>\n",
              "      <td>141846.0</td>\n",
              "      <td>20191231.0</td>\n",
              "      <td>2019.0</td>\n",
              "      <td>4225108</td>\n",
              "      <td>ACADIA PHARMACEUTICALS INC</td>\n",
              "      <td>12.0</td>\n",
              "      <td>14.0</td>\n",
              "      <td>1070494.0</td>\n",
              "      <td>USA</td>\n",
              "      <td>92130</td>\n",
              "      <td>San Diego</td>\n",
              "      <td>35201010.0</td>\n",
              "      <td>325414.0</td>\n",
              "      <td>2836.0</td>\n",
              "      <td>CA</td>\n",
              "      <td>90177.0</td>\n",
              "      <td>20191231.0</td>\n",
              "      <td>422510</td>\n",
              "      <td>ACADIA PHARMACEUTICALS</td>\n",
              "      <td>45190.0</td>\n",
              "      <td>422510</td>\n",
              "      <td>1</td>\n",
              "    </tr>\n",
              "    <tr>\n",
              "      <th>16</th>\n",
              "      <td>ACIA</td>\n",
              "      <td>Acacia Communica</td>\n",
              "      <td>66.40</td>\n",
              "      <td>-0.0208</td>\n",
              "      <td>-0.0304</td>\n",
              "      <td>-0.0250</td>\n",
              "      <td>0.1239</td>\n",
              "      <td>0</td>\n",
              "      <td>0</td>\n",
              "      <td>ACIA</td>\n",
              "      <td>26722.0</td>\n",
              "      <td>20191231.0</td>\n",
              "      <td>2019.0</td>\n",
              "      <td>00401C108</td>\n",
              "      <td>ACACIA COMMUNICATIONS INC</td>\n",
              "      <td>12.0</td>\n",
              "      <td>14.0</td>\n",
              "      <td>1651235.0</td>\n",
              "      <td>USA</td>\n",
              "      <td>1754</td>\n",
              "      <td>Maynard</td>\n",
              "      <td>45201020.0</td>\n",
              "      <td>334220.0</td>\n",
              "      <td>3663.0</td>\n",
              "      <td>MA</td>\n",
              "      <td>16051.0</td>\n",
              "      <td>20191231.0</td>\n",
              "      <td>00401C10</td>\n",
              "      <td>ACACIA COMMUNICATIONS INC</td>\n",
              "      <td>55562.0</td>\n",
              "      <td>00401C10</td>\n",
              "      <td>1</td>\n",
              "    </tr>\n",
              "    <tr>\n",
              "      <th>...</th>\n",
              "      <td>...</td>\n",
              "      <td>...</td>\n",
              "      <td>...</td>\n",
              "      <td>...</td>\n",
              "      <td>...</td>\n",
              "      <td>...</td>\n",
              "      <td>...</td>\n",
              "      <td>...</td>\n",
              "      <td>...</td>\n",
              "      <td>...</td>\n",
              "      <td>...</td>\n",
              "      <td>...</td>\n",
              "      <td>...</td>\n",
              "      <td>...</td>\n",
              "      <td>...</td>\n",
              "      <td>...</td>\n",
              "      <td>...</td>\n",
              "      <td>...</td>\n",
              "      <td>...</td>\n",
              "      <td>...</td>\n",
              "      <td>...</td>\n",
              "      <td>...</td>\n",
              "      <td>...</td>\n",
              "      <td>...</td>\n",
              "      <td>...</td>\n",
              "      <td>...</td>\n",
              "      <td>...</td>\n",
              "      <td>...</td>\n",
              "      <td>...</td>\n",
              "      <td>...</td>\n",
              "      <td>...</td>\n",
              "      <td>...</td>\n",
              "    </tr>\n",
              "    <tr>\n",
              "      <th>1356</th>\n",
              "      <td>ZLAB</td>\n",
              "      <td>Zai Lab Ltd</td>\n",
              "      <td>51.55</td>\n",
              "      <td>0.2395</td>\n",
              "      <td>-0.1126</td>\n",
              "      <td>0.3005</td>\n",
              "      <td>0.6841</td>\n",
              "      <td>0</td>\n",
              "      <td>0</td>\n",
              "      <td>ZLAB</td>\n",
              "      <td>32334.0</td>\n",
              "      <td>20191231.0</td>\n",
              "      <td>2019.0</td>\n",
              "      <td>98887Q104</td>\n",
              "      <td>ZAI LAB LIMITED -ADS</td>\n",
              "      <td>12.0</td>\n",
              "      <td>14.0</td>\n",
              "      <td>1704292.0</td>\n",
              "      <td>CYM</td>\n",
              "      <td>201210</td>\n",
              "      <td>Shanghai</td>\n",
              "      <td>35201010.0</td>\n",
              "      <td>325414.0</td>\n",
              "      <td>2836.0</td>\n",
              "      <td>NaN</td>\n",
              "      <td>16938.0</td>\n",
              "      <td>20191231.0</td>\n",
              "      <td>98887Q10</td>\n",
              "      <td>ZAI LAB LIMITED</td>\n",
              "      <td>56070.0</td>\n",
              "      <td>98887Q10</td>\n",
              "      <td>1</td>\n",
              "    </tr>\n",
              "    <tr>\n",
              "      <th>1357</th>\n",
              "      <td>ZM</td>\n",
              "      <td>Zoom Video Communications Cl A</td>\n",
              "      <td>128.20</td>\n",
              "      <td>0.8842</td>\n",
              "      <td>0.0913</td>\n",
              "      <td>0.9055</td>\n",
              "      <td>1.0677</td>\n",
              "      <td>0</td>\n",
              "      <td>0</td>\n",
              "      <td>ZM</td>\n",
              "      <td>35005.0</td>\n",
              "      <td>20190131.0</td>\n",
              "      <td>2018.0</td>\n",
              "      <td>98980L101</td>\n",
              "      <td>ZOOM VIDEO COMUNICATIONS INC</td>\n",
              "      <td>1.0</td>\n",
              "      <td>14.0</td>\n",
              "      <td>1585521.0</td>\n",
              "      <td>USA</td>\n",
              "      <td>95113</td>\n",
              "      <td>San Jose</td>\n",
              "      <td>45103010.0</td>\n",
              "      <td>519130.0</td>\n",
              "      <td>7370.0</td>\n",
              "      <td>CA</td>\n",
              "      <td>18484.0</td>\n",
              "      <td>20191231.0</td>\n",
              "      <td>98980L10</td>\n",
              "      <td>ZOOM VIDEO COMMUNICATIONS INC</td>\n",
              "      <td>56690.0</td>\n",
              "      <td>98980L10</td>\n",
              "      <td>1</td>\n",
              "    </tr>\n",
              "    <tr>\n",
              "      <th>1358</th>\n",
              "      <td>ZNGA</td>\n",
              "      <td>Zynga Inc Cl A</td>\n",
              "      <td>6.64</td>\n",
              "      <td>0.0850</td>\n",
              "      <td>-0.0349</td>\n",
              "      <td>0.0658</td>\n",
              "      <td>0.2183</td>\n",
              "      <td>0</td>\n",
              "      <td>0</td>\n",
              "      <td>ZNGA</td>\n",
              "      <td>187576.0</td>\n",
              "      <td>20191231.0</td>\n",
              "      <td>2019.0</td>\n",
              "      <td>98986T108</td>\n",
              "      <td>ZYNGA INC</td>\n",
              "      <td>12.0</td>\n",
              "      <td>14.0</td>\n",
              "      <td>1439404.0</td>\n",
              "      <td>USA</td>\n",
              "      <td>94103</td>\n",
              "      <td>San Francisco</td>\n",
              "      <td>50202020.0</td>\n",
              "      <td>511210.0</td>\n",
              "      <td>7372.0</td>\n",
              "      <td>CA</td>\n",
              "      <td>13169.0</td>\n",
              "      <td>20191231.0</td>\n",
              "      <td>98986T10</td>\n",
              "      <td>ZYNGA INC</td>\n",
              "      <td>53965.0</td>\n",
              "      <td>98986T10</td>\n",
              "      <td>1</td>\n",
              "    </tr>\n",
              "    <tr>\n",
              "      <th>1359</th>\n",
              "      <td>ZS</td>\n",
              "      <td>Zscaler Inc</td>\n",
              "      <td>63.40</td>\n",
              "      <td>0.3634</td>\n",
              "      <td>0.2351</td>\n",
              "      <td>0.3381</td>\n",
              "      <td>-0.0857</td>\n",
              "      <td>0</td>\n",
              "      <td>0</td>\n",
              "      <td>ZS</td>\n",
              "      <td>33037.0</td>\n",
              "      <td>20190731.0</td>\n",
              "      <td>2019.0</td>\n",
              "      <td>98980G102</td>\n",
              "      <td>ZSCALER INC</td>\n",
              "      <td>7.0</td>\n",
              "      <td>14.0</td>\n",
              "      <td>1713683.0</td>\n",
              "      <td>USA</td>\n",
              "      <td>95134</td>\n",
              "      <td>San Jose</td>\n",
              "      <td>45103020.0</td>\n",
              "      <td>519130.0</td>\n",
              "      <td>7370.0</td>\n",
              "      <td>CA</td>\n",
              "      <td>17341.0</td>\n",
              "      <td>20191231.0</td>\n",
              "      <td>98980G10</td>\n",
              "      <td>ZSCALER INC</td>\n",
              "      <td>56287.0</td>\n",
              "      <td>98980G10</td>\n",
              "      <td>1</td>\n",
              "    </tr>\n",
              "    <tr>\n",
              "      <th>1360</th>\n",
              "      <td>ZTS</td>\n",
              "      <td>Zoetis Inc Cl A</td>\n",
              "      <td>114.61</td>\n",
              "      <td>-0.1340</td>\n",
              "      <td>-0.1649</td>\n",
              "      <td>-0.1457</td>\n",
              "      <td>0.1223</td>\n",
              "      <td>0</td>\n",
              "      <td>1</td>\n",
              "      <td>ZTS</td>\n",
              "      <td>13721.0</td>\n",
              "      <td>20191231.0</td>\n",
              "      <td>2019.0</td>\n",
              "      <td>98978V103</td>\n",
              "      <td>ZOETIS INC</td>\n",
              "      <td>12.0</td>\n",
              "      <td>11.0</td>\n",
              "      <td>1555280.0</td>\n",
              "      <td>USA</td>\n",
              "      <td>7054</td>\n",
              "      <td>Parsippany</td>\n",
              "      <td>35202010.0</td>\n",
              "      <td>325412.0</td>\n",
              "      <td>2834.0</td>\n",
              "      <td>NJ</td>\n",
              "      <td>13788.0</td>\n",
              "      <td>20191231.0</td>\n",
              "      <td>98978V10</td>\n",
              "      <td>ZOETIS INC</td>\n",
              "      <td>54327.0</td>\n",
              "      <td>98978V10</td>\n",
              "      <td>1</td>\n",
              "    </tr>\n",
              "  </tbody>\n",
              "</table>\n",
              "<p>263 rows × 32 columns</p>\n",
              "</div>"
            ],
            "text/plain": [
              "       tic                          conm_x  ...     CUSIP  3_month_bucket\n",
              "2     AAON                        Aaon Inc  ...     36020               1\n",
              "8      ABC          Amerisourcebergen Corp  ...  3.07E+13               1\n",
              "11     ABT             Abbott Laboratories  ...    282410               1\n",
              "13    ACAD            Acadia Pharmaceutica  ...    422510               1\n",
              "16    ACIA                Acacia Communica  ...  00401C10               1\n",
              "...    ...                             ...  ...       ...             ...\n",
              "1356  ZLAB                     Zai Lab Ltd  ...  98887Q10               1\n",
              "1357    ZM  Zoom Video Communications Cl A  ...  98980L10               1\n",
              "1358  ZNGA                  Zynga Inc Cl A  ...  98986T10               1\n",
              "1359    ZS                     Zscaler Inc  ...  98980G10               1\n",
              "1360   ZTS                 Zoetis Inc Cl A  ...  98978V10               1\n",
              "\n",
              "[263 rows x 32 columns]"
            ]
          },
          "metadata": {
            "tags": []
          },
          "execution_count": 9
        }
      ]
    },
    {
      "cell_type": "markdown",
      "metadata": {
        "id": "6jABZ4M-EzWW",
        "colab_type": "text"
      },
      "source": [
        "Merge two dataset into one"
      ]
    },
    {
      "cell_type": "code",
      "metadata": {
        "id": "Cm-11ulLE2IV",
        "colab_type": "code",
        "colab": {}
      },
      "source": [
        "dfDescriptions = pd.merge(dfDescriptions,\n",
        "                 df,\n",
        "                 how = 'left',\n",
        "                 left_on=\"ticker\", right_on=\"tic\")"
      ],
      "execution_count": null,
      "outputs": []
    },
    {
      "cell_type": "code",
      "metadata": {
        "id": "hGoBoDkQE3Xz",
        "colab_type": "code",
        "colab": {
          "base_uri": "https://localhost:8080/",
          "height": 517
        },
        "outputId": "c8ba8534-4286-4397-df18-97c39958b054"
      },
      "source": [
        "dfDescriptions.head()"
      ],
      "execution_count": null,
      "outputs": [
        {
          "output_type": "execute_result",
          "data": {
            "text/html": [
              "<div>\n",
              "<style scoped>\n",
              "    .dataframe tbody tr th:only-of-type {\n",
              "        vertical-align: middle;\n",
              "    }\n",
              "\n",
              "    .dataframe tbody tr th {\n",
              "        vertical-align: top;\n",
              "    }\n",
              "\n",
              "    .dataframe thead th {\n",
              "        text-align: right;\n",
              "    }\n",
              "</style>\n",
              "<table border=\"1\" class=\"dataframe\">\n",
              "  <thead>\n",
              "    <tr style=\"text-align: right;\">\n",
              "      <th></th>\n",
              "      <th>ticker</th>\n",
              "      <th>description</th>\n",
              "      <th>YTD</th>\n",
              "      <th>tic</th>\n",
              "      <th>conm_x</th>\n",
              "      <th>Last Price</th>\n",
              "      <th>YTD Ret</th>\n",
              "      <th>1-mth Ret</th>\n",
              "      <th>3-mth Ret</th>\n",
              "      <th>12-mth Ret</th>\n",
              "      <th>BothSP-NASDAQ</th>\n",
              "      <th>SP500</th>\n",
              "      <th>Ticker</th>\n",
              "      <th>gvkey</th>\n",
              "      <th>datadate</th>\n",
              "      <th>fyear</th>\n",
              "      <th>cusip</th>\n",
              "      <th>conm_y</th>\n",
              "      <th>fyr</th>\n",
              "      <th>exchg</th>\n",
              "      <th>cik</th>\n",
              "      <th>fic</th>\n",
              "      <th>addzip</th>\n",
              "      <th>city</th>\n",
              "      <th>gsubind</th>\n",
              "      <th>naics</th>\n",
              "      <th>sic</th>\n",
              "      <th>state</th>\n",
              "      <th>PERMNO</th>\n",
              "      <th>date</th>\n",
              "      <th>NCUSIP</th>\n",
              "      <th>COMNAM</th>\n",
              "      <th>PERMCO</th>\n",
              "      <th>CUSIP</th>\n",
              "      <th>3_month_bucket</th>\n",
              "    </tr>\n",
              "  </thead>\n",
              "  <tbody>\n",
              "    <tr>\n",
              "      <th>0</th>\n",
              "      <td>A</td>\n",
              "      <td>Agilent Technologies, Inc. provides applicatio...</td>\n",
              "      <td>-0.1745</td>\n",
              "      <td>A</td>\n",
              "      <td>Agilent Technologies</td>\n",
              "      <td>70.42</td>\n",
              "      <td>-0.1745</td>\n",
              "      <td>-0.1233</td>\n",
              "      <td>-0.1673</td>\n",
              "      <td>-0.1406</td>\n",
              "      <td>0</td>\n",
              "      <td>1</td>\n",
              "      <td>A</td>\n",
              "      <td>126554.0</td>\n",
              "      <td>20191031.0</td>\n",
              "      <td>2019.0</td>\n",
              "      <td>00846U101</td>\n",
              "      <td>AGILENT TECHNOLOGIES INC</td>\n",
              "      <td>10.0</td>\n",
              "      <td>11.0</td>\n",
              "      <td>1090872.0</td>\n",
              "      <td>USA</td>\n",
              "      <td>95051</td>\n",
              "      <td>Santa Clara</td>\n",
              "      <td>35203010.0</td>\n",
              "      <td>334516.0</td>\n",
              "      <td>3826.0</td>\n",
              "      <td>CA</td>\n",
              "      <td>87432.0</td>\n",
              "      <td>20191231.0</td>\n",
              "      <td>00846U10</td>\n",
              "      <td>AGILENT TECHNOLOGIES INC</td>\n",
              "      <td>36364.0</td>\n",
              "      <td>00846U10</td>\n",
              "      <td>0</td>\n",
              "    </tr>\n",
              "    <tr>\n",
              "      <th>1</th>\n",
              "      <td>AAL</td>\n",
              "      <td>American Airlines Group Inc., through its subs...</td>\n",
              "      <td>-0.6726</td>\n",
              "      <td>AAL</td>\n",
              "      <td>American Airlines Gp</td>\n",
              "      <td>9.39</td>\n",
              "      <td>-0.6726</td>\n",
              "      <td>-0.4739</td>\n",
              "      <td>-0.6604</td>\n",
              "      <td>-0.7214</td>\n",
              "      <td>1</td>\n",
              "      <td>1</td>\n",
              "      <td>AAL</td>\n",
              "      <td>1045.0</td>\n",
              "      <td>20191231.0</td>\n",
              "      <td>2019.0</td>\n",
              "      <td>02376R102</td>\n",
              "      <td>AMERICAN AIRLINES GROUP INC</td>\n",
              "      <td>12.0</td>\n",
              "      <td>14.0</td>\n",
              "      <td>6201.0</td>\n",
              "      <td>USA</td>\n",
              "      <td>76155</td>\n",
              "      <td>Fort Worth</td>\n",
              "      <td>20302010.0</td>\n",
              "      <td>481111.0</td>\n",
              "      <td>4512.0</td>\n",
              "      <td>TX</td>\n",
              "      <td>21020.0</td>\n",
              "      <td>20191231.0</td>\n",
              "      <td>02376R10</td>\n",
              "      <td>AMERICAN AIRLINES GROUP INC</td>\n",
              "      <td>20010.0</td>\n",
              "      <td>02376R10</td>\n",
              "      <td>0</td>\n",
              "    </tr>\n",
              "    <tr>\n",
              "      <th>2</th>\n",
              "      <td>AAON</td>\n",
              "      <td>AAON, Inc., together with its subsidiaries, en...</td>\n",
              "      <td>-0.0911</td>\n",
              "      <td>AAON</td>\n",
              "      <td>Aaon Inc</td>\n",
              "      <td>44.91</td>\n",
              "      <td>-0.0911</td>\n",
              "      <td>-0.2006</td>\n",
              "      <td>-0.1080</td>\n",
              "      <td>-0.0194</td>\n",
              "      <td>0</td>\n",
              "      <td>0</td>\n",
              "      <td>AAON</td>\n",
              "      <td>21542.0</td>\n",
              "      <td>20191231.0</td>\n",
              "      <td>2019.0</td>\n",
              "      <td>360206</td>\n",
              "      <td>AAON INC</td>\n",
              "      <td>12.0</td>\n",
              "      <td>14.0</td>\n",
              "      <td>824142.0</td>\n",
              "      <td>USA</td>\n",
              "      <td>74107</td>\n",
              "      <td>Tulsa</td>\n",
              "      <td>20102010.0</td>\n",
              "      <td>333415.0</td>\n",
              "      <td>3585.0</td>\n",
              "      <td>OK</td>\n",
              "      <td>76868.0</td>\n",
              "      <td>20191231.0</td>\n",
              "      <td>36020</td>\n",
              "      <td>AAON INC</td>\n",
              "      <td>10817.0</td>\n",
              "      <td>36020</td>\n",
              "      <td>1</td>\n",
              "    </tr>\n",
              "    <tr>\n",
              "      <th>3</th>\n",
              "      <td>AAP</td>\n",
              "      <td>Advance Auto Parts, Inc. provides automotive r...</td>\n",
              "      <td>-0.4715</td>\n",
              "      <td>AAP</td>\n",
              "      <td>Advance Auto Parts Inc</td>\n",
              "      <td>84.65</td>\n",
              "      <td>-0.4715</td>\n",
              "      <td>-0.3505</td>\n",
              "      <td>-0.4690</td>\n",
              "      <td>-0.5070</td>\n",
              "      <td>0</td>\n",
              "      <td>1</td>\n",
              "      <td>AAP</td>\n",
              "      <td>145977.0</td>\n",
              "      <td>20191231.0</td>\n",
              "      <td>2019.0</td>\n",
              "      <td>00751Y106</td>\n",
              "      <td>ADVANCE AUTO PARTS INC</td>\n",
              "      <td>12.0</td>\n",
              "      <td>11.0</td>\n",
              "      <td>1158449.0</td>\n",
              "      <td>USA</td>\n",
              "      <td>27604</td>\n",
              "      <td>Raleigh</td>\n",
              "      <td>25504050.0</td>\n",
              "      <td>441310.0</td>\n",
              "      <td>5531.0</td>\n",
              "      <td>NC</td>\n",
              "      <td>89217.0</td>\n",
              "      <td>20191231.0</td>\n",
              "      <td>00751Y10</td>\n",
              "      <td>ADVANCE AUTO PARTS INC</td>\n",
              "      <td>42402.0</td>\n",
              "      <td>00751Y10</td>\n",
              "      <td>0</td>\n",
              "    </tr>\n",
              "    <tr>\n",
              "      <th>4</th>\n",
              "      <td>AAPL</td>\n",
              "      <td>Apple Inc. designs, manufactures, and markets ...</td>\n",
              "      <td>-0.1779</td>\n",
              "      <td>AAPL</td>\n",
              "      <td>Apple Inc</td>\n",
              "      <td>241.41</td>\n",
              "      <td>-0.1779</td>\n",
              "      <td>-0.1656</td>\n",
              "      <td>-0.1883</td>\n",
              "      <td>0.2358</td>\n",
              "      <td>1</td>\n",
              "      <td>1</td>\n",
              "      <td>AAPL</td>\n",
              "      <td>1690.0</td>\n",
              "      <td>20190930.0</td>\n",
              "      <td>2019.0</td>\n",
              "      <td>37833100</td>\n",
              "      <td>APPLE INC</td>\n",
              "      <td>9.0</td>\n",
              "      <td>14.0</td>\n",
              "      <td>320193.0</td>\n",
              "      <td>USA</td>\n",
              "      <td>95014</td>\n",
              "      <td>Cupertino</td>\n",
              "      <td>45202030.0</td>\n",
              "      <td>334220.0</td>\n",
              "      <td>3663.0</td>\n",
              "      <td>CA</td>\n",
              "      <td>14593.0</td>\n",
              "      <td>20191231.0</td>\n",
              "      <td>3783310</td>\n",
              "      <td>APPLE INC</td>\n",
              "      <td>7.0</td>\n",
              "      <td>3783310</td>\n",
              "      <td>0</td>\n",
              "    </tr>\n",
              "  </tbody>\n",
              "</table>\n",
              "</div>"
            ],
            "text/plain": [
              "  ticker  ... 3_month_bucket\n",
              "0      A  ...              0\n",
              "1    AAL  ...              0\n",
              "2   AAON  ...              1\n",
              "3    AAP  ...              0\n",
              "4   AAPL  ...              0\n",
              "\n",
              "[5 rows x 35 columns]"
            ]
          },
          "metadata": {
            "tags": []
          },
          "execution_count": 11
        }
      ]
    },
    {
      "cell_type": "markdown",
      "metadata": {
        "id": "Wpze-u3HE9VF",
        "colab_type": "text"
      },
      "source": [
        "## DistilBert Model\n",
        "Utilizing pre-trained deep learning language models that are pre-trained on massive generic datasets (corpuses) that then can be fine-tuned for our tasks"
      ]
    },
    {
      "cell_type": "code",
      "metadata": {
        "id": "Zr5WeY4vFgmw",
        "colab_type": "code",
        "colab": {
          "base_uri": "https://localhost:8080/",
          "height": 166,
          "referenced_widgets": [
            "ab06670091444e25b0b6f91a7b5b2f8b",
            "a0d9e5bb23eb48a991e95f3617fa7379",
            "c84d5496fd0c498cb848135af3dcd162",
            "28ff746a77fb42db9e84abd294f3bb6b",
            "590c76e05efa44e8a0c4240251cdd450",
            "62a320403a3448638ee397de90acf26e",
            "1c4151a26dee49ec9ff9bf9d5a4fe3a9",
            "c651e8791f4247f29caa40519b4babaa",
            "7fe6c3ab7e444e91b1c330d774c9bd0b",
            "915ce56486d24885b50ba8f0c0c3739a",
            "64bb45799c7b44aaa396bbd1e5516b50",
            "448e7983f2d14b709b86338b21090270",
            "f7675e262af94ae19959fe734a0d293d",
            "1475b110bbbb478a940492a02a6b5fa1",
            "0a047578837446e4b37949e6da23606a",
            "6c84dfa3f0064f3288da4045f57e4ce3",
            "225dbba6c4544eae8288beaeae5417f9",
            "79a982cdd5114a3ea9dcd194558ad782",
            "371f92b4670a4906ae2d42d80cf71c88",
            "e0e5fb13b60e4e0e94462609909df1fb",
            "fe84484b96394bb1a74259d66b7eb347",
            "b76d771bdec249e2882c77bac00e254f",
            "baef5ab9c34b4cbca71e7f259bc99a74",
            "0bae3515455f4edd8ae83df58982851e"
          ]
        },
        "outputId": "9d7642ba-bc8d-4d26-8d5a-00361dd1b347"
      },
      "source": [
        "# For DistilBERT:\n",
        "model_class, tokenizer_class, pretrained_weights = (ppb.DistilBertModel, ppb.DistilBertTokenizer, 'distilbert-base-uncased')\n",
        "\n",
        "# Load pretrained model/tokenizer\n",
        "tokenizer = tokenizer_class.from_pretrained(pretrained_weights)\n",
        "model = model_class.from_pretrained(pretrained_weights)"
      ],
      "execution_count": null,
      "outputs": [
        {
          "output_type": "display_data",
          "data": {
            "application/vnd.jupyter.widget-view+json": {
              "model_id": "ab06670091444e25b0b6f91a7b5b2f8b",
              "version_minor": 0,
              "version_major": 2
            },
            "text/plain": [
              "HBox(children=(IntProgress(value=0, description='Downloading', max=231508, style=ProgressStyle(description_wid…"
            ]
          },
          "metadata": {
            "tags": []
          }
        },
        {
          "output_type": "stream",
          "text": [
            "\n"
          ],
          "name": "stdout"
        },
        {
          "output_type": "display_data",
          "data": {
            "application/vnd.jupyter.widget-view+json": {
              "model_id": "7fe6c3ab7e444e91b1c330d774c9bd0b",
              "version_minor": 0,
              "version_major": 2
            },
            "text/plain": [
              "HBox(children=(IntProgress(value=0, description='Downloading', max=546, style=ProgressStyle(description_width=…"
            ]
          },
          "metadata": {
            "tags": []
          }
        },
        {
          "output_type": "stream",
          "text": [
            "\n"
          ],
          "name": "stdout"
        },
        {
          "output_type": "display_data",
          "data": {
            "application/vnd.jupyter.widget-view+json": {
              "model_id": "225dbba6c4544eae8288beaeae5417f9",
              "version_minor": 0,
              "version_major": 2
            },
            "text/plain": [
              "HBox(children=(IntProgress(value=0, description='Downloading', max=267967963, style=ProgressStyle(description_…"
            ]
          },
          "metadata": {
            "tags": []
          }
        },
        {
          "output_type": "stream",
          "text": [
            "\n"
          ],
          "name": "stdout"
        }
      ]
    },
    {
      "cell_type": "markdown",
      "metadata": {
        "id": "fHToL_YEFn3-",
        "colab_type": "text"
      },
      "source": [
        "We were unable to run the DistilBert Model on all of the companies without running out of RAM space. We randomly chose 80% of rows to run through the model. We attempted running more than 80% or rows but were unsuccessful with any higher thresholds."
      ]
    },
    {
      "cell_type": "code",
      "metadata": {
        "id": "Vj3zDVU1ForJ",
        "colab_type": "code",
        "colab": {}
      },
      "source": [
        "dfDescriptions.sample()\n",
        "dfSample = dfDescriptions.sample(frac = .8, random_state = 870) "
      ],
      "execution_count": null,
      "outputs": []
    },
    {
      "cell_type": "markdown",
      "metadata": {
        "id": "jE_wD0wZFr4w",
        "colab_type": "text"
      },
      "source": [
        "The dataframe we were able to process included 1082 rows/companies."
      ]
    },
    {
      "cell_type": "code",
      "metadata": {
        "id": "4iC-v5OUFsxG",
        "colab_type": "code",
        "colab": {
          "base_uri": "https://localhost:8080/",
          "height": 34
        },
        "outputId": "f1e5101b-be96-4fa3-fc8f-ca2ac381a978"
      },
      "source": [
        "dfSample.shape"
      ],
      "execution_count": null,
      "outputs": [
        {
          "output_type": "execute_result",
          "data": {
            "text/plain": [
              "(1082, 35)"
            ]
          },
          "metadata": {
            "tags": []
          },
          "execution_count": 14
        }
      ]
    },
    {
      "cell_type": "markdown",
      "metadata": {
        "id": "FyViGoX2FwDJ",
        "colab_type": "text"
      },
      "source": [
        "When tokenizing the data we tested several different max_length values. The max_length field sets a limit on how many words from the summary will be saved. We attempted several different thresholds in an effort to balance giving the model robust enough data, keeping the data small enough that we would not run out of GPU space, and maximizing accuracy. We found the best balance of those factors came when we used the first 300 words from the descriptions."
      ]
    },
    {
      "cell_type": "code",
      "metadata": {
        "id": "BgW2TtRVFwxY",
        "colab_type": "code",
        "colab": {}
      },
      "source": [
        "# a. Tokenize to BERT's \n",
        "tokenized = dfSample['description'].apply((lambda x: tokenizer.encode(x, add_special_tokens=True, max_length = 300)))\n",
        "\n",
        "#token length 206 = 75% accuracy (20/80 split)\n",
        "#token length 300 = 80% accuracy (20/80 split)\n",
        "#token length 350 = 78% accuracy (20/80 split)"
      ],
      "execution_count": null,
      "outputs": []
    },
    {
      "cell_type": "markdown",
      "metadata": {
        "id": "-Y5RPKerF0hR",
        "colab_type": "text"
      },
      "source": [
        "Running the model:"
      ]
    },
    {
      "cell_type": "code",
      "metadata": {
        "id": "xVrTptGlF2C0",
        "colab_type": "code",
        "colab": {}
      },
      "source": [
        "# b. Pad the variables to be represented as batches \n",
        "max_len = 0\n",
        "for i in tokenized.values:\n",
        "    if len(i) > max_len:\n",
        "        max_len = len(i)\n",
        "\n",
        "padded = np.array([i + [0]*(max_len-len(i)) for i in tokenized.values])"
      ],
      "execution_count": null,
      "outputs": []
    },
    {
      "cell_type": "code",
      "metadata": {
        "id": "9LrTllvPF6wK",
        "colab_type": "code",
        "colab": {}
      },
      "source": [
        "# c. Mask the padding to prevent the model from getting confused by the variable paddings\n",
        "attention_mask = np.where(padded != 0, 1, 0)"
      ],
      "execution_count": null,
      "outputs": []
    },
    {
      "cell_type": "code",
      "metadata": {
        "id": "3hzpoMNSF9Hf",
        "colab_type": "code",
        "colab": {}
      },
      "source": [
        "# Run the model\n",
        "input_ids = torch.tensor(padded)  \n",
        "attention_mask = torch.tensor(attention_mask)\n",
        "\n",
        "with torch.no_grad():\n",
        "    last_hidden_states = model(input_ids, attention_mask=attention_mask)"
      ],
      "execution_count": null,
      "outputs": []
    },
    {
      "cell_type": "code",
      "metadata": {
        "id": "6kd_U9Q8F_Rh",
        "colab_type": "code",
        "colab": {}
      },
      "source": [
        "#Create features variable to be used for the logitics regression model\n",
        "features = last_hidden_states[0][:,0,:].numpy()\n",
        "# Change label to represent which returns bucket the company falls into\n",
        "labels = dfSample['3_month_bucket']"
      ],
      "execution_count": null,
      "outputs": []
    },
    {
      "cell_type": "markdown",
      "metadata": {
        "id": "jsWGYFliF5xt",
        "colab_type": "text"
      },
      "source": [
        "We trained the data on 75% of the rows from the sample and tested on the remaining 25%."
      ]
    },
    {
      "cell_type": "code",
      "metadata": {
        "id": "ymaaUOMzGD9z",
        "colab_type": "code",
        "colab": {
          "base_uri": "https://localhost:8080/",
          "height": 247
        },
        "outputId": "7bf4cd11-b477-4cce-bef1-056635baa447"
      },
      "source": [
        "# Split train/test\n",
        "train_features, test_features, train_labels, test_labels = train_test_split(features, labels, test_size = .25, random_state = 0)\n",
        "# Fit the model\n",
        "lr_clf = LogisticRegression()\n",
        "lr_clf.fit(train_features, train_labels)"
      ],
      "execution_count": null,
      "outputs": [
        {
          "output_type": "stream",
          "text": [
            "/usr/local/lib/python3.6/dist-packages/sklearn/linear_model/_logistic.py:940: ConvergenceWarning: lbfgs failed to converge (status=1):\n",
            "STOP: TOTAL NO. of ITERATIONS REACHED LIMIT.\n",
            "\n",
            "Increase the number of iterations (max_iter) or scale the data as shown in:\n",
            "    https://scikit-learn.org/stable/modules/preprocessing.html\n",
            "Please also refer to the documentation for alternative solver options:\n",
            "    https://scikit-learn.org/stable/modules/linear_model.html#logistic-regression\n",
            "  extra_warning_msg=_LOGISTIC_SOLVER_CONVERGENCE_MSG)\n"
          ],
          "name": "stderr"
        },
        {
          "output_type": "execute_result",
          "data": {
            "text/plain": [
              "LogisticRegression(C=1.0, class_weight=None, dual=False, fit_intercept=True,\n",
              "                   intercept_scaling=1, l1_ratio=None, max_iter=100,\n",
              "                   multi_class='auto', n_jobs=None, penalty='l2',\n",
              "                   random_state=None, solver='lbfgs', tol=0.0001, verbose=0,\n",
              "                   warm_start=False)"
            ]
          },
          "metadata": {
            "tags": []
          },
          "execution_count": 20
        }
      ]
    },
    {
      "cell_type": "code",
      "metadata": {
        "id": "dQdqK6VWGI-3",
        "colab_type": "code",
        "colab": {
          "base_uri": "https://localhost:8080/",
          "height": 34
        },
        "outputId": "cd0755db-8525-4dc9-bdba-837b9cde8612"
      },
      "source": [
        "lr_clf.score(test_features, test_labels)"
      ],
      "execution_count": null,
      "outputs": [
        {
          "output_type": "execute_result",
          "data": {
            "text/plain": [
              "0.7933579335793358"
            ]
          },
          "metadata": {
            "tags": []
          },
          "execution_count": 21
        }
      ]
    },
    {
      "cell_type": "markdown",
      "metadata": {
        "id": "ACPb8diMGS25",
        "colab_type": "text"
      },
      "source": [
        "## Naive Bayes \n",
        "The Naive Bayes classifier is a simple classifier that classifies based on probabilities of events. It's a commonly used method in text classification. \n",
        "\n",
        "We decided to also run a Naive Bayes model as part of our project, this is because of a few reasons. One is that the Naive Bayes works a lot better with categorical data, such as the text descriptions we are using, compared to numerical data relative to other potential models. It is also better in multi-class problems which is why it is used a lot in text classification problems and one of the reasons that we selected to use it for our project.\n",
        "\n"
      ]
    },
    {
      "cell_type": "code",
      "metadata": {
        "id": "2mTD63s0Hrh9",
        "colab_type": "code",
        "colab": {}
      },
      "source": [
        "dfDescriptions = dfDescriptions.filter(['ticker','description','3_month_bucket'], axis = 1)\n",
        "dfDescriptions['label'] = df['3_month_bucket']"
      ],
      "execution_count": null,
      "outputs": []
    },
    {
      "cell_type": "markdown",
      "metadata": {
        "id": "98VQxnpkHHAW",
        "colab_type": "text"
      },
      "source": [
        "Train and Test split and then vectorize words in dataset"
      ]
    },
    {
      "cell_type": "code",
      "metadata": {
        "id": "8FpUn5ZMGYc-",
        "colab_type": "code",
        "colab": {}
      },
      "source": [
        "from sklearn.model_selection import train_test_split\n",
        "X_train, X_test, y_train, y_test = train_test_split(dfDescriptions['description'], dfDescriptions['label'], random_state=1)\n",
        "\n",
        "from sklearn.feature_extraction.text import CountVectorizer\n",
        "\n",
        "cv = CountVectorizer(strip_accents='ascii', token_pattern=u'(?ui)\\\\b\\\\w*[a-z]+\\\\w*\\\\b', lowercase=True, stop_words='english')\n",
        "\n",
        "X_train_cv = cv.fit_transform(X_train)\n",
        "X_test_cv = cv.transform(X_test)"
      ],
      "execution_count": null,
      "outputs": []
    },
    {
      "cell_type": "markdown",
      "metadata": {
        "id": "BcYf4GkeHx8c",
        "colab_type": "text"
      },
      "source": [
        "Show words frequency:\n",
        "\n",
        "Here we are showing the frequency of different words within descriptions, as we would have thought the most common words are things such as 'company', 'products' etc. This makes sense considering we are looking at company descriptions, these are the words you would expect to find in most company descriptions. "
      ]
    },
    {
      "cell_type": "code",
      "metadata": {
        "id": "EsJc4DMWHDeU",
        "colab_type": "code",
        "colab": {
          "base_uri": "https://localhost:8080/",
          "height": 347
        },
        "outputId": "10049270-20fa-4514-d5a4-ccff5b93304b"
      },
      "source": [
        "word_freq_df = pd.DataFrame(X_train_cv.toarray(), columns=cv.get_feature_names())\n",
        "top_words_df = pd.DataFrame(word_freq_df.sum()).sort_values(0, ascending=False)\n",
        "top_words_df.head(10)"
      ],
      "execution_count": null,
      "outputs": [
        {
          "output_type": "execute_result",
          "data": {
            "text/html": [
              "<div>\n",
              "<style scoped>\n",
              "    .dataframe tbody tr th:only-of-type {\n",
              "        vertical-align: middle;\n",
              "    }\n",
              "\n",
              "    .dataframe tbody tr th {\n",
              "        vertical-align: top;\n",
              "    }\n",
              "\n",
              "    .dataframe thead th {\n",
              "        text-align: right;\n",
              "    }\n",
              "</style>\n",
              "<table border=\"1\" class=\"dataframe\">\n",
              "  <thead>\n",
              "    <tr style=\"text-align: right;\">\n",
              "      <th></th>\n",
              "      <th>0</th>\n",
              "    </tr>\n",
              "  </thead>\n",
              "  <tbody>\n",
              "    <tr>\n",
              "      <th>company</th>\n",
              "      <td>2930</td>\n",
              "    </tr>\n",
              "    <tr>\n",
              "      <th>services</th>\n",
              "      <td>2419</td>\n",
              "    </tr>\n",
              "    <tr>\n",
              "      <th>products</th>\n",
              "      <td>2033</td>\n",
              "    </tr>\n",
              "    <tr>\n",
              "      <th>provides</th>\n",
              "      <td>1392</td>\n",
              "    </tr>\n",
              "    <tr>\n",
              "      <th>offers</th>\n",
              "      <td>1240</td>\n",
              "    </tr>\n",
              "    <tr>\n",
              "      <th>segment</th>\n",
              "      <td>947</td>\n",
              "    </tr>\n",
              "    <tr>\n",
              "      <th>operates</th>\n",
              "      <td>862</td>\n",
              "    </tr>\n",
              "    <tr>\n",
              "      <th>founded</th>\n",
              "      <td>850</td>\n",
              "    </tr>\n",
              "    <tr>\n",
              "      <th>solutions</th>\n",
              "      <td>842</td>\n",
              "    </tr>\n",
              "    <tr>\n",
              "      <th>headquartered</th>\n",
              "      <td>817</td>\n",
              "    </tr>\n",
              "  </tbody>\n",
              "</table>\n",
              "</div>"
            ],
            "text/plain": [
              "                  0\n",
              "company        2930\n",
              "services       2419\n",
              "products       2033\n",
              "provides       1392\n",
              "offers         1240\n",
              "segment         947\n",
              "operates        862\n",
              "founded         850\n",
              "solutions       842\n",
              "headquartered   817"
            ]
          },
          "metadata": {
            "tags": []
          },
          "execution_count": 24
        }
      ]
    },
    {
      "cell_type": "markdown",
      "metadata": {
        "id": "uNWo1ATWH4w_",
        "colab_type": "text"
      },
      "source": [
        "Train the Naive Bayes model"
      ]
    },
    {
      "cell_type": "code",
      "metadata": {
        "id": "i3K4IdlJH8lF",
        "colab_type": "code",
        "colab": {}
      },
      "source": [
        "from sklearn.naive_bayes import MultinomialNB\n",
        "naive_bayes = MultinomialNB()\n",
        "naive_bayes.fit(X_train_cv, y_train)\n",
        "predictions = naive_bayes.predict(X_test_cv)"
      ],
      "execution_count": null,
      "outputs": []
    },
    {
      "cell_type": "code",
      "metadata": {
        "id": "dm973PXHH_LP",
        "colab_type": "code",
        "colab": {
          "base_uri": "https://localhost:8080/",
          "height": 70
        },
        "outputId": "2ea2cb66-a1cc-4523-82cc-d1a48bb4a929"
      },
      "source": [
        "from sklearn.metrics import accuracy_score, precision_score, recall_score\n",
        "print('Accuracy score: ', accuracy_score(y_test, predictions))\n",
        "print('Precision score: ', precision_score(y_test, predictions))\n",
        "print('Recall score: ', recall_score(y_test, predictions))"
      ],
      "execution_count": null,
      "outputs": [
        {
          "output_type": "stream",
          "text": [
            "Accuracy score:  0.8141592920353983\n",
            "Precision score:  0.36363636363636365\n",
            "Recall score:  0.06666666666666667\n"
          ],
          "name": "stdout"
        }
      ]
    },
    {
      "cell_type": "markdown",
      "metadata": {
        "id": "S-u8lDalzXHI",
        "colab_type": "text"
      },
      "source": [
        "We can see above that we have an accuracy of 0.81 or 81%. This accuracy is not that great. This is because we have separated our data into 2 buckets, bottom 80%, and top 20%. Therefore if you were to randomly place 80% of observations in one bucket and 20% in another the accuracy should also be around 80%. However, because our accuracy is around 81% it shows that there is a slight relationship between the individual words in a description and the stock price change over the last 3 months. "
      ]
    },
    {
      "cell_type": "code",
      "metadata": {
        "id": "1C1Bvpt3IB4G",
        "colab_type": "code",
        "colab": {
          "base_uri": "https://localhost:8080/",
          "height": 296
        },
        "outputId": "d2101971-bf42-4945-bff9-4d2e5718f542"
      },
      "source": [
        "from sklearn.metrics import confusion_matrix\n",
        "import matplotlib.pyplot as plt\n",
        "import seaborn as sns\n",
        "\n",
        "cm = confusion_matrix(y_test, predictions)\n",
        "\n",
        "sns.heatmap(cm, square=True, annot=True, cmap='RdBu', cbar=False,\n",
        "xticklabels=['Bottom Bucket', 'Top Bucket'], yticklabels=['Bottom Bucket', 'Top Bucket'])\n",
        "plt.xlabel('true label')\n",
        "plt.ylabel('predicted label')"
      ],
      "execution_count": null,
      "outputs": [
        {
          "output_type": "execute_result",
          "data": {
            "text/plain": [
              "Text(91.68, 0.5, 'predicted label')"
            ]
          },
          "metadata": {
            "tags": []
          },
          "execution_count": 27
        },
        {
          "output_type": "display_data",
          "data": {
            "image/png": "[encoded data removed]",
            "text/plain": [
              "<Figure size 432x288 with 1 Axes>"
            ]
          },
          "metadata": {
            "tags": [],
            "needs_background": "light"
          }
        }
      ]
    },
    {
      "cell_type": "markdown",
      "metadata": {
        "id": "hAm2NngPINur",
        "colab_type": "text"
      },
      "source": [
        "**Feature Importance**\n",
        "\n",
        "To explore feature importance we first reviewed the top most important words first for each segment, but they returned similar results. To try to get a list of more unique words that still contributed strongly to the estimation, we updated the range to include the top 30 through 50 words. \n",
        "\n",
        "You can see from the keywords that those companies that were in the top 20% of companies used words such as software and cloud, whereas the other 80% had words such as retail, insurance. It would make sense that cloud and software companies are less affected by the COVID-19 pandemic because a lot of their services can be done remotely. It is retail and restaurants and real estate that would suffer more in this crisis. "
      ]
    },
    {
      "cell_type": "code",
      "metadata": {
        "id": "p4c9eIXhIS2R",
        "colab_type": "code",
        "colab": {}
      },
      "source": [
        "def important_features(vectorizer,classifier):\n",
        "    class_labels = classifier.classes_\n",
        "    feature_names =vectorizer.get_feature_names()\n",
        "\n",
        "    topn_class1 = sorted(zip(classifier.feature_count_[0], feature_names),reverse=True)[30:50]\n",
        "    topn_class2 = sorted(zip(classifier.feature_count_[1], feature_names),reverse=True)[30:50]\n",
        "\n",
        "    print(\"Important words in bottom 80%\")\n",
        "\n",
        "    for coef, feat in topn_class1:\n",
        "        print(class_labels[0], coef, feat)\n",
        "\n",
        "    print(\"-----------------------------------------\")\n",
        "    print(\"Important words in top 20%\")\n",
        "\n",
        "    for coef, feat in topn_class2:\n",
        "        print(class_labels[1], coef, feat)"
      ],
      "execution_count": null,
      "outputs": []
    },
    {
      "cell_type": "code",
      "metadata": {
        "id": "zCTPuMbMI9jQ",
        "colab_type": "code",
        "colab": {
          "base_uri": "https://localhost:8080/",
          "height": 781
        },
        "outputId": "b5a2efdc-067f-438a-f01e-0ea0b36fab8b"
      },
      "source": [
        "# this is the vectorizer = cv cv.get_feature_names()\n",
        "important_features(cv, naive_bayes)"
      ],
      "execution_count": null,
      "outputs": [
        {
          "output_type": "stream",
          "text": [
            "Important words in bottom 80%\n",
            "0 298.0 insurance\n",
            "0 292.0 banking\n",
            "0 284.0 customers\n",
            "0 279.0 retail\n",
            "0 277.0 business\n",
            "0 276.0 consumer\n",
            "0 270.0 segments\n",
            "0 269.0 financial\n",
            "0 268.0 new\n",
            "0 247.0 development\n",
            "0 246.0 real\n",
            "0 246.0 industrial\n",
            "0 224.0 investment\n",
            "0 224.0 health\n",
            "0 224.0 amp\n",
            "0 222.0 gas\n",
            "0 221.0 technology\n",
            "0 216.0 home\n",
            "0 214.0 mobile\n",
            "0 214.0 estate\n",
            "-----------------------------------------\n",
            "Important words in top 20%\n",
            "1 75.0 software\n",
            "1 75.0 segments\n",
            "1 74.0 markets\n",
            "1 73.0 banking\n",
            "1 72.0 retail\n",
            "1 70.0 service\n",
            "1 69.0 new\n",
            "1 69.0 consumer\n",
            "1 65.0 phase\n",
            "1 65.0 applications\n",
            "1 63.0 natural\n",
            "1 60.0 equipment\n",
            "1 58.0 primarily\n",
            "1 57.0 cloud\n",
            "1 57.0 accounts\n",
            "1 56.0 insurance\n",
            "1 56.0 care\n",
            "1 56.0 amp\n",
            "1 55.0 credit\n",
            "1 54.0 network\n"
          ],
          "name": "stdout"
        }
      ]
    },
    {
      "cell_type": "markdown",
      "metadata": {
        "id": "57brT98g4u1P",
        "colab_type": "text"
      },
      "source": [
        "# Conclusion\n"
      ]
    },
    {
      "cell_type": "markdown",
      "metadata": {
        "id": "8v2z__wL42k2",
        "colab_type": "text"
      },
      "source": [
        "To conclude on our analysis, we found that we were able to get some predictive power from analyzing the descriptions of companies and the returns of those companies in the last 3 months. Being restricted to using 2 buckets meant that we could only look at companies in the top 20% and then the rest of the companies in the bottom 80%.\n",
        "Had we had more time we also would have like to run some other models to determine if we were maximizing the accuracy of our analysis.\n",
        "\n",
        "We are confident that there is a relationship between the descriptions of companies and the relative return in the last 3 months. It would seem companies in the software space and cloud-based companies were not as heavily affected as those that are in retail and the restaurant industry.\n",
        "\n",
        "One limitation that we have with this data is the variation in industries, for example, restaurants are not typically traded on the stock exchange and therefore their data was not included. It would have been interesting to see how the COVID pandemic in the last 3 months typically affected the restaurant industry as a whole, and maybe other industries that are not heavily represented on our dataset.\n",
        "\n",
        "It also would have been interesting to run a similar analysis using a different outcome variable, such as revenue. This would have given us a different outlook and most probably different results, which we then could have compared to the 3-month returns.\n",
        "\n"
      ]
    }
  ]
}