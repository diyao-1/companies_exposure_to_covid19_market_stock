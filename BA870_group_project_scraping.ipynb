{
  "nbformat": 4,
  "nbformat_minor": 0,
  "metadata": {
    "colab": {
      "name": " BA870_group_project_scraping.ipynb",
      "provenance": [],
      "collapsed_sections": []
    },
    "kernelspec": {
      "name": "python3",
      "display_name": "Python 3"
    },
    "accelerator": "GPU"
  },
  "cells": [
    {
      "cell_type": "code",
      "metadata": {
        "id": "DI22PYzQBg02",
        "colab_type": "code",
        "colab": {
          "base_uri": "https://localhost:8080/",
          "height": 119
        },
        "outputId": "7605de69-b708-4407-abe3-a4893779aa33"
      },
      "source": [
        "# Install necessary Python libraries\n",
        "! pip install requests\n",
        "! pip install beautifulsoup4\n",
        "import requests\n",
        "from bs4 import BeautifulSoup\n",
        "from google.colab import files"
      ],
      "execution_count": null,
      "outputs": [
        {
          "output_type": "stream",
          "text": [
            "Requirement already satisfied: requests in /usr/local/lib/python3.6/dist-packages (2.21.0)\n",
            "Requirement already satisfied: idna<2.9,>=2.5 in /usr/local/lib/python3.6/dist-packages (from requests) (2.8)\n",
            "Requirement already satisfied: chardet<3.1.0,>=3.0.2 in /usr/local/lib/python3.6/dist-packages (from requests) (3.0.4)\n",
            "Requirement already satisfied: urllib3<1.25,>=1.21.1 in /usr/local/lib/python3.6/dist-packages (from requests) (1.24.3)\n",
            "Requirement already satisfied: certifi>=2017.4.17 in /usr/local/lib/python3.6/dist-packages (from requests) (2020.4.5.1)\n",
            "Requirement already satisfied: beautifulsoup4 in /usr/local/lib/python3.6/dist-packages (4.6.3)\n"
          ],
          "name": "stdout"
        }
      ]
    },
    {
      "cell_type": "code",
      "metadata": {
        "id": "Q6hnBPR2vDYp",
        "colab_type": "code",
        "colab": {}
      },
      "source": [
        "import numpy as np\n",
        "import pandas as pd"
      ],
      "execution_count": null,
      "outputs": []
    },
    {
      "cell_type": "code",
      "metadata": {
        "id": "9Iv4Z4ffJjaG",
        "colab_type": "code",
        "colab": {
          "resources": {
            "http://localhost:8080/nbextensions/google.colab/files.js": {
              "data": "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",
              "ok": true,
              "headers": [
                [
                  "content-type",
                  "application/javascript"
                ]
              ],
              "status": 200,
              "status_text": ""
            }
          },
          "base_uri": "https://localhost:8080/",
          "height": 71
        },
        "outputId": "684dea23-9f40-4686-a64d-2d20ca9d54e7"
      },
      "source": [
        "# Upload all stocks\n",
        "uploaded = files.upload()"
      ],
      "execution_count": null,
      "outputs": [
        {
          "output_type": "display_data",
          "data": {
            "text/html": [
              "\n",
              "     <input type=\"file\" id=\"files-4301bb33-d11f-422b-a138-38f4747c9416\" name=\"files[]\" multiple disabled />\n",
              "     <output id=\"result-4301bb33-d11f-422b-a138-38f4747c9416\">\n",
              "      Upload widget is only available when the cell has been executed in the\n",
              "      current browser session. Please rerun this cell to enable.\n",
              "      </output>\n",
              "      <script src=\"/nbextensions/google.colab/files.js\"></script> "
            ],
            "text/plain": [
              "<IPython.core.display.HTML object>"
            ]
          },
          "metadata": {
            "tags": []
          }
        },
        {
          "output_type": "stream",
          "text": [
            "Saving BA870 Project Data 2020.csv to BA870 Project Data 2020.csv\n"
          ],
          "name": "stdout"
        }
      ]
    },
    {
      "cell_type": "code",
      "metadata": {
        "id": "4TJGl70zu8AS",
        "colab_type": "code",
        "colab": {
          "base_uri": "https://localhost:8080/",
          "height": 360
        },
        "outputId": "9094187f-bf5a-46d5-f9f6-809456ef6504"
      },
      "source": [
        "df = pd.read_csv('BA870 Project Data 2020.csv')\n",
        "df.head()"
      ],
      "execution_count": null,
      "outputs": [
        {
          "output_type": "execute_result",
          "data": {
            "text/html": [
              "<div>\n",
              "<style scoped>\n",
              "    .dataframe tbody tr th:only-of-type {\n",
              "        vertical-align: middle;\n",
              "    }\n",
              "\n",
              "    .dataframe tbody tr th {\n",
              "        vertical-align: top;\n",
              "    }\n",
              "\n",
              "    .dataframe thead th {\n",
              "        text-align: right;\n",
              "    }\n",
              "</style>\n",
              "<table border=\"1\" class=\"dataframe\">\n",
              "  <thead>\n",
              "    <tr style=\"text-align: right;\">\n",
              "      <th></th>\n",
              "      <th>tic</th>\n",
              "      <th>conm_x</th>\n",
              "      <th>Last Price</th>\n",
              "      <th>YTD Ret</th>\n",
              "      <th>1-mth Ret</th>\n",
              "      <th>3-mth Ret</th>\n",
              "      <th>12-mth Ret</th>\n",
              "      <th>BothSP-NASDAQ</th>\n",
              "      <th>SP500</th>\n",
              "      <th>Ticker</th>\n",
              "      <th>gvkey</th>\n",
              "      <th>datadate</th>\n",
              "      <th>fyear</th>\n",
              "      <th>cusip</th>\n",
              "      <th>conm_y</th>\n",
              "      <th>fyr</th>\n",
              "      <th>exchg</th>\n",
              "      <th>cik</th>\n",
              "      <th>fic</th>\n",
              "      <th>addzip</th>\n",
              "      <th>city</th>\n",
              "      <th>gsubind</th>\n",
              "      <th>naics</th>\n",
              "      <th>sic</th>\n",
              "      <th>state</th>\n",
              "      <th>PERMNO</th>\n",
              "      <th>date</th>\n",
              "      <th>NCUSIP</th>\n",
              "      <th>COMNAM</th>\n",
              "      <th>PERMCO</th>\n",
              "      <th>CUSIP</th>\n",
              "    </tr>\n",
              "  </thead>\n",
              "  <tbody>\n",
              "    <tr>\n",
              "      <th>0</th>\n",
              "      <td>A</td>\n",
              "      <td>Agilent Technologies</td>\n",
              "      <td>70.42</td>\n",
              "      <td>-0.1745</td>\n",
              "      <td>-0.1233</td>\n",
              "      <td>-0.1673</td>\n",
              "      <td>-0.1406</td>\n",
              "      <td>0</td>\n",
              "      <td>1</td>\n",
              "      <td>A</td>\n",
              "      <td>126554.0</td>\n",
              "      <td>20191031.0</td>\n",
              "      <td>2019.0</td>\n",
              "      <td>00846U101</td>\n",
              "      <td>AGILENT TECHNOLOGIES INC</td>\n",
              "      <td>10.0</td>\n",
              "      <td>11.0</td>\n",
              "      <td>1090872.0</td>\n",
              "      <td>USA</td>\n",
              "      <td>95051</td>\n",
              "      <td>Santa Clara</td>\n",
              "      <td>35203010.0</td>\n",
              "      <td>334516.0</td>\n",
              "      <td>3826.0</td>\n",
              "      <td>CA</td>\n",
              "      <td>87432.0</td>\n",
              "      <td>20191231.0</td>\n",
              "      <td>00846U10</td>\n",
              "      <td>AGILENT TECHNOLOGIES INC</td>\n",
              "      <td>36364.0</td>\n",
              "      <td>00846U10</td>\n",
              "    </tr>\n",
              "    <tr>\n",
              "      <th>1</th>\n",
              "      <td>AAL</td>\n",
              "      <td>American Airlines Gp</td>\n",
              "      <td>9.39</td>\n",
              "      <td>-0.6726</td>\n",
              "      <td>-0.4739</td>\n",
              "      <td>-0.6604</td>\n",
              "      <td>-0.7214</td>\n",
              "      <td>1</td>\n",
              "      <td>1</td>\n",
              "      <td>AAL</td>\n",
              "      <td>1045.0</td>\n",
              "      <td>20191231.0</td>\n",
              "      <td>2019.0</td>\n",
              "      <td>02376R102</td>\n",
              "      <td>AMERICAN AIRLINES GROUP INC</td>\n",
              "      <td>12.0</td>\n",
              "      <td>14.0</td>\n",
              "      <td>6201.0</td>\n",
              "      <td>USA</td>\n",
              "      <td>76155</td>\n",
              "      <td>Fort Worth</td>\n",
              "      <td>20302010.0</td>\n",
              "      <td>481111.0</td>\n",
              "      <td>4512.0</td>\n",
              "      <td>TX</td>\n",
              "      <td>21020.0</td>\n",
              "      <td>20191231.0</td>\n",
              "      <td>02376R10</td>\n",
              "      <td>AMERICAN AIRLINES GROUP INC</td>\n",
              "      <td>20010.0</td>\n",
              "      <td>02376R10</td>\n",
              "    </tr>\n",
              "    <tr>\n",
              "      <th>2</th>\n",
              "      <td>AAON</td>\n",
              "      <td>Aaon Inc</td>\n",
              "      <td>44.91</td>\n",
              "      <td>-0.0911</td>\n",
              "      <td>-0.2006</td>\n",
              "      <td>-0.1080</td>\n",
              "      <td>-0.0194</td>\n",
              "      <td>0</td>\n",
              "      <td>0</td>\n",
              "      <td>AAON</td>\n",
              "      <td>21542.0</td>\n",
              "      <td>20191231.0</td>\n",
              "      <td>2019.0</td>\n",
              "      <td>360206</td>\n",
              "      <td>AAON INC</td>\n",
              "      <td>12.0</td>\n",
              "      <td>14.0</td>\n",
              "      <td>824142.0</td>\n",
              "      <td>USA</td>\n",
              "      <td>74107</td>\n",
              "      <td>Tulsa</td>\n",
              "      <td>20102010.0</td>\n",
              "      <td>333415.0</td>\n",
              "      <td>3585.0</td>\n",
              "      <td>OK</td>\n",
              "      <td>76868.0</td>\n",
              "      <td>20191231.0</td>\n",
              "      <td>36020</td>\n",
              "      <td>AAON INC</td>\n",
              "      <td>10817.0</td>\n",
              "      <td>36020</td>\n",
              "    </tr>\n",
              "    <tr>\n",
              "      <th>3</th>\n",
              "      <td>AAP</td>\n",
              "      <td>Advance Auto Parts Inc</td>\n",
              "      <td>84.65</td>\n",
              "      <td>-0.4715</td>\n",
              "      <td>-0.3505</td>\n",
              "      <td>-0.4690</td>\n",
              "      <td>-0.5070</td>\n",
              "      <td>0</td>\n",
              "      <td>1</td>\n",
              "      <td>AAP</td>\n",
              "      <td>145977.0</td>\n",
              "      <td>20191231.0</td>\n",
              "      <td>2019.0</td>\n",
              "      <td>00751Y106</td>\n",
              "      <td>ADVANCE AUTO PARTS INC</td>\n",
              "      <td>12.0</td>\n",
              "      <td>11.0</td>\n",
              "      <td>1158449.0</td>\n",
              "      <td>USA</td>\n",
              "      <td>27604</td>\n",
              "      <td>Raleigh</td>\n",
              "      <td>25504050.0</td>\n",
              "      <td>441310.0</td>\n",
              "      <td>5531.0</td>\n",
              "      <td>NC</td>\n",
              "      <td>89217.0</td>\n",
              "      <td>20191231.0</td>\n",
              "      <td>00751Y10</td>\n",
              "      <td>ADVANCE AUTO PARTS INC</td>\n",
              "      <td>42402.0</td>\n",
              "      <td>00751Y10</td>\n",
              "    </tr>\n",
              "    <tr>\n",
              "      <th>4</th>\n",
              "      <td>AAPL</td>\n",
              "      <td>Apple Inc</td>\n",
              "      <td>241.41</td>\n",
              "      <td>-0.1779</td>\n",
              "      <td>-0.1656</td>\n",
              "      <td>-0.1883</td>\n",
              "      <td>0.2358</td>\n",
              "      <td>1</td>\n",
              "      <td>1</td>\n",
              "      <td>AAPL</td>\n",
              "      <td>1690.0</td>\n",
              "      <td>20190930.0</td>\n",
              "      <td>2019.0</td>\n",
              "      <td>37833100</td>\n",
              "      <td>APPLE INC</td>\n",
              "      <td>9.0</td>\n",
              "      <td>14.0</td>\n",
              "      <td>320193.0</td>\n",
              "      <td>USA</td>\n",
              "      <td>95014</td>\n",
              "      <td>Cupertino</td>\n",
              "      <td>45202030.0</td>\n",
              "      <td>334220.0</td>\n",
              "      <td>3663.0</td>\n",
              "      <td>CA</td>\n",
              "      <td>14593.0</td>\n",
              "      <td>20191231.0</td>\n",
              "      <td>3783310</td>\n",
              "      <td>APPLE INC</td>\n",
              "      <td>7.0</td>\n",
              "      <td>3783310</td>\n",
              "    </tr>\n",
              "  </tbody>\n",
              "</table>\n",
              "</div>"
            ],
            "text/plain": [
              "    tic                  conm_x  ...   PERMCO     CUSIP\n",
              "0     A    Agilent Technologies  ...  36364.0  00846U10\n",
              "1   AAL    American Airlines Gp  ...  20010.0  02376R10\n",
              "2  AAON                Aaon Inc  ...  10817.0     36020\n",
              "3   AAP  Advance Auto Parts Inc  ...  42402.0  00751Y10\n",
              "4  AAPL               Apple Inc  ...      7.0   3783310\n",
              "\n",
              "[5 rows x 31 columns]"
            ]
          },
          "metadata": {
            "tags": []
          },
          "execution_count": 5
        }
      ]
    },
    {
      "cell_type": "code",
      "metadata": {
        "id": "QgsusUv6BIpb",
        "colab_type": "code",
        "colab": {
          "base_uri": "https://localhost:8080/",
          "height": 170
        },
        "outputId": "c3e7c928-51f6-4de9-f26d-ee87ba6a7708"
      },
      "source": [
        "table = df[['Ticker','YTD Ret']]\n",
        "table.info()"
      ],
      "execution_count": null,
      "outputs": [
        {
          "output_type": "stream",
          "text": [
            "<class 'pandas.core.frame.DataFrame'>\n",
            "RangeIndex: 1361 entries, 0 to 1360\n",
            "Data columns (total 2 columns):\n",
            " #   Column   Non-Null Count  Dtype  \n",
            "---  ------   --------------  -----  \n",
            " 0   Ticker   1361 non-null   object \n",
            " 1   YTD Ret  1361 non-null   float64\n",
            "dtypes: float64(1), object(1)\n",
            "memory usage: 21.4+ KB\n"
          ],
          "name": "stdout"
        }
      ]
    },
    {
      "cell_type": "code",
      "metadata": {
        "id": "sPPX5FMF24qp",
        "colab_type": "code",
        "colab": {
          "base_uri": "https://localhost:8080/",
          "height": 34
        },
        "outputId": "4161597e-4ee9-41ad-ac0a-ca17e9b2b665"
      },
      "source": [
        "ticker = df['tic']\n",
        "ticker = ticker.to_numpy()\n",
        "ticker"
      ],
      "execution_count": null,
      "outputs": [
        {
          "output_type": "execute_result",
          "data": {
            "text/plain": [
              "array(['A', 'AAL', 'AAON', ..., 'ZNGA', 'ZS', 'ZTS'], dtype=object)"
            ]
          },
          "metadata": {
            "tags": []
          },
          "execution_count": 8
        }
      ]
    },
    {
      "cell_type": "code",
      "metadata": {
        "id": "Cl-8fXp178aU",
        "colab_type": "code",
        "colab": {}
      },
      "source": [
        "data = []\n",
        "for i in ticker:\n",
        "  url ='https://finance.yahoo.com/quote/'+i+'/profile' \n",
        "  page =requests.get(url)\n",
        "  htmldata = BeautifulSoup(page.content, 'html.parser')\n",
        "  description = htmldata.find('p',{'class':'Mt(15px) Lh(1.6)'})\n",
        "  data.append(description)"
      ],
      "execution_count": null,
      "outputs": []
    },
    {
      "cell_type": "code",
      "metadata": {
        "id": "KBknGgVj_YUv",
        "colab_type": "code",
        "colab": {
          "base_uri": "https://localhost:8080/",
          "height": 34
        },
        "outputId": "bc83a50b-2403-4e8a-a83a-8cc191da21d2"
      },
      "source": [
        "len(data)"
      ],
      "execution_count": null,
      "outputs": [
        {
          "output_type": "execute_result",
          "data": {
            "text/plain": [
              "1361"
            ]
          },
          "metadata": {
            "tags": []
          },
          "execution_count": 12
        }
      ]
    },
    {
      "cell_type": "code",
      "metadata": {
        "id": "6jW7AnTqCNo5",
        "colab_type": "code",
        "colab": {
          "base_uri": "https://localhost:8080/",
          "height": 187
        },
        "outputId": "3a045861-ae97-4990-e243-d70ad1f56d47"
      },
      "source": [
        "table.info()"
      ],
      "execution_count": null,
      "outputs": [
        {
          "output_type": "stream",
          "text": [
            "<class 'pandas.core.frame.DataFrame'>\n",
            "Int64Index: 4083 entries, 0 to 1360\n",
            "Data columns (total 3 columns):\n",
            " #   Column   Non-Null Count  Dtype  \n",
            "---  ------   --------------  -----  \n",
            " 0   0        2704 non-null   object \n",
            " 1   Ticker   1361 non-null   object \n",
            " 2   YTD Ret  1361 non-null   float64\n",
            "dtypes: float64(1), object(2)\n",
            "memory usage: 207.6+ KB\n"
          ],
          "name": "stdout"
        }
      ]
    },
    {
      "cell_type": "code",
      "metadata": {
        "id": "5UMNWJsN_7KD",
        "colab_type": "code",
        "colab": {
          "base_uri": "https://localhost:8080/",
          "height": 932
        },
        "outputId": "ba594749-e509-48d2-8ae1-ef28b036d1a1"
      },
      "source": [
        "data = pd.DataFrame(data)\n",
        "YRD = df['YTD Ret']\n",
        "table= pd.concat([table,data],axis=1)\n",
        "table.rename({3: \"Description\"},axis='columns')"
      ],
      "execution_count": null,
      "outputs": [
        {
          "output_type": "execute_result",
          "data": {
            "text/html": [
              "<div>\n",
              "<style scoped>\n",
              "    .dataframe tbody tr th:only-of-type {\n",
              "        vertical-align: middle;\n",
              "    }\n",
              "\n",
              "    .dataframe tbody tr th {\n",
              "        vertical-align: top;\n",
              "    }\n",
              "\n",
              "    .dataframe thead th {\n",
              "        text-align: right;\n",
              "    }\n",
              "</style>\n",
              "<table border=\"1\" class=\"dataframe\">\n",
              "  <thead>\n",
              "    <tr style=\"text-align: right;\">\n",
              "      <th></th>\n",
              "      <th>Ticker</th>\n",
              "      <th>YTD Ret</th>\n",
              "      <th>0</th>\n",
              "      <th>0</th>\n",
              "      <th>0</th>\n",
              "      <th>0</th>\n",
              "      <th>0</th>\n",
              "      <th>0</th>\n",
              "      <th>0</th>\n",
              "      <th>0</th>\n",
              "    </tr>\n",
              "  </thead>\n",
              "  <tbody>\n",
              "    <tr>\n",
              "      <th>0</th>\n",
              "      <td>A</td>\n",
              "      <td>-0.1745</td>\n",
              "      <td>[Agilent Technologies, Inc. provides applicati...</td>\n",
              "      <td>[Agilent Technologies, Inc. provides applicati...</td>\n",
              "      <td>[Agilent Technologies, Inc. provides applicati...</td>\n",
              "      <td>[Agilent Technologies, Inc. provides applicati...</td>\n",
              "      <td>[Agilent Technologies, Inc. provides applicati...</td>\n",
              "      <td>[Agilent Technologies, Inc. provides applicati...</td>\n",
              "      <td>[Agilent Technologies, Inc. provides applicati...</td>\n",
              "      <td>[Agilent Technologies, Inc. provides applicati...</td>\n",
              "    </tr>\n",
              "    <tr>\n",
              "      <th>1</th>\n",
              "      <td>AAL</td>\n",
              "      <td>-0.6726</td>\n",
              "      <td>[American Airlines Group Inc., through its sub...</td>\n",
              "      <td>[American Airlines Group Inc., through its sub...</td>\n",
              "      <td>[American Airlines Group Inc., through its sub...</td>\n",
              "      <td>[American Airlines Group Inc., through its sub...</td>\n",
              "      <td>[American Airlines Group Inc., through its sub...</td>\n",
              "      <td>[American Airlines Group Inc., through its sub...</td>\n",
              "      <td>[American Airlines Group Inc., through its sub...</td>\n",
              "      <td>[American Airlines Group Inc., through its sub...</td>\n",
              "    </tr>\n",
              "    <tr>\n",
              "      <th>2</th>\n",
              "      <td>AAON</td>\n",
              "      <td>-0.0911</td>\n",
              "      <td>[AAON, Inc., together with its subsidiaries, e...</td>\n",
              "      <td>[AAON, Inc., together with its subsidiaries, e...</td>\n",
              "      <td>[AAON, Inc., together with its subsidiaries, e...</td>\n",
              "      <td>[AAON, Inc., together with its subsidiaries, e...</td>\n",
              "      <td>[AAON, Inc., together with its subsidiaries, e...</td>\n",
              "      <td>[AAON, Inc., together with its subsidiaries, e...</td>\n",
              "      <td>[AAON, Inc., together with its subsidiaries, e...</td>\n",
              "      <td>[AAON, Inc., together with its subsidiaries, e...</td>\n",
              "    </tr>\n",
              "    <tr>\n",
              "      <th>3</th>\n",
              "      <td>AAP</td>\n",
              "      <td>-0.4715</td>\n",
              "      <td>[Advance Auto Parts, Inc. provides automotive ...</td>\n",
              "      <td>[Advance Auto Parts, Inc. provides automotive ...</td>\n",
              "      <td>[Advance Auto Parts, Inc. provides automotive ...</td>\n",
              "      <td>[Advance Auto Parts, Inc. provides automotive ...</td>\n",
              "      <td>[Advance Auto Parts, Inc. provides automotive ...</td>\n",
              "      <td>[Advance Auto Parts, Inc. provides automotive ...</td>\n",
              "      <td>[Advance Auto Parts, Inc. provides automotive ...</td>\n",
              "      <td>[Advance Auto Parts, Inc. provides automotive ...</td>\n",
              "    </tr>\n",
              "    <tr>\n",
              "      <th>4</th>\n",
              "      <td>AAPL</td>\n",
              "      <td>-0.1779</td>\n",
              "      <td>[Apple Inc. designs, manufactures, and markets...</td>\n",
              "      <td>[Apple Inc. designs, manufactures, and markets...</td>\n",
              "      <td>[Apple Inc. designs, manufactures, and markets...</td>\n",
              "      <td>[Apple Inc. designs, manufactures, and markets...</td>\n",
              "      <td>[Apple Inc. designs, manufactures, and markets...</td>\n",
              "      <td>[Apple Inc. designs, manufactures, and markets...</td>\n",
              "      <td>[Apple Inc. designs, manufactures, and markets...</td>\n",
              "      <td>[Apple Inc. designs, manufactures, and markets...</td>\n",
              "    </tr>\n",
              "    <tr>\n",
              "      <th>...</th>\n",
              "      <td>...</td>\n",
              "      <td>...</td>\n",
              "      <td>...</td>\n",
              "      <td>...</td>\n",
              "      <td>...</td>\n",
              "      <td>...</td>\n",
              "      <td>...</td>\n",
              "      <td>...</td>\n",
              "      <td>...</td>\n",
              "      <td>...</td>\n",
              "    </tr>\n",
              "    <tr>\n",
              "      <th>1356</th>\n",
              "      <td>ZLAB</td>\n",
              "      <td>0.2395</td>\n",
              "      <td>[Zai Lab Limited, a biopharmaceutical company,...</td>\n",
              "      <td>[Zai Lab Limited, a biopharmaceutical company,...</td>\n",
              "      <td>[Zai Lab Limited, a biopharmaceutical company,...</td>\n",
              "      <td>[Zai Lab Limited, a biopharmaceutical company,...</td>\n",
              "      <td>[Zai Lab Limited, a biopharmaceutical company,...</td>\n",
              "      <td>[Zai Lab Limited, a biopharmaceutical company,...</td>\n",
              "      <td>[Zai Lab Limited, a biopharmaceutical company,...</td>\n",
              "      <td>[Zai Lab Limited, a biopharmaceutical company,...</td>\n",
              "    </tr>\n",
              "    <tr>\n",
              "      <th>1357</th>\n",
              "      <td>ZM</td>\n",
              "      <td>0.8842</td>\n",
              "      <td>[Zoom Video Communications, Inc. provides a vi...</td>\n",
              "      <td>[Zoom Video Communications, Inc. provides a vi...</td>\n",
              "      <td>[Zoom Video Communications, Inc. provides a vi...</td>\n",
              "      <td>[Zoom Video Communications, Inc. provides a vi...</td>\n",
              "      <td>[Zoom Video Communications, Inc. provides a vi...</td>\n",
              "      <td>[Zoom Video Communications, Inc. provides a vi...</td>\n",
              "      <td>[Zoom Video Communications, Inc. provides a vi...</td>\n",
              "      <td>[Zoom Video Communications, Inc. provides a vi...</td>\n",
              "    </tr>\n",
              "    <tr>\n",
              "      <th>1358</th>\n",
              "      <td>ZNGA</td>\n",
              "      <td>0.0850</td>\n",
              "      <td>[Zynga Inc. develops, markets, and operates so...</td>\n",
              "      <td>[Zynga Inc. develops, markets, and operates so...</td>\n",
              "      <td>[Zynga Inc. develops, markets, and operates so...</td>\n",
              "      <td>[Zynga Inc. develops, markets, and operates so...</td>\n",
              "      <td>[Zynga Inc. develops, markets, and operates so...</td>\n",
              "      <td>[Zynga Inc. develops, markets, and operates so...</td>\n",
              "      <td>[Zynga Inc. develops, markets, and operates so...</td>\n",
              "      <td>[Zynga Inc. develops, markets, and operates so...</td>\n",
              "    </tr>\n",
              "    <tr>\n",
              "      <th>1359</th>\n",
              "      <td>ZS</td>\n",
              "      <td>0.3634</td>\n",
              "      <td>[Zscaler, Inc. operates as a cloud security co...</td>\n",
              "      <td>[Zscaler, Inc. operates as a cloud security co...</td>\n",
              "      <td>[Zscaler, Inc. operates as a cloud security co...</td>\n",
              "      <td>[Zscaler, Inc. operates as a cloud security co...</td>\n",
              "      <td>[Zscaler, Inc. operates as a cloud security co...</td>\n",
              "      <td>[Zscaler, Inc. operates as a cloud security co...</td>\n",
              "      <td>[Zscaler, Inc. operates as a cloud security co...</td>\n",
              "      <td>[Zscaler, Inc. operates as a cloud security co...</td>\n",
              "    </tr>\n",
              "    <tr>\n",
              "      <th>1360</th>\n",
              "      <td>ZTS</td>\n",
              "      <td>-0.1340</td>\n",
              "      <td>[Zoetis Inc. discovers, develops, manufactures...</td>\n",
              "      <td>[Zoetis Inc. discovers, develops, manufactures...</td>\n",
              "      <td>[Zoetis Inc. discovers, develops, manufactures...</td>\n",
              "      <td>[Zoetis Inc. discovers, develops, manufactures...</td>\n",
              "      <td>[Zoetis Inc. discovers, develops, manufactures...</td>\n",
              "      <td>[Zoetis Inc. discovers, develops, manufactures...</td>\n",
              "      <td>[Zoetis Inc. discovers, develops, manufactures...</td>\n",
              "      <td>[Zoetis Inc. discovers, develops, manufactures...</td>\n",
              "    </tr>\n",
              "  </tbody>\n",
              "</table>\n",
              "<p>1361 rows × 10 columns</p>\n",
              "</div>"
            ],
            "text/plain": [
              "     Ticker  ...                                                  0\n",
              "0         A  ...  [Agilent Technologies, Inc. provides applicati...\n",
              "1       AAL  ...  [American Airlines Group Inc., through its sub...\n",
              "2      AAON  ...  [AAON, Inc., together with its subsidiaries, e...\n",
              "3       AAP  ...  [Advance Auto Parts, Inc. provides automotive ...\n",
              "4      AAPL  ...  [Apple Inc. designs, manufactures, and markets...\n",
              "...     ...  ...                                                ...\n",
              "1356   ZLAB  ...  [Zai Lab Limited, a biopharmaceutical company,...\n",
              "1357     ZM  ...  [Zoom Video Communications, Inc. provides a vi...\n",
              "1358   ZNGA  ...  [Zynga Inc. develops, markets, and operates so...\n",
              "1359     ZS  ...  [Zscaler, Inc. operates as a cloud security co...\n",
              "1360    ZTS  ...  [Zoetis Inc. discovers, develops, manufactures...\n",
              "\n",
              "[1361 rows x 10 columns]"
            ]
          },
          "metadata": {
            "tags": []
          },
          "execution_count": 41
        }
      ]
    }
  ]
}