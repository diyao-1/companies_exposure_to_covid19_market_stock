{
  "nbformat": 4,
  "nbformat_minor": 0,
  "metadata": {
    "colab": {
      "name": "Compaines' historical Fama French 3-Factors and CAPM.ipynb",
      "provenance": [],
      "collapsed_sections": []
    },
    "kernelspec": {
      "name": "python3",
      "display_name": "Python 3"
    }
  },
  "cells": [
    {
      "cell_type": "markdown",
      "metadata": {
        "id": "z7_8XnfgqByO",
        "colab_type": "text"
      },
      "source": [
        "## Compaines' historical Fama French 3-Factors and CAPM\n",
        "*Melissa Putur,\n",
        "Aparna Raman,\n",
        "Luke Towers, \n",
        "Adil Wahab,\n",
        "Di Yao* "
      ]
    },
    {
      "cell_type": "markdown",
      "metadata": {
        "id": "lsRktaEuqnfP",
        "colab_type": "text"
      },
      "source": [
        "### 1. Load the dataset"
      ]
    },
    {
      "cell_type": "code",
      "metadata": {
        "id": "Hv4p-euOkr8y",
        "colab_type": "code",
        "colab": {}
      },
      "source": [
        "#Loading packages\n",
        "from google.colab import files\n",
        "import numpy as np\n",
        "import pandas as pd\n",
        "import statsmodels.api as sm"
      ],
      "execution_count": null,
      "outputs": []
    },
    {
      "cell_type": "code",
      "metadata": {
        "id": "J-mqSEWLSHgR",
        "colab_type": "code",
        "colab": {
          "resources": {
            "http://localhost:8080/nbextensions/google.colab/files.js": {
              "data": "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",
              "ok": true,
              "headers": [
                [
                  "content-type",
                  "application/javascript"
                ]
              ],
              "status": 200,
              "status_text": ""
            }
          },
          "base_uri": "https://localhost:8080/",
          "height": 71
        },
        "outputId": "287dc84e-a90c-4916-edba-8c64c7c623a4"
      },
      "source": [
        "# Upload stock returns file\n",
        "uploaded = files.upload()"
      ],
      "execution_count": null,
      "outputs": [
        {
          "output_type": "display_data",
          "data": {
            "text/html": [
              "\n",
              "     <input type=\"file\" id=\"files-509c4fbc-ec7b-424d-be97-90d97ca44c22\" name=\"files[]\" multiple disabled />\n",
              "     <output id=\"result-509c4fbc-ec7b-424d-be97-90d97ca44c22\">\n",
              "      Upload widget is only available when the cell has been executed in the\n",
              "      current browser session. Please rerun this cell to enable.\n",
              "      </output>\n",
              "      <script src=\"/nbextensions/google.colab/files.js\"></script> "
            ],
            "text/plain": [
              "<IPython.core.display.HTML object>"
            ]
          },
          "metadata": {
            "tags": []
          }
        },
        {
          "output_type": "stream",
          "text": [
            "Saving factors.csv to factors (1).csv\n"
          ],
          "name": "stdout"
        }
      ]
    },
    {
      "cell_type": "code",
      "metadata": {
        "id": "bZAr_Y5bTdP0",
        "colab_type": "code",
        "colab": {
          "resources": {
            "http://localhost:8080/nbextensions/google.colab/files.js": {
              "data": "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",
              "ok": true,
              "headers": [
                [
                  "content-type",
                  "application/javascript"
                ]
              ],
              "status": 200,
              "status_text": ""
            }
          },
          "base_uri": "https://localhost:8080/",
          "height": 71
        },
        "outputId": "d2aa4529-2cbe-457a-d4f3-cdbdf096df11"
      },
      "source": [
        "# Upload factor returns file \n",
        "uploaded = files.upload()"
      ],
      "execution_count": null,
      "outputs": [
        {
          "output_type": "display_data",
          "data": {
            "text/html": [
              "\n",
              "     <input type=\"file\" id=\"files-50eb71c2-72d5-4d78-999a-a2a4c02f0282\" name=\"files[]\" multiple disabled />\n",
              "     <output id=\"result-50eb71c2-72d5-4d78-999a-a2a4c02f0282\">\n",
              "      Upload widget is only available when the cell has been executed in the\n",
              "      current browser session. Please rerun this cell to enable.\n",
              "      </output>\n",
              "      <script src=\"/nbextensions/google.colab/files.js\"></script> "
            ],
            "text/plain": [
              "<IPython.core.display.HTML object>"
            ]
          },
          "metadata": {
            "tags": []
          }
        },
        {
          "output_type": "stream",
          "text": [
            "Saving returns.csv to returns.csv\n"
          ],
          "name": "stdout"
        }
      ]
    },
    {
      "cell_type": "code",
      "metadata": {
        "id": "nEh8D_YpThqa",
        "colab_type": "code",
        "colab": {}
      },
      "source": [
        "# Convert the files to DFs\n",
        "df1 = pd.read_csv('returns.csv')\n",
        "df2 = pd.read_csv('factors.csv')"
      ],
      "execution_count": null,
      "outputs": []
    },
    {
      "cell_type": "markdown",
      "metadata": {
        "id": "1isX6UEnqsah",
        "colab_type": "text"
      },
      "source": [
        "### 2. Data Cleaning"
      ]
    },
    {
      "cell_type": "markdown",
      "metadata": {
        "id": "9iFQgG5r5efM",
        "colab_type": "text"
      },
      "source": [
        "Rename two dataframe columns in order to merge them into one dataset."
      ]
    },
    {
      "cell_type": "code",
      "metadata": {
        "id": "EdJZrmbWUHUO",
        "colab_type": "code",
        "colab": {}
      },
      "source": [
        "# Rename stock returns columns\n",
        "df1.rename(columns = {'Names Date':'Date', 'Ticker Symbol':'Ticker','Returns':'Ret'}, inplace=True)"
      ],
      "execution_count": null,
      "outputs": []
    },
    {
      "cell_type": "code",
      "metadata": {
        "id": "32-GUQw0VOCR",
        "colab_type": "code",
        "colab": {}
      },
      "source": [
        "# Rename factor returns columns \n",
        "df2.rename(columns = {'Date (SAS). Last Trading Day of the Month':'Date', 'Small-Minus-Big Return':'SMB','High-Minus-Low Return':'HML', \n",
        "                      'Risk-Free Return Rate (One Month Treasury Bill Rate)':'Rf',\n",
        "                      'Excess Return on the Market':'RmMinusRf'}, inplace=True)"
      ],
      "execution_count": null,
      "outputs": []
    },
    {
      "cell_type": "code",
      "metadata": {
        "id": "C-mqdeSbXtmJ",
        "colab_type": "code",
        "colab": {}
      },
      "source": [
        "# Merge returns(df1) and factors(df2) tables into df\n",
        "df = pd.merge(df1, df2, on='Date', how='left')"
      ],
      "execution_count": null,
      "outputs": []
    },
    {
      "cell_type": "markdown",
      "metadata": {
        "id": "VVnGhsbs5otu",
        "colab_type": "text"
      },
      "source": [
        "Delete tickers that have less than 24 months of observations to make sure the regression has reasonable amount of data points. <br>\n",
        "Updating tickers based on PERMNO column and removing rows with missing tickers."
      ]
    },
    {
      "cell_type": "code",
      "metadata": {
        "id": "eJ1XxHdPhtQE",
        "colab_type": "code",
        "colab": {}
      },
      "source": [
        "# Deleting any tickers that have < 2 years of data\n",
        "dataCount = df.groupby('PERMNO').count()\n",
        "dataCount2 = dataCount.filter([\"Ticker\",\"PERMNO\"], axis = 1)\n",
        "dataCount2.rename(columns = {'Ticker':'count'}, inplace = True)\n",
        "df = pd.merge(df, dataCount2, on='PERMNO', how='left')\n",
        "indexToDelete = df[df['count'] < 24].index\n",
        "df.drop(indexToDelete, inplace = True)"
      ],
      "execution_count": null,
      "outputs": []
    },
    {
      "cell_type": "code",
      "metadata": {
        "id": "ooq45PwzjTQY",
        "colab_type": "code",
        "colab": {}
      },
      "source": [
        "# Updating missing tickers, and removing some rows with missing tickers\n",
        "df.loc[df.PERMNO == 93369, 'Ticker'] = \"RCM\"\n",
        "df.loc[df.PERMNO == 15936, 'Ticker'] = \"BGNE\"\n",
        "df.loc[df.PERMNO == 92102, 'Ticker'] = \"SCOR\"\n",
        "df.loc[df.PERMNO == 86536, 'Ticker'] = \"DFFN\"\n",
        "df.loc[df.PERMNO == 15937, 'Ticker'] = \"EDIT\"\n",
        "df.loc[df.PERMNO == 15960, 'Ticker'] = \"CRVS\"\n",
        "\n",
        "df.dropna(inplace=True)"
      ],
      "execution_count": null,
      "outputs": []
    },
    {
      "cell_type": "markdown",
      "metadata": {
        "id": "FPHn9s5h6Ukw",
        "colab_type": "text"
      },
      "source": [
        "Replace return columns' missing value with this company's average return."
      ]
    },
    {
      "cell_type": "code",
      "metadata": {
        "id": "xL9QNdS5aro8",
        "colab_type": "code",
        "colab": {}
      },
      "source": [
        "# Replacing NA values with mean values for the group\n",
        "df['Ret'] = df['Ret'].replace('C', np.NaN)\n",
        "df['Ret'] = df['Ret'].replace('B', np.NaN)\n",
        "\n",
        "# Convert returns column to numeric \n",
        "df[['Ret']] = df[['Ret']].apply(pd.to_numeric)"
      ],
      "execution_count": null,
      "outputs": []
    },
    {
      "cell_type": "code",
      "metadata": {
        "id": "-NXPSr0kik6Q",
        "colab_type": "code",
        "colab": {}
      },
      "source": [
        "# Replace missing returns values with mean of the specific stock's returns\n",
        "df['Ret'] = df['Ret'].fillna(df.groupby('Ticker')['Ret'].transform('mean'))"
      ],
      "execution_count": null,
      "outputs": []
    },
    {
      "cell_type": "code",
      "metadata": {
        "id": "TRSPrTPbaM8c",
        "colab_type": "code",
        "colab": {}
      },
      "source": [
        "# Create R Minus Rf column\n",
        "df['RMinusRf'] = df['Ret'] - df['Rf']"
      ],
      "execution_count": null,
      "outputs": []
    },
    {
      "cell_type": "code",
      "metadata": {
        "id": "CwFAyDHCe0wo",
        "colab_type": "code",
        "colab": {
          "base_uri": "https://localhost:8080/",
          "height": 34
        },
        "outputId": "99cda077-b806-420a-fad1-84aa9b4e9037"
      },
      "source": [
        "df.shape"
      ],
      "execution_count": null,
      "outputs": [
        {
          "output_type": "execute_result",
          "data": {
            "text/plain": [
              "(60641, 10)"
            ]
          },
          "metadata": {
            "tags": []
          },
          "execution_count": 17
        }
      ]
    },
    {
      "cell_type": "code",
      "metadata": {
        "id": "e9CRJcS7e98l",
        "colab_type": "code",
        "colab": {
          "base_uri": "https://localhost:8080/",
          "height": 204
        },
        "outputId": "c0aef8cd-ad4d-4baa-a987-bd0dcab6c721"
      },
      "source": [
        "# Glimpse of merged DF\n",
        "df.head()"
      ],
      "execution_count": null,
      "outputs": [
        {
          "output_type": "execute_result",
          "data": {
            "text/html": [
              "<div>\n",
              "<style scoped>\n",
              "    .dataframe tbody tr th:only-of-type {\n",
              "        vertical-align: middle;\n",
              "    }\n",
              "\n",
              "    .dataframe tbody tr th {\n",
              "        vertical-align: top;\n",
              "    }\n",
              "\n",
              "    .dataframe thead th {\n",
              "        text-align: right;\n",
              "    }\n",
              "</style>\n",
              "<table border=\"1\" class=\"dataframe\">\n",
              "  <thead>\n",
              "    <tr style=\"text-align: right;\">\n",
              "      <th></th>\n",
              "      <th>PERMNO</th>\n",
              "      <th>Date</th>\n",
              "      <th>Ticker</th>\n",
              "      <th>Ret</th>\n",
              "      <th>RmMinusRf</th>\n",
              "      <th>SMB</th>\n",
              "      <th>HML</th>\n",
              "      <th>Rf</th>\n",
              "      <th>count</th>\n",
              "      <th>RMinusRf</th>\n",
              "    </tr>\n",
              "  </thead>\n",
              "  <tbody>\n",
              "    <tr>\n",
              "      <th>0</th>\n",
              "      <td>10026</td>\n",
              "      <td>20160129</td>\n",
              "      <td>JJSF</td>\n",
              "      <td>-0.074484</td>\n",
              "      <td>-0.0577</td>\n",
              "      <td>-0.0335</td>\n",
              "      <td>0.0208</td>\n",
              "      <td>0.0001</td>\n",
              "      <td>48</td>\n",
              "      <td>-0.074584</td>\n",
              "    </tr>\n",
              "    <tr>\n",
              "      <th>1</th>\n",
              "      <td>10026</td>\n",
              "      <td>20160229</td>\n",
              "      <td>JJSF</td>\n",
              "      <td>0.026023</td>\n",
              "      <td>-0.0007</td>\n",
              "      <td>0.0079</td>\n",
              "      <td>-0.0050</td>\n",
              "      <td>0.0002</td>\n",
              "      <td>48</td>\n",
              "      <td>0.025823</td>\n",
              "    </tr>\n",
              "    <tr>\n",
              "      <th>2</th>\n",
              "      <td>10026</td>\n",
              "      <td>20160331</td>\n",
              "      <td>JJSF</td>\n",
              "      <td>-0.019135</td>\n",
              "      <td>0.0696</td>\n",
              "      <td>0.0087</td>\n",
              "      <td>0.0116</td>\n",
              "      <td>0.0002</td>\n",
              "      <td>48</td>\n",
              "      <td>-0.019335</td>\n",
              "    </tr>\n",
              "    <tr>\n",
              "      <th>3</th>\n",
              "      <td>10026</td>\n",
              "      <td>20160429</td>\n",
              "      <td>JJSF</td>\n",
              "      <td>-0.066033</td>\n",
              "      <td>0.0092</td>\n",
              "      <td>0.0069</td>\n",
              "      <td>0.0326</td>\n",
              "      <td>0.0001</td>\n",
              "      <td>48</td>\n",
              "      <td>-0.066133</td>\n",
              "    </tr>\n",
              "    <tr>\n",
              "      <th>4</th>\n",
              "      <td>10026</td>\n",
              "      <td>20160531</td>\n",
              "      <td>JJSF</td>\n",
              "      <td>0.043212</td>\n",
              "      <td>0.0178</td>\n",
              "      <td>-0.0027</td>\n",
              "      <td>-0.0181</td>\n",
              "      <td>0.0001</td>\n",
              "      <td>48</td>\n",
              "      <td>0.043112</td>\n",
              "    </tr>\n",
              "  </tbody>\n",
              "</table>\n",
              "</div>"
            ],
            "text/plain": [
              "   PERMNO      Date Ticker       Ret  ...     HML      Rf  count  RMinusRf\n",
              "0   10026  20160129   JJSF -0.074484  ...  0.0208  0.0001     48 -0.074584\n",
              "1   10026  20160229   JJSF  0.026023  ... -0.0050  0.0002     48  0.025823\n",
              "2   10026  20160331   JJSF -0.019135  ...  0.0116  0.0002     48 -0.019335\n",
              "3   10026  20160429   JJSF -0.066033  ...  0.0326  0.0001     48 -0.066133\n",
              "4   10026  20160531   JJSF  0.043212  ... -0.0181  0.0001     48  0.043112\n",
              "\n",
              "[5 rows x 10 columns]"
            ]
          },
          "metadata": {
            "tags": []
          },
          "execution_count": 18
        }
      ]
    },
    {
      "cell_type": "markdown",
      "metadata": {
        "id": "1cAQY_1_fP_1",
        "colab_type": "text"
      },
      "source": [
        "### 3. CAPM Beta"
      ]
    },
    {
      "cell_type": "code",
      "metadata": {
        "id": "Ne4SwRONOQRA",
        "colab_type": "code",
        "colab": {
          "base_uri": "https://localhost:8080/",
          "height": 241
        },
        "outputId": "fe69bac9-3791-467b-d8c3-e862ff12fb3f"
      },
      "source": [
        "# Create loop for CAPM betas and put into DF\n",
        "ticker = np.unique(df['Ticker'])\n",
        "beta = []\n",
        "for i in ticker:\n",
        "  subset = df.loc[df['Ticker'] == i] \n",
        "  X = subset['RmMinusRf']\n",
        "  y = subset['RMinusRf']\n",
        "  X = sm.add_constant(X)\n",
        "  model = sm.OLS(y, X).fit()\n",
        "  coef = model.params.RmMinusRf\n",
        "  beta.append(coef)\n",
        "print(beta)\n",
        "CAPM = pd.DataFrame({'ticker':ticker, 'CAPM_Beta':beta})\n",
        "CAPM.head()"
      ],
      "execution_count": null,
      "outputs": [
        {
          "output_type": "stream",
          "text": [
            "[1.2493624622078516, 1.803726938683534, 0.9500440497155062, 1.0068597757254494, 1.172580298180833, 2.2769392936824917, 0.622612937977445, 0.8089445483230095, 1.1309483945190346, 1.7841724369377518, 1.2759378556916314, 0.9311490907049249, 2.760780943923268, 1.474851208642583, 2.688727911834322, 0.7055471207278148, 0.7848670250607978, 1.7192501312806037, 1.2880047002537, 1.383904658537475, 0.9576774562377661, 1.3242223634653216, 1.6565216379946768, 1.09632169248087, 1.4848430926096672, 0.9466460716630437, 3.1191253508444303, 1.8044646064145642, 0.8300202228710176, 1.1527991054252522, 1.972988815316974, 1.623293629614101, 0.24674455749124624, 0.13635181386561382, 2.1083740047575095, 1.7236731030017238, 0.056916805340787247, 0.6030117935709856, 0.7934873858739508, 0.48318050151579683, 0.6427300650565742, 2.650404239693419, 1.5780562216657992, 0.2671560624731304, 0.00612664233347772, 1.029813564875201, 2.1137626857308756, 0.8282847985389931, 0.5200448717174553, 0.5434048491046066, 0.6534190032776819, 0.4566998211723975, 2.7233269902076156, 1.454134795251485, 1.3063499078205645, 1.2804310158356247, 2.1360967337830505, 1.4681127822979518, 1.2241167537270092, 2.0491284256100992, 0.6847732427324449, 1.1247768697706624, 1.6936165801515934, 2.534377028075979, 1.108566338370962, 2.2764706680783573, 0.08846592912263387, 1.4012405343334426, 1.7948193169133901, 1.5630676465638924, 1.4283834198725835, 0.8342453218580239, 3.311994776731808, 1.3066085262061384, 1.5950731832136522, 0.8636714811015417, 1.652659964457011, 2.022131102092439, 1.1858854796025255, 0.7960382706296301, 0.49324014235946134, 0.0580275010372996, 1.3166176113671955, 2.4708795989997285, 1.5106454573292412, 0.589282590164233, 1.6556310377514054, 1.4780911640097516, 0.893227975385174, 0.6728228527177207, 1.5087271799557354, 2.071467677111868, 0.7198315229162193, 1.066476889182423, 0.674746056665165, 1.630135897381439, 1.398611501067283, 0.8373919316840437, 2.196595656179265, 1.9586174146120907, 0.736992862197652, 1.2837840893491024, 0.8220903934550019, 1.4768605628099343, 2.196050256823286, 1.1982083176538434, 0.7296168710635695, 2.778386232682164, -0.6469676671456949, 1.2551146548340841, 0.30084920799236614, 0.0909506616241697, 0.08903655413195165, 3.094939959314, 0.668776246360455, 0.1414767623797064, 0.8053759853251832, 0.8983576664810488, 1.3533243066456824, 1.0971105239068606, 0.5769877366983602, 0.9415463889773661, 1.4687133380109918, 1.2763788913444656, 0.013836720685051082, 3.35740056662181, 1.0710565799175469, 1.7133809402072695, 1.2013000610051874, 3.206399471932621, 0.11500407869612776, 0.571502873381598, 1.5256506436404462, 1.2354270818547466, 0.67823372929839, 1.7318184174843678, 0.5480985551298247, 1.095849204628757, 0.9294999449702903, 0.7958396241002743, 0.8738097112258458, 1.5403235440461327, 1.5607363705463482, 1.2278180707846984, 1.5622643806640835, 1.2595753135153123, 1.1010181658052676, 2.783049555259893, 1.4142838585651356, 1.0440947425906448, 1.6009823467873736, 1.362457954861927, 1.0796542859270244, 1.5245066146864155, 1.0999745561381828, 1.666386383436274, 1.9543236424114785, 1.2351418388360957, 0.6631897358125252, 1.5857515018273525, 1.4792870885373302, 1.083286173507569, 2.123304288944128, 0.6776540226243212, 6.085734639894195, 0.8371360089793809, 2.3252899065154837, 2.2530234989299935, 1.430691896702011, 1.2707210307874537, 0.44727852709551946, 0.22877173859060906, 2.7254890717788047, 1.2190899069543195, 1.4176995080577814, 0.7175199827467149, 1.486279315386632, 1.2316248558867102, 2.0262239872234966, 1.2668744918881658, 0.6010853285327051, 1.2667133950962404, 0.9257323766674328, 1.4283270844420557, 1.978819636595052, 0.7328251541736837, 1.2233085942567519, 1.9999280912737807, 0.9953497331584981, 1.2113770627603708, 2.0758679204962016, 1.8531944594249614, 1.0842785748160533, 0.7966790977109486, 1.081380445064829, 1.470256224990967, 0.7686777991870593, 0.30099918351864086, 2.2779411260164544, 1.859689428487175, 1.435267451489525, 1.5972713201650204, 0.5075253778686256, 0.6808167639021934, 1.4845336514816165, 1.384440536963109, 1.495147896549015, 0.47090233966549255, 1.5773330211904257, 2.3907031227215705, 0.04187030590357243, 0.8692954175804603, 1.333081824646946, 0.5656532174953406, 0.9310007117963476, 0.8952289210825056, 2.7692229101054857, 0.171299579208254, 1.3158895195637799, 2.029882919287492, 1.4013475121301613, 0.495601480171584, 2.619647176966287, 2.0399238783283566, 1.1138737131219392, 1.0573009379140474, 1.1515774894392554, 1.1756552482608726, 1.1882917367565344, 0.6019087309175124, 0.7712624282012318, 0.9558560669248399, 0.5699574021889489, 1.8232095483609703, 1.530819051476596, 1.9025427445017724, 0.9612299665989363, -0.06105946985487248, 1.2279298678572603, 0.8292195718300976, 1.8522298028907804, 0.6518784124146084, 2.5370456587912624, 0.5715840544563795, 1.0513987867708257, 0.9866998825716076, 0.41290167307295333, 2.5051690724464066, 0.6146672343797819, 1.9740514996073708, 1.2923458535719807, 0.3607587200786831, 1.7150677429232788, 1.9372962099612945, 0.8194591682064254, 0.005938434659489039, 0.8987167263931488, 1.2200211006127715, 0.21529718056001043, 1.3994260048378515, 0.03847869948741696, 0.5328386488658503, 0.9018847567149191, 1.3518183525613767, 0.489374021383348, 1.1698928766376784, 1.327540557392465, 1.312183562325158, 0.2797614350236236, -0.33583447643404857, 2.2678922666605494, 0.8480130355969235, 1.1503733359225645, 0.44358795810070883, 1.9978546176258463, 0.35954045285900516, 0.8437137720233225, 1.6815916297122115, 1.1071816348704715, 0.6381339750629296, 1.686809843324912, 0.8333986400961209, 0.8703887674127759, 1.5184918214956518, 0.058097344138891505, 0.475100415845639, 2.739240720306319, 0.7957950228689632, 0.9877415700405935, 1.0180606905672756, 1.038666175729259, 3.070667106451168, 0.2994675838491375, 1.0828289813199359, 0.623143761509749, 1.3739714455523728, 0.8101105872626063, 1.544042169875358, 1.0810901389205716, 1.3589213287434057, 1.2029080296531065, 0.9808196819130086, 1.7509412022689343, 1.454277183883683, 1.4153768607177493, 0.919437138917251, 1.2388396362932887, 1.0233718541300412, 0.8746210381478845, 0.6556934467918127, 0.9585166779422312, 0.7185448583644618, 1.4213994491413118, 0.947297559676108, 0.8567789831208015, 1.4166971180054273, 1.1633098432768605, 1.2840800290974594, 0.9660359706686041, 0.8308141378312747, 0.8660142110020485, 0.846304102301207, 0.6971250313122622, 1.5350063894153823, 1.6538778863461747, 1.1372482723410127, 1.4521724281389778, 1.705441580504087, 0.16477173722380936, 1.246199415473111, 1.908773399827573, -1.1539393526787505, 1.0515448081879593, 0.03425195692363814, 0.8960805862242553, 0.5068909703020114, 1.6432898707010581, 0.5281753803411453, 0.8502007995501263, 1.1093163959287173, 0.6009976072140462, 0.8129704342087013, 1.4026296541762626, 0.7511516868770975, 1.29703813007349, 1.2080023490376814, 1.3119902866876485, 2.330116111037636, 0.3796874908334983, 0.40931104234470744, 0.729612855341656, 2.0893374703232976, 0.7111906790061779, -0.740632836196279, 1.5062922509722507, 0.30469002064113304, 0.6472400241312776, 0.5450259233338707, 2.5139544866127452, 0.20633802360298825, 0.045260534735012126, 1.9141244137857005, 2.5967225658958473, 1.3318356166922505, 0.6294947223000744, 2.402338082517844, 1.156041785013644, 1.0921447298340246, 0.007327145294920543, 1.279246007126601, 1.5804181726157749, 0.7480195576879909, 0.8682538462894582, 0.6480443095783206, 0.7666376011347769, 1.578397700581422, 0.07268662442123365, 2.4440946126647733, 0.8211897275853718, 1.336251218574109, 1.1829230159723476, 1.0855592052669887, 0.9383591483910314, 1.540319574880837, 0.8453405908694803, 0.16553697757827907, 0.6251877142038252, 1.3685163633647117, 1.407540653351452, 1.8050063595166361, 1.1589753358090986, 1.0100006308635376, 1.269372080207272, 1.5393124366940771, 1.50732517832226, 1.1538675987216276, 2.9775268486733597, 0.484445944791987, 0.45752989524878274, 1.916961815339942, 0.4579128919900437, 0.2966437875056408, 0.11713572214275379, 0.6446462268802473, 0.9411442716677785, 1.6863417351051622, 0.38803039801221184, 0.03508980297139949, 1.36594467527522, 1.3107800206927083, 0.12930501892200863, 0.7607844436782534, 1.0269335451598933, 0.0721252885981867, 0.6766068954431137, 1.9066662668777217, 2.345364151081224, 0.2517723806768548, 1.8520975133074242, 0.7876656638520521, 0.9730309112562188, 0.9107405271189473, 0.1954498242290103, 0.15582049713434937, 1.5683394991646866, 2.2636116484787783, 1.9129490820193389, 1.0380028091580242, 0.9699294967283988, 1.22357182484188, 1.3672556985487991, 2.442908444818548, 1.05316161949675, 1.7609887586802064, 1.28150125703404, 0.7755571017834355, 1.2143397671910658, 2.291930715465349, 1.7613204714908353, 0.17329235550040226, 1.158596982770196, 1.006093660725882, 1.494154434262177, 0.9311296288637707, 1.230745526616381, 0.9813396117069093, 2.5571532043665877, 1.1624333839954792, 1.3005291081749757, 0.5863361725502751, 0.7139008919361831, 1.5239220979420338, 0.6754245163287886, 0.7672531606791808, 1.6395798080442852, 1.2678572989026635, 2.0911465831611777, 0.7348506389463432, 1.2603033677317335, 1.6892510363092184, 1.0210780510711794, 0.3125175018091117, 1.4968525755735378, 1.1893247082071936, 0.7399295243847388, 2.372864785922363, 1.5030690203044832, 0.9993755328717326, 0.3286455383393324, 0.32227371623220397, 1.6724070713609276, 1.483753323899638, 0.9770878196534983, 1.4030430506809475, 0.800598897934363, 0.4462209252715764, 0.8040494365939057, 0.9323936898568704, 1.6601688883946593, 1.4159976516884303, 1.8948843575773398, 1.2238019302260486, 0.9747065865751876, 0.5118561165366908, 1.4137650388689567, 1.0269363121368416, 5.595780703692045, 1.564396890346766, 1.2061341943488741, 1.595368388587764, 1.1670346726038738, 1.8788856646650842, 2.9608400716352934, 1.2040793161191516, 2.523571427831587, 0.8467634955704418, 1.1591789611110537, 0.7384247563836839, 1.0760924296109404, 1.3788238208177552, 0.6678365285642526, 1.1551283837732114, 2.5771471653538285, 1.2892294975730385, 1.213431275111142, 1.9351593229954358, 0.5672065450105916, 0.8991214246051918, 0.9222665553707206, 2.0081940990247684, 0.808858908811313, 0.8830237231705871, 0.7439146870039641, 1.0769047718430438, 1.0032017669987956, 0.9266482065402797, 0.062452317779428224, 1.3389327345810482, 1.1782660278927748, -0.07032482358061982, 1.4890419202064127, 2.7920371113271147, 1.7919184306045781, 2.177498516737949, 1.3461594617790074, -0.21067750157327386, 2.7258303219690223, 1.1833333988970116, 1.7141723455330145, 1.379795412812678, 1.6745032190431344, 2.2779348512307283, 0.9398502933488754, 1.6518162493981672, 1.2982869952227618, 1.163988708824048, 0.5355525035698833, 1.139266226046713, 0.3239896031292193, 0.7062276415977106, 1.0402916003328284, 1.2023565510229088, 3.001017805205036, 0.6498821929615297, 2.1180741882493166, 1.489915866851189, 2.555610768770896, 0.6067378189546151, 1.0697710768352597, 2.425957085532586, 0.9116451660152582, 1.027650910315903, 1.1344680298209662, 1.048083798453707, 1.4516729128884127, 1.559942319873377, 0.9297959139370152, 1.4136484582129734, 1.0561678124987284, 0.6441586793052867, 1.758477875124771, 1.6864580149584065, 1.5075104814591842, 1.4503508562301395, 1.1234134329067156, 1.7374068771792508, 0.16860413017217735, -0.10623281173155882, 0.06272246537081695, 0.7444135808840129, 1.4399025705585573, 0.6863213958425984, 1.476697455754474, 1.1984671358271086, -0.06123619514838815, 1.969363699909149, 0.8597563599250749, 1.1712033827697348, 1.450518608696458, 1.0768461462753642, 0.26002766808586397, 1.732228513606295, 1.1753460431193519, 0.8192080005883218, 1.3005944370414793, 1.6211389581267315, 1.0915064050641727, 1.5154597585144498, 1.4024848236902452, 1.493246088686108, 0.2626672906107803, 0.4764231664751597, 0.8030038796932982, 1.6111444618451585, 1.3264691805382696, 1.1414295582397296, 0.981187660087095, 1.3644491773803216, 1.2319784878950601, 0.6450774862838702, -0.9752209541500012, 1.6580627677826443, 0.9690046491802351, 1.3684686581003982, 1.4509078953863808, 0.8424513269048959, 2.795657995101368, 2.182427633582711, 0.8978161408230075, 0.48260748709549073, 1.2936265138148813, 1.3058722120340462, 0.7164340334946895, 0.6835817738298161, 0.4246642662885671, 3.6387978001527888, 3.773099542718846, 0.8441890268975843, 0.7522559392870938, 0.637949485171893, 2.0656681089928455, 1.4266466534072135, 2.244270943242486, 1.4194141377052727, 0.5801225629679065, 0.8562822937288457, 2.139812502722254, 0.9962502549291067, 1.147793253226264, 1.7874754653293978, 0.6217621214561162, 1.7293470272635358, 2.347410499519094, 1.1311736114138804, 0.9311235027175236, 1.090316438609177, 0.27568763554342834, 1.335294030727133, 2.3104334933738446, 2.974986016422962, 0.5428436653415006, 1.0859262629868272, 0.7887836925363321, 1.5749079246230835, 1.2144076208998764, 1.5875582690518302, -0.9364981949458484, 0.0398474214675536, 1.109907068824873, 1.0202255798442643, 1.1592947427230536, 0.9445912730346536, 0.7044360415798867, 0.8706055307575713, 1.4189874741660151, 1.2158604875579402, 0.1460798816752861, 0.8497391655834508, 0.5781590065065328, 1.9143012041660081, 0.6941678732145389, 1.408892354509472, 1.1811259466196544, 0.5171430840682363, 0.8530424155461602, 0.6064671792443589, 0.08861543634991811, 1.2784154949268074, 1.7639213696520926, 0.7520931640009316, 0.7339516569100115, 1.602228166875963, 1.3211544598789955, 0.8899899135513001, 0.5559126148500257, 1.3554735257123283, 1.4648920686774618, 0.06445391655888938, 0.3274195164469423, 0.6252767209549939, 1.4535074221981505, 1.2031759881933266, 0.4338131615479674, 0.24148561208813976, 5.712154416481548, 1.7972975155754576, 0.5823574089871455, 2.2175349314789616, 0.652959671300876, 1.0730962395888157, 0.4981641569926337, 0.9056286833319496, 1.0141417967029862, 0.9671992559099112, 0.6466419770297972, 0.9558447932823666, 0.23080781766352343, 0.21190094472961904, 0.9939305528802406, 1.0982916682029813, 1.76843359809145, 1.1928490187119483, 1.2040055973442136, 1.2969158251958288, 1.2652238979864188, -0.12941503364490847, 1.3932135207297027, 1.1593324682131214, 1.3895803578608656, 1.0964172816545041, 1.084459402537846, 1.209509050526563, 0.8562290535659842, 1.6513121885771982, 0.9847016383327464, 1.1291274915946345, -0.7362231069953901, 1.5640151748122042, 1.540574053862292, 1.8389372156555854, 0.3257706524012062, 1.225678599394958, 1.5351704907109238, 0.31032524389661675, 1.5277481574817768, 1.628430155873421, 1.1054916341013261, 0.9689972396303219, 1.9972958148707238, 0.16156462336822114, 1.5767967958325582, 1.2744437439239475, 1.2627816731750363, 0.43471273318021575, 0.461676265178512, 0.8468053221006309, 1.3699874028041155, 1.4997573843842456, 0.6969960067982486, 1.5251197857481498, 1.2670446573968377, 1.2406454399238998, 1.1618673308187897, 1.150450818285151, 0.9170046822397058, 1.5608266408461093, 1.2361279667604532, 0.1564207674256893, 2.0038330095631642, 1.9282318084577843, 1.4559736932894602, 0.9632316102184214, 0.5506941441266693, 0.9104415003647699, 0.35236308336497524, 1.5028085556713524, 0.8048674192971181, 1.2326947380866122, 1.446687764930251, 1.2669196188127734, 1.8472317525364517, 0.22400997815117102, 1.4930801180782627, 1.275789695980262, 1.3875995616758428, 2.055658683199648, 0.8865364301856327, 0.09109205361490097, 0.09323648499765766, 0.5849377982753613, 1.417846581590426, 0.33076378652795174, 1.4284576289300766, 1.4106912985135311, 1.6997744742938217, 1.0653146696178433, 0.47312971305009666, 0.7350094308653059, 1.0387315762459717, 1.3397643987368077, 1.7980794018431272, 2.1237783044085923, 0.704138790384089, 1.8397641781280667, 1.4517704184648756, 1.5581254990888196, 1.2319885858761332, 1.5677305612155836, 4.06173327209233, -0.014024693886762515, 1.652539204703824, 0.03990146676092887, 1.6809798776067806, 1.8075381358770506, 0.9988975021124795, 0.03715526994280241, 1.6928209131433638, 0.6205936340465902, 1.0755749225037854, 1.290546180572429, 0.2981641783488807, 0.7474559476416578, 1.1733250903558785, 2.2385789054545375, 0.2923435978183866, 2.1481359154915367, 0.7573884882759487, 1.718368265159334, 0.8174534965851838, 1.6322059139868819, 1.122160809323863, -2.0404370177522027, 1.491731856450611, 1.2879988966935647, 0.3453960851842178, 0.5047600554799178, 2.5476308888201786, 2.347729456350142, 1.5335367906684045, 2.799014249881096, 1.3386438609070617, 1.3852545283973108, 1.1694512823054208, 0.21385888142192613, 0.929067160623847, 0.6293043011385451, 0.6757624024829714, 1.156569759593281, 1.2544630944990547, 0.16921280638459515, 1.3955452230117018, 1.4317399364799006, 2.232484454013609, 2.7061374466917365, 1.7887278078293982, 1.413519849291527, 1.2957569315463835, 1.7311375607874868, 2.0705891741147378, 0.8596087177823526, 2.12417848363876, 1.3764242557505404, 1.5409465453883835, 0.9535131071243339, 1.7447538509397806, 2.7748588268589245, 0.5722533076635512, 1.0600904850305892, -0.011729656970727684, -0.35318706162098423, 0.8682141516466311, 1.0823051454684502, 1.9532973160226854, 0.7784665260860048, -0.3020133479655232, 0.7558978178539142, 1.5485360356716806, 0.5466326844995812, 0.16870482498379352, 0.4220945590977702, 0.9054587130193756, 3.2071492803697543, 6.277272727272727, 0.9655241599859253, 1.5544151465209928, 1.429363128375081, 1.5946564747806335, 0.6914011435394687, 1.591622090252717, 1.6002597354281685, 1.2996325234841564, -0.004519267104492455, 1.2572265476646698, 0.6951181133404434, 1.399190364279165, 1.4547472144860105, 1.600407837580359, 1.5017051878371088, 0.6574969127676219, 1.385975821653041, 1.1566014498136785, 1.4866846098986901, 1.5955371012309492, 1.3502241854948944, 1.3913043669276377, 0.9957229995664789, 1.6533924696356608, 1.409999178531957, 2.297890552394599, 2.3870790217339635, 1.0493230742407318, 0.5108112072202736, 0.8250149692876345, 1.0366386720437852, 0.7320552457707341, 1.1870259049034293, 1.1475352877011624, 1.6005331100799898, 1.5334543392172673, 1.4224920242692816, 0.6318927492903771, -0.010854115871500456, 1.049361961830983, 1.5066403793689551, 2.652323391712022, 0.6529777570522518, 0.6688595989384363, 2.7823592198736966, 1.075478680149335, 1.0509334793167397, 1.7333378922513907, 0.9050306092148166, 0.45055775928889147, 1.3832698622467605, 2.0852089865208225, 1.1608259936450427, 1.6967178189360348, 1.581595758371358, 2.0667470165563127, 0.6813542110622127, 1.0235204889111262, 1.7190711663644285, 0.5911771315640812, 0.9243886150145969, 0.23597890090352178, 2.674453919882175, 0.9624677922967866, 2.28494464357878, 1.6972092286706977, 0.23422342284195619, 0.9269365530353083, 1.6805095883516112, 0.14941015156176138, 2.646827870239827, 1.4551588554004065, 0.8343429468159078, 1.4748423818737657, 1.241872319370544, 0.37552308235606024, 1.4475119537588557, 1.1426850994495563, 0.9402041596352557, 1.2356040320295438, 1.5178097702545128, 1.4326620258687577, 0.4636062849942761, -4.640272727272728, 0.24949445246389312, 1.222558379517018, 2.214432975036373, 2.041250703408039, 0.36600504127025335, 1.4314915973899374, 0.45342918476168115, 1.4873327018077518, 0.11114716704097219, 1.6146705673424775, 0.20207368475443618, 0.6199494932231981, 1.5996989552940388, 0.5801178667291806, 0.4048425218639651, 4.750758370156574, 1.5881211321634232, 1.3800160903304326, 0.9927413913421963, 1.2337215979132723, 1.0643493305184943, 1.3057349852262283, 1.2769123270425622, 0.32879697371739036, 0.8838223272152277, 1.226728244949063, 1.5762108361533453, 1.1415832856314856, 0.054937389516792764, 0.5467547399362769, 0.8184879974634754, 1.266189247763891, 1.4463274574929794, 0.7942959818658981, 0.9878170052171069, 0.5196433824950936, 1.696114630851984, 1.3156304727718897, 0.8320370834572126, 1.6003999513590117, 0.846564914186915, 1.4872500449095178, 0.37620315100106394, 2.899595125171794, 2.166388995305288, 1.6276378102871822, -0.02433885794884795, 0.8677469902560946, 0.9978253702455133, 1.0989695758157072, 1.8485381963899759, 1.8640355628283538, 0.7775831302861447, 1.9001494164197266, 1.4933295043717996, 1.3967936819849576, 0.6711443124582104, 0.4882868522624908, 1.5727935744145558, 1.3462473363287388, 1.7306648896987742, 0.45982546948799397, 0.9035319360731068, -0.05936456484011885, 1.1242599614671664, 1.4675148983581985, 0.6175597941888129, 0.8219029310947201, 1.3043438279746604, 1.1414270483064417, 3.143217252627093, 1.2654068181352354, 1.5677994836977778, 0.842929223058771, 2.311033303798498, 0.8217530311695599, 2.572086087010808, 1.6584555257169629, 0.6995256109079931, 1.4517076042318149, 0.9573214574233369, 0.18483026572734626, 0.38068205713152725, 1.1904557576885182, 2.436886426973368, 1.6682203127103419, 1.1928897136813874, 0.01167564905078472, 1.5094344287027186, 1.4973231188325757, 1.5792105624837176, 1.253743257419029, 0.9486307314067199, 0.17720406341468453, 1.1550027678230077, 1.4992382690108261, 1.405513750203645, 0.7328736474835138, 1.5324275140945085, 1.586546739556825, 0.34924541566533884, 1.1279487991024566, 0.9966631631743381, 3.6149459411069764, 0.6941660390332609, -1.4169921771644693, 1.205522220304787, 1.3988712689528544, 2.022698678295376, 0.3944163016803959, 0.7822092223898935, 1.4432486501543793, 1.530881207445475, 1.411303803794264, 1.2174568054153205, 0.819411243933798, 4.1232688295654345, 0.6616339404070795, 0.5510408321512916, 2.5202190489971352, 1.084669450624319, 1.4899621644184782, 0.9808506009535799, 0.8081531512642794, 0.3246806936205783, 1.2322722047387522, 0.8675148402692069, 1.4076101647321593, 1.5657145004208406, 0.8358940731427755, 0.8682590325472728, 0.3939262229011515, 0.9349207393323433, 1.3844855383129842, 1.2022380358043976, 1.1540568005482315, 1.873578235047463, 2.4555066124543403, 0.1649032738731636, 0.9624009302653075, 1.448431570201086, 1.705012644019456, 3.216636221256859, 0.3623602443722738, 1.3427199210527885, 2.1324521659308204, 2.4535186377516323, 2.0878616774672145, 0.6357788064298916, 1.0242185710229703, 1.037659588640454, 0.5590474918406588, 1.4424344840260765, 1.5821321293279222, 0.9845092248469296, 2.511572307345909, 0.34209153120906366, 1.6027366774845664, 1.3386949641638435, 1.643967723962135, 1.119993831089916, 1.171546497573882, 0.797909391060465, 1.6947331613279835, 0.6090273482498396, 0.3842413695396889, 0.7062317105642651, 1.902900219993904, 1.251425895002673, 1.194508172095301, 1.9512962045027007, 2.0672860801633988, 1.0914276504861806, 0.38343799122371425, 0.16784526604560773, 0.7677206633425453, 0.8918672142664683, 0.5718793236856701, 0.813311123850766, 2.030641998685031, 1.0382969219465366, 0.5678565242048018, 1.6925687252305577, 1.0038962757833838, 0.6797643786229646, 1.2359832898258527, 1.6498661152312826, 0.27334216617033136, 3.2688932295816953, 1.5508453934462993, 1.4548437411988902, 2.5679545885674693, 2.512592933070493, 1.270600412946528, 0.8781518035783096, 1.8856549638247853, 0.8045706699731261, 0.2248284499124409, 1.8545525340345699, 1.4135247610147856, 0.630355677509692, 1.7798008180788059, 1.8331009201307, 0.7860085636628603, 1.5188405152096358, -5.229175224548603, 1.6025728670054096, 1.520278971850042, 1.4444098571125052, 0.5754491442461043, 2.3460692027741934, 1.430912646617443, 0.69744372097666, 0.9258404781458694, 1.2663279537217023, 1.3193102204495397, 1.6983732993740772, 0.5811312453181097, 0.5796842367821354, 0.8570541616208529, 2.0455016868077496, 1.5964526537929284, 2.1898457372424054, 2.0686930160469874, 0.9848929937233027, 1.4704354981544232, 2.175348888752621, -0.11336363636363633, 0.993077906318537, 0.9967605249164775, 1.1877139716828764, 1.3762614748049726, 1.3413015704647286, 1.245294101950217, 2.2691336312996087, 1.5472749457596704, 0.11361461614286895, 1.7442602475088989, 1.0050541516245488, 0.31914532673045154, 0.8660068830329986, 0.604481898674581, 2.4969397405619604, 1.0635020988332302, 1.2945675081807508, 1.589858909099622, 1.9280671812646593, 1.5598352841784493, 0.8791485205106524, 0.7796365540486621, -0.04780696906057703, 0.960673994084087, 1.0864682663841148, 0.4860797835433308, -0.05604297220741798, 3.6495533237348803, 2.145383582054153, 1.2695817592577967, 1.634639988450257, 1.0843435768552725, 1.3671786523334462, 2.215734041493671, 1.5426219709466404, 0.7929052065708089, 1.491664097990662, 1.218565750647043, 0.9735381873669616, 0.853546551754681, 1.2306767681501642, 2.391913381560651, 0.7506603469046835, 0.9746798062685131, 1.4906528381550022, 0.8827904719488204, 0.345810554413192, 2.6775208944331554, 0.5374358499182478, 0.8542940532900081, 2.387492910927268, 0.6921489930748421, 2.2031588082671694, 0.5744080185531968, 0.6154948507763824, 0.3290323377680969, 1.976639139211689, 1.1166205877873465, 0.706294901923197, 1.850519785639233, -0.035067134913321224, 0.8567198223193058, 0.9033703199051166, 0.8446107934966292, 1.303535779556888, 1.708282838332324, 1.2944555517929404, 1.5709387916825488, 0.513541762082374, 1.190864500453409, -0.1776960968244403, 1.7079637103544894, 0.7445847926457372, 1.1464629390682886, 0.9569543425755374, 2.3546744003429856, 1.3401303399520506, 1.0971125011749938, 1.2224129043926841, 0.7464235736320095, 1.0600979355222904, 1.7043946547748248, 1.1110303949262337, 2.5168798122632117, 1.2311188253790761, 0.8798471591060585, 1.3688041135665616, 2.9320215640860443, 2.221827550984095, 1.158169415327782, 0.8945052473526982, 1.1732596603675451, 1.0259630082251556, 0.7506905754977875, 0.9189843208093571, 1.6544873060763337, 2.1329416198262763, 1.3386978309488238, 1.1803012317866846, -0.07828704051780877, 1.5855234657039712, 0.9614079422382672, 0.7972976522554388, 0.7865119729047308, 1.275144553890925, 0.788258703554287, -0.6234197866248239, 1.5433058288363213, 1.4118454754222536, 0.8330099176382448, 1.0363984932826007, 1.3939910433821936, 0.6335078523129662, 1.767356015370633, 1.076437072381863, 0.7931836121599606, 0.4633485925525112, 0.708075565193345, 0.8363529848286394, 1.475490300403698, 1.2446060946479183, 0.6792154605389782, 0.21961122447185016, 2.477328595855694, 0.2791543583941096, 1.6205018738344892, 1.0687330460896747, 1.1852529464333106, 0.8097029708023902, 1.0588893547042306, 2.016955962767219, 0.7777826428020429, 1.3445620654344086, 2.140181430288303, 0.16670970900799972, 0.004964971216637429, 0.6692992162161229, 1.0466362129787186, 1.143314170159294, 1.8076217228398428, 0.5923234276972988, 1.098076835356138, 0.9917579779170635, 0.6946913931003497, 0.4862215125683701, 1.5243645312544563, 1.2018145452764337, -0.9964531698134026, 0.408151732034882, 0.31569083648441737, 0.6902997422952346, 1.8249730712140178, 1.2057077451195557, 1.5959203577557988, 1.2553659303769473, 1.4254899580630576, 1.0757884343892135, 1.6299366342326402, 0.6124240968814185, 0.5491944067349764, 1.2974871768817173, 1.0042553116041644, 1.8209855240630282, 1.727549899218268, 0.05974625777953349, 1.509234930773528, 1.1602307132453675, 1.2915928929527833, 1.5406188058007364, 1.868710282091052, 0.970885238543887, 0.6013142946235018, 2.041041418380273, 1.1299096645699207, 1.3558114841574072, 0.4513456402551075, 1.728795921870861, 0.8621890203412163, 1.1162081912889297, 1.6775936496259725, 0.9138497069917564, 2.33400354308681, 1.7121003479220949, 1.3417503275358489, 0.5048359967830229, 0.6900745625602585]\n"
          ],
          "name": "stdout"
        },
        {
          "output_type": "execute_result",
          "data": {
            "text/html": [
              "<div>\n",
              "<style scoped>\n",
              "    .dataframe tbody tr th:only-of-type {\n",
              "        vertical-align: middle;\n",
              "    }\n",
              "\n",
              "    .dataframe tbody tr th {\n",
              "        vertical-align: top;\n",
              "    }\n",
              "\n",
              "    .dataframe thead th {\n",
              "        text-align: right;\n",
              "    }\n",
              "</style>\n",
              "<table border=\"1\" class=\"dataframe\">\n",
              "  <thead>\n",
              "    <tr style=\"text-align: right;\">\n",
              "      <th></th>\n",
              "      <th>ticker</th>\n",
              "      <th>CAPM_Beta</th>\n",
              "    </tr>\n",
              "  </thead>\n",
              "  <tbody>\n",
              "    <tr>\n",
              "      <th>0</th>\n",
              "      <td>A</td>\n",
              "      <td>1.249362</td>\n",
              "    </tr>\n",
              "    <tr>\n",
              "      <th>1</th>\n",
              "      <td>AAL</td>\n",
              "      <td>1.803727</td>\n",
              "    </tr>\n",
              "    <tr>\n",
              "      <th>2</th>\n",
              "      <td>AAON</td>\n",
              "      <td>0.950044</td>\n",
              "    </tr>\n",
              "    <tr>\n",
              "      <th>3</th>\n",
              "      <td>AAP</td>\n",
              "      <td>1.006860</td>\n",
              "    </tr>\n",
              "    <tr>\n",
              "      <th>4</th>\n",
              "      <td>AAPL</td>\n",
              "      <td>1.172580</td>\n",
              "    </tr>\n",
              "  </tbody>\n",
              "</table>\n",
              "</div>"
            ],
            "text/plain": [
              "  ticker  CAPM_Beta\n",
              "0      A   1.249362\n",
              "1    AAL   1.803727\n",
              "2   AAON   0.950044\n",
              "3    AAP   1.006860\n",
              "4   AAPL   1.172580"
            ]
          },
          "metadata": {
            "tags": []
          },
          "execution_count": 19
        }
      ]
    },
    {
      "cell_type": "code",
      "metadata": {
        "id": "styHKNZESW6U",
        "colab_type": "code",
        "colab": {
          "base_uri": "https://localhost:8080/",
          "height": 34
        },
        "outputId": "a5ee093e-2569-4098-cf1e-c2154408f659"
      },
      "source": [
        "CAPM.shape"
      ],
      "execution_count": null,
      "outputs": [
        {
          "output_type": "execute_result",
          "data": {
            "text/plain": [
              "(1361, 2)"
            ]
          },
          "metadata": {
            "tags": []
          },
          "execution_count": 20
        }
      ]
    },
    {
      "cell_type": "code",
      "metadata": {
        "id": "e6oXS8Yfc-63",
        "colab_type": "code",
        "colab": {
          "base_uri": "https://localhost:8080/",
          "height": 235
        },
        "outputId": "5ddbee33-117d-4d28-ccb1-345b271e5b09"
      },
      "source": [
        "# Descriptive Statistics of CAPM Model\n",
        "ddf = pd.DataFrame(CAPM.describe())\n",
        "CAPM_des = ddf.drop(['count', 'std'])\n",
        "CAPM_des"
      ],
      "execution_count": null,
      "outputs": [
        {
          "output_type": "execute_result",
          "data": {
            "text/html": [
              "<div>\n",
              "<style scoped>\n",
              "    .dataframe tbody tr th:only-of-type {\n",
              "        vertical-align: middle;\n",
              "    }\n",
              "\n",
              "    .dataframe tbody tr th {\n",
              "        vertical-align: top;\n",
              "    }\n",
              "\n",
              "    .dataframe thead th {\n",
              "        text-align: right;\n",
              "    }\n",
              "</style>\n",
              "<table border=\"1\" class=\"dataframe\">\n",
              "  <thead>\n",
              "    <tr style=\"text-align: right;\">\n",
              "      <th></th>\n",
              "      <th>CAPM_Beta</th>\n",
              "    </tr>\n",
              "  </thead>\n",
              "  <tbody>\n",
              "    <tr>\n",
              "      <th>mean</th>\n",
              "      <td>1.193104</td>\n",
              "    </tr>\n",
              "    <tr>\n",
              "      <th>min</th>\n",
              "      <td>-5.229175</td>\n",
              "    </tr>\n",
              "    <tr>\n",
              "      <th>25%</th>\n",
              "      <td>0.752256</td>\n",
              "    </tr>\n",
              "    <tr>\n",
              "      <th>50%</th>\n",
              "      <td>1.163310</td>\n",
              "    </tr>\n",
              "    <tr>\n",
              "      <th>75%</th>\n",
              "      <td>1.548536</td>\n",
              "    </tr>\n",
              "    <tr>\n",
              "      <th>max</th>\n",
              "      <td>6.277273</td>\n",
              "    </tr>\n",
              "  </tbody>\n",
              "</table>\n",
              "</div>"
            ],
            "text/plain": [
              "      CAPM_Beta\n",
              "mean   1.193104\n",
              "min   -5.229175\n",
              "25%    0.752256\n",
              "50%    1.163310\n",
              "75%    1.548536\n",
              "max    6.277273"
            ]
          },
          "metadata": {
            "tags": []
          },
          "execution_count": 21
        }
      ]
    },
    {
      "cell_type": "markdown",
      "metadata": {
        "id": "9m7DbopZkX4C",
        "colab_type": "text"
      },
      "source": [
        "### 4. Fama-French 3-Factor Model"
      ]
    },
    {
      "cell_type": "code",
      "metadata": {
        "id": "39A1dmPRPOQi",
        "colab_type": "code",
        "colab": {
          "base_uri": "https://localhost:8080/",
          "height": 88
        },
        "outputId": "5c154a82-ce4a-4fb1-f68e-be5577fda368"
      },
      "source": [
        "# Create loop for FF coefficients and put into DF\n",
        "ticker = np.unique(df['Ticker'])\n",
        "beta = []\n",
        "size = []\n",
        "value = []\n",
        "for i in ticker:\n",
        "  subset = df.loc[df['Ticker'] == i] \n",
        "  X = subset[['RmMinusRf', 'SMB', 'HML']]\n",
        "  y = subset['RMinusRf']\n",
        "  X = sm.add_constant(X)\n",
        "  model = sm.OLS(y, X).fit()\n",
        "  coef1 = model.params.RmMinusRf\n",
        "  beta.append(coef1)\n",
        "  coef2 = model.params.SMB\n",
        "  size.append(coef2)\n",
        "  coef3 = model.params.HML\n",
        "  value.append(coef3)\n",
        "print(beta)\n",
        "print(size)\n",
        "print(value)\n",
        "FF = pd.DataFrame({'ticker':ticker, 'FF_Beta':beta, 'FF_size':size,'FF_value':value})\n",
        "FF.head()"
      ],
      "execution_count": null,
      "outputs": [
        {
          "output_type": "stream",
          "text": [
            "[1.3978103196043847, 1.7988552604686967, 0.9289649934894555, 0.8759471515070184, 1.296142814191379, 1.9287490853768259, -0.03776046434243475, 0.7532755833756295, 1.096687501147176, 1.4461221338382262, 0.776887441825017, 0.9865681621726661, 2.2668336339882202, 1.7242576082349477, 2.5425892623121396, 0.759869041088193, 0.5221027145444064, 1.3070767186885308, 1.2450746756270257, 1.3167993251733887, 1.0268427943961538, 0.6421681676521628, 0.8077345104529909, 1.1505413991396098, 1.4301237804804439, 0.9754896726305167, 2.916815700045368, 1.0971959606396369, 0.7508626724598543, -0.01882207408930113, 1.7986966627959788, 1.5761285013534254, -0.32383238564396005, 0.20701398867644982, 1.8204697185976697, 1.6585570768672595, 0.20436437992025563, 0.03097991582414636, 0.772445651816709, 0.4792406415050898, 0.6625997079272343, 2.2422623648303706, 1.6575922627566089, 0.24076189257317362, 0.001807849925722842, 1.1370226462761912, 1.9973928028457522, 0.41556318797356595, 0.5179732529027778, 0.34865555391533576, 0.6890877492834828, 0.5411039112031845, 2.3795867445158656, 0.9272593417876434, 1.1878408214681269, 0.6060054178243581, 1.8592131423002354, 1.361752066369583, 1.1747709463553255, 1.8705106950359471, 0.7100528996595337, 1.0690289621206364, 0.6776396818807464, 2.0520314493634166, 0.8216702513063352, 1.8344425623260532, -1.1994984710336334, 1.0090167261351, 1.6933314797050936, 1.5643294980151556, 1.5100709589930705, 0.6222145922677866, 3.2183916541325344, 1.2980801722585538, 1.4212074961596577, 0.8220796780854009, 1.309968891120625, 1.8968955919752546, 1.0857859539099257, 1.3148965573568612, 0.3644714193675864, 0.273977037373627, 0.9624561567451636, 2.3446363558881784, 1.6343897992918164, 0.48698628599956706, 1.6287683983727617, 1.6295988946975206, 0.9205368654692621, 0.7082118026373524, 1.3887347662932, 1.6748477608148074, 0.7225554770710068, 1.1029699079058477, 0.4930829434771269, 1.3446971735526911, 1.0361963589417313, 0.519727612590926, 2.138670211943073, 1.317042807260597, 0.7260525111027664, 1.3217103977313234, 0.8766660620865243, 1.2351797284052761, 1.8878121607543648, 1.3019485051497373, 0.6087695041118792, 2.767490937114547, -0.8736497096167676, -0.953340673209014, 0.5283674954362452, -0.3196533230926557, 0.16000239675456937, 2.801167747904229, 0.2964729893988619, 0.0032119899744903063, 0.7729419526278212, 1.1681560790161267, 1.8198074155878532, 0.7472190466824471, 0.563966971578943, 1.0413477616699198, 1.4448093943119753, 1.3556822239774844, 0.06519124564500872, 2.942611618087881, 1.2064749293003882, 0.657046908920268, 1.1601933048182016, 2.468797472032128, 0.12026828462370641, 0.5366984418782745, 1.5115344505113844, 1.3254877531668645, 0.3081456710829888, 1.7117674926496667, 0.3117476919301657, 0.8845116210654245, 0.6906575124913096, 0.5285993634097618, 0.9335778985133981, 1.341453924963532, 1.6824473277740402, 1.2324999811994437, 1.478218087322905, 0.8981616729197881, 0.8132946796504105, 2.1486690027158515, 1.0610081200992454, 1.0953081149039843, 1.2495261967220168, 1.3597553903131763, 0.9978548343293313, 1.385928274091429, 0.9724522202627941, 1.5880209412250745, 2.0918902455768453, 0.9753293185072034, 0.33980349629488804, 1.6688578563053804, 1.3546153905664209, 1.1055629489251446, 2.062035464156338, 0.7637688163996667, 6.123748856929309, 0.4729994123977861, 1.2848163131605532, 1.9685520449878484, 1.4222451733074504, 1.1898055746761074, 0.5005275057309015, 0.09986419350667192, 2.1013537957873867, 0.8798994177394938, 1.0781594934642802, 0.6480838506700493, 1.2563706605454166, 0.9461339180890886, 1.3406558200339598, 1.2116972389655918, 0.5037130287698328, 1.6454924477134374, 0.6255325186148626, 1.3613289470951575, 1.6542630054835568, 0.6429148393659803, 0.9959563484098441, 1.9988702624359234, 0.858278309355771, 1.0211423522848564, 1.5916577086023342, 1.867375310262507, 0.7687695784299223, 0.5916163454032539, 1.2703409536189307, 1.6172770252276414, 0.7168118519762177, 0.14989373852720647, 2.139865141293108, 1.6607814037333064, 1.3918233469324053, 1.0307244860073013, 0.1643486741767793, 0.8131678886686879, 1.415397278525143, 1.459120661567951, 1.2700470889747755, 0.659399817109855, 1.248198774957434, 2.313472822179802, 0.1556210959708216, 0.749043555077585, 1.2509575934224992, 0.6888161410458093, 0.895272389893564, 0.72530756997782, 6.69871704967956, 0.3268271998063744, 1.344186633394596, 1.9354323295926812, 1.3640345853720968, 0.3241262690105545, 1.8116168568987088, 1.9381439970252625, 1.0998805169430268, 0.7334095119573885, 1.3105174495486502, 1.1582832371212757, 1.1759441624101528, 0.24144484766974023, 0.8513562349647059, 0.7060707174104848, 0.4019161882663428, 1.6581566368182759, 1.512189314996244, 1.9443179741355396, 0.7109847953114439, 0.08587292329746662, 1.1011657369337278, 0.7689954014976965, 1.6266254572541272, 0.7756705060589237, 2.176252855637382, 0.5474930402436506, 1.1564188425585278, 1.0474978782430944, 0.4339609797035038, 2.561718769884701, 0.7411751761658272, 1.9587070502739823, 0.20217813939828339, 0.4785796000766718, 1.5110442795937524, 1.5764506554472764, 0.9798295307236584, -0.10450166818896071, 0.7539561228079117, 1.3193988683487072, 0.20513605286791736, 0.9184842086969447, 0.12240522544301793, 0.47965967582237024, 0.7125225671140922, 1.1903968342706257, 0.4918811515046287, 0.8733299774243553, 0.8288299494204197, 1.2902000791448187, 0.08256715643054835, -0.18577878175225554, 2.314314673918826, 0.9413012432918395, 0.8643491082895192, 0.2868254115248221, 1.8345735231522666, 0.4649955861969885, 1.004677132021155, 0.6240245401239014, 0.853231469478186, 0.30961385948263526, 1.6698137095801595, 0.959580377148626, 0.9106804185658445, 1.359711228075216, -0.1889264031867426, 0.6467930066742571, 2.1239686839644474, 0.5754489345321709, 0.7023705876141255, 1.1118503127938928, 1.0157616587974823, 3.040846746742178, 0.094876048472058, 1.1738874532187573, 0.6435833610303963, 0.3422507442494842, 1.3577664295450564, 2.2243829264709656, 1.113240107229659, 1.0042143008115234, 1.1330088677130687, 0.8657626020743528, 1.4135743062071264, 1.3584147467419543, 1.286946457918049, 0.9587862658186987, 1.0275029693476436, 0.9210809313454433, 0.6154281062192424, 0.6694808861798474, 0.7117085820491276, 0.4969722656881198, 1.3351633036210482, 1.1832369679391546, 0.8645079021448707, 1.4486267755659723, 0.8811850235811718, 0.9660114766108553, 0.8681527487332594, 0.5681575211819295, 1.008955416159135, 0.7624080766525596, 0.5898493411504653, 1.4333948284859535, 1.4984015453967365, 0.7855786105905342, 1.265989033317664, 1.571471706140287, 0.34406067461007805, 1.3066863559575048, 1.638236824579843, -2.5589638291373102, 1.067019637813782, 0.04450148598834877, 0.856180262771859, 0.10288505304286621, 1.543345957569713, 0.6432932474954369, 0.8557329848498032, 1.1611784946959833, 0.4570027052664585, 0.873003703984498, 1.131744396248957, 0.839543501829939, 1.4349149821134821, 1.3205035847842788, 1.3222293690980513, 2.4199091854891126, 0.3976597190038247, 0.6558766811139658, 0.585207523154005, 2.4199267789960297, 0.7231218345093716, -0.8267646157341056, 1.487529951137079, 0.3837941182555381, 0.5893648988363362, 0.579529877656803, 1.745670380948639, 0.3109446656414556, 0.17945903874601343, 1.9900032598578412, 2.1172935385135605, 1.4206366413902094, 0.46945519414786246, 2.32775351742142, 0.8522099598466957, 1.0658869332813696, -0.005971802981764685, 1.1207578141421521, 1.3799227528903115, 0.6342259079617051, 0.33735616959404136, 0.6617435695219813, 0.656111317705754, 1.0656629790100434, 0.1901987015299773, 2.696795938664077, 1.0827759758295323, 1.1115433007639943, 1.3278423972874607, 0.7921516536996311, 0.7338286245493822, 0.7185188062350782, 0.6596508576339811, 0.31370363722505756, 0.7128645952378951, 1.3139830461965925, 1.2824002659006768, 1.533774751804165, 0.24383426834224373, 0.5146154854799376, 0.6772735766491205, 1.4265726777473846, 1.2971841152138648, 1.0021638799900687, 2.2841403071479682, 0.5745411672708896, 0.4162473083008272, 1.6557862725745205, 0.3401525022249978, 0.21557411788416317, 0.3040596918896154, 0.5010632253828518, 1.1080455678623116, 1.932833651876098, 0.3665056535798358, 0.46935940299670575, 1.0617235229411683, 1.2680357016495214, 0.24041946632651848, 0.32234966212227106, 0.5767997427501812, 0.2658504417414744, 0.6076307294166037, 1.735088432027227, 1.9930628750219743, 0.2984532789342374, 1.4490966831648526, 0.7037795080319059, 0.8625336433546826, 0.9443752692865612, 0.1400636351167709, 0.16857558769241188, 1.4076282586125892, 2.137503814081927, 1.5119943217639955, 0.945152525612474, 0.8524026501736554, 1.3424293549873159, 1.3133827580321011, 2.1652741766770447, 1.1344059944961962, 1.7407970701532625, 0.9405638995232979, 0.6171103341247175, 0.9771943331494534, 1.9024216818680693, 1.7255799594083254, 0.3348556994311641, 0.7760546810907761, 0.7481709318576455, 1.0970192902419764, 0.6087011355383277, 0.9779954487217805, 0.9783678386037963, 2.1071014146191187, 0.8657220690383898, 1.1204122328561361, 0.5964825840416452, 0.7806539910030654, 1.4888974038540184, 0.4318327983779461, 0.3835719739818118, 1.5605567537483647, 1.1221859313160694, 2.1119579299635904, 0.46805376394746245, 1.3204746803948746, 1.5137433542440144, 1.190277655886153, 0.2789502390939227, 1.171800873838341, 0.980742941545016, 0.45409247362598587, 2.1637609977862877, 1.2090345602064367, 0.7870262110273888, 0.2835481272468979, 0.28952156871806334, 1.3328166806946578, 0.9979053328335521, 0.7601346306827458, 1.144267258176343, 0.6305936345682188, 0.36659158722472795, 1.2430452083743697, 0.8199541499091967, 1.6237355088599683, 1.3434262634417504, 1.833105766713812, 1.0970986946573058, 0.8075610704954957, 0.521726068812805, 1.2921493927510592, 0.6059759808857901, 5.282489724995412, 1.596767975467186, 0.9644652986191258, 1.638767920678754, 1.1917282701554814, 1.6498978380482208, 2.513753427940042, 0.9385171396465084, 2.0303792696177925, 1.1009435471750746, 1.2568680781707076, 0.9182159684780224, 4.346252188389837, 1.592541675781007, 0.692643971624145, 1.1299087687033917, 3.1659985498028327, 1.1719413996975154, 1.173092423090857, 2.035433060821292, 0.3459149000065169, 1.0763628140088648, 1.091860253201888, 1.6373530967675738, 0.6740124753886174, 0.9781550842230445, 0.7686609763641068, 0.9633207933834175, 0.8880481786888446, 0.4265859849147701, 0.11336462984031909, 1.3679512281436945, 0.8091120212471444, -0.09221376623557831, 0.9563790116680795, 2.5781819056484783, 1.7531692350682022, 1.5683590472297477, 0.7826241561701366, -0.21419155362011444, 2.337054782994428, 1.016830104434555, 1.5197569023601525, 1.3204480742801294, 1.5031967100193269, 1.5702063128448844, 1.216418171757595, 1.5508712247907972, 1.1261733912503757, 1.0996218256223051, 0.5313541307446115, 1.2660951081112202, 0.22663110761370198, 0.6852944673781043, 1.0305876867894745, 1.0840783957679139, 2.5579281560764917, 0.8126899801735518, 1.6897545292460525, 1.111574445312307, 2.3877178509804153, 0.6408962995414389, 1.1783572537982243, 2.352626468782728, 0.6527664104690537, 0.9547045815427389, 1.0133518654798728, 0.6825311579820706, 1.3634969528509706, 1.4843709491942958, 0.8841066964941477, 1.2123328082924911, 1.1255765315573856, 0.498195127747402, 1.432609193787205, 1.3854188024087613, 1.5679250164515974, 1.4500045502913128, 0.8481776995282986, 1.0299128702511111, 0.14940511603563378, -0.1374580001069499, 0.03768878706101316, 0.7324393718592259, 1.1024502018908564, 0.8430774144753534, 0.957025621017953, 0.9769184364814503, 0.1356538069964994, 1.851763145719267, 0.7070083601059584, 1.003300456292402, 1.156696934523062, 1.035078394650073, 0.16899115240671997, 1.4424152120088247, 0.6949610301883354, 0.9319007365680916, 1.1807879388111884, 1.3962435992605926, 1.0155028664014973, 1.5076074516869307, 1.0809799906212985, 1.2415877489008058, 0.27493483675304875, 0.16819764917235305, 0.727036890132255, 1.6278528257118254, 1.0477717346320166, 0.7671752222946934, 0.945370712023443, 1.0303033391280074, 1.1571087123547412, 0.8104767614196312, -1.1798427423728255, 1.204012242474242, 0.26674701465959294, 0.9871035085041515, 1.2790916730488575, 0.7605280508276258, 2.6572823318848524, 1.697916544073601, 0.8365281335105945, 0.4305546263356558, 1.027161031682564, 1.0422558678833562, 0.43893309311958595, 0.754986062694176, 0.384715187517847, 2.2514238436608696, 3.6849585970852994, 0.758386206379691, 0.7553637881313604, 0.48522657148590875, 1.5633273718127993, 1.143191174089158, 2.1468212137864104, 1.3229411016855845, 0.48388986003154677, 0.8317740184187017, 2.256252148050206, 1.008306421844004, 1.1006378645549697, 1.7223567487195575, 0.5229663313774665, 1.2035919068306415, 1.7797656872276466, 1.0020242644693056, 0.9223390000901264, 1.1332506593126235, 0.07913534465267587, 1.257388244835263, 1.8361409973627119, 0.08613484301645147, 0.43870277703848504, 0.9348379538293073, 0.7919978931717153, 1.3983579876843417, 1.1867632226549114, 1.480492201437156, -0.6256993956914716, -0.12256735364412863, 0.9453230481806897, 0.8226730634335155, 1.0798914188721924, 0.8889457725618812, 0.5431642131450173, 0.595272503751296, 1.6046213447492632, 1.0805243495339465, 0.08454698954049089, 0.9036081307343129, 0.7206388955464551, 2.068432453890674, 0.6072784384518171, 1.2164810747975292, 1.2498694877525744, 0.4311307408991193, 0.6399168826076849, 0.6799901426624946, 0.015837839543401483, 1.0017359268586006, 1.9694103675998311, 0.4752461386893655, 0.734689646909588, 1.5335410482606013, 1.1259100162823057, 1.0916892268530618, 0.4372634776044906, 1.4465929912591298, 1.3136797293054396, 0.07694604118550015, 0.40918314265993827, 0.43433835541105525, 1.2625579751029297, 1.0712552208737594, 0.1924288072255073, 0.44633629095786576, 4.814327995800961, 1.3519620818671965, 0.4406065382600407, 1.7404456262411432, 0.9032887051917646, 0.9269764568734418, 0.34939281310774173, 0.7952581169432785, 0.9695054974072886, 0.6509401808675404, 0.7175024933667932, 0.8700697525049546, 0.17373644209281566, 0.15208039630410308, 1.0011355301923914, 0.8059476912449414, 0.14454206901034772, 1.274233197903566, 1.273011585649222, 1.2827328308080952, 1.2619211167144218, -0.11482667631566651, 1.388523859650661, 1.043676594398572, 0.8944164924755984, 0.8974303855282512, 1.1060642031411958, 1.134441609263199, 0.4210192368106408, 1.3038227933125048, 0.9418775275112874, 0.7647737685655698, 2.7447058924870467, 1.7086103101194907, 1.7030740227811736, 1.4810838793712597, 0.24761574782830736, 0.9668830068496158, 1.5526521613461264, 0.23907265829001956, 1.2521813193990798, 0.3950064217476847, 0.7766755349491389, 1.1050252175631847, 1.9619992089898226, 0.2594729647953958, 1.5317521330819015, 1.2275286233312932, 1.152080451173872, 0.4835943329231353, 0.14860039389543256, 0.861963912365924, 1.3160817657690576, 1.147526881334555, 0.4920049622870223, 1.5427832167463402, 1.1084973517597418, 1.1448026606170876, 1.1924262768457712, 1.1921393178028477, 0.7251461858405852, 1.4772935081418783, 1.0513490537993477, 0.28688345102524343, 1.9205813837963814, 1.5365108243243712, 1.3562807457600436, 0.9884121533319971, 0.30042091104103086, 0.9504851154444409, 0.3654040294380202, 1.519705202838336, 0.8012970882118331, 1.2692335205249028, 1.3789138822210352, 1.078184874206052, 1.8511895229656437, 0.3625377104989087, 1.4625775996571688, 1.22163408085776, 1.3648977254883286, 1.9821378380177475, 0.7238635767131779, -0.008267011094308316, -0.25366082707227366, 0.7565002352900645, 1.2986927604918848, 0.3811032719603531, 1.3029085811975019, 1.6899572251493353, 1.3078405865155918, 0.8861943641085475, 0.4373475377204742, 0.6911629202175358, 0.5503402038402383, 1.328607060954095, 1.4052576938750245, 1.7876452074189013, 0.41782602504771127, 1.028143098304899, 1.2925964374838403, 1.450504087502979, 0.7418055650481571, 1.2635359191256126, 3.21248089367975, 0.11791262816632155, 1.6241098060128625, -0.0379057993019523, 1.4583942137262584, 1.7635577555313502, 0.8921605319853959, 0.12975590049473779, 1.8053658287335743, 0.5518115301970022, 1.1310161998942356, 1.0734779179660046, 0.22765861647074254, 0.6845840465682448, 1.3039357039554433, 1.895108648520144, 0.43575947222769174, 1.868585668614494, 0.6418064865526089, 1.5676369194054507, 0.657176973121392, 1.5939831074081967, 0.10114227833544881, -6.125081944537793, 1.480270710754036, 1.2669167022784547, 0.33252943658952855, 0.4241506463974187, 3.9460204869605517, 1.7812138549920271, 1.2741685127205908, 1.7664206897761807, 1.4091414442204475, 1.3908901400918112, 1.1241545409862885, 0.014810102219523127, 1.091202133939553, 0.5081872871776061, 0.6972140571681353, 1.6706306779151245, 1.2354146994276132, 0.15289818313687686, 1.4881344452155536, 1.2270495158850843, 1.7291284017108648, 2.4496554786044875, 1.3514998492226282, 1.536957866393128, 1.3450172805334146, 1.9589952010999536, 2.3926861168702285, 0.9816536336775192, 1.5636323193573736, 1.0630454857472347, 1.3307490070754902, 0.6957285505794106, 1.848622937930851, 3.543128135950502, 0.47402722068466074, 0.9564204978213373, 0.15235798240811024, -0.3135997191176093, 0.4222505020525551, 0.6188503879387083, 1.2174330837288836, 0.8022387704065632, -0.2134381471923606, 0.5187076430744483, 1.650581223349337, 0.2998615653073442, 0.2487655850999524, 0.44828078209428135, 0.899119105069325, 2.954870973156676, 0.5122777454115145, 0.8560219674936311, 1.4066902655644467, 1.2801559597961538, 1.6817656824722516, 0.719550895015739, 1.2367620024256092, 1.4748520662267384, 1.3190345950308657, -0.27757003306529526, 1.0648603753082513, 0.6174558135295417, 1.279702135363039, 0.9086411941975528, 1.4244806257678926, 1.301874537668976, 1.0836162854672522, 1.2831865464542493, 0.6942535764245958, 0.954378196844307, 1.2540800555164866, 1.3384616823216562, 6.138408621972198, 1.037264924714899, 1.5589419193288436, 1.2052910658821014, 1.731630722385202, 2.3646265747465804, 1.0149337784649306, 0.5445239427661104, 0.5999503599264387, 1.0543914853512129, 0.5879630880865954, 1.2496489108293611, 1.2529939627596878, 0.7711118289893906, 1.5156091063091268, 1.1297451591898615, 0.44518168508420336, -0.07127010307589103, 0.7730392024230914, 1.338073355866747, 1.9797351424378933, 0.6885372665857077, 0.09500963708731446, 3.7985514571430983, 0.915230739374378, 0.7794076087272539, 2.0182992091837533, 0.6785080896428317, 0.387029893765959, 1.0971354714635666, 2.1303718609197135, 0.9089560221774226, 1.1322264048482644, 1.2853933547743364, 1.5825915474419787, 0.46902961052055725, 1.1751665790407246, 0.8836271578485264, 0.5688710270401012, 0.6509520126323104, 0.1088343159823916, 2.8561963893932356, 0.8122081613140366, 1.2157914447685598, 1.458557822263622, 0.07896767580065994, 0.8861067124535049, 1.4482018431962453, -0.3795529270407325, 2.208215937391974, 1.4702842196070653, 0.7493484089543923, 1.3406627356496708, 1.1231340698045205, -0.31226349391277286, 1.3743928879806337, 1.057508851236944, 0.8630222984925144, 1.2095351098347873, 1.198027792713129, 1.6599048171176833, 0.9008164911480399, -0.3785570825047709, 0.32433583941905797, 1.096467177065227, 1.976736417456132, 1.752723993243206, 0.5167722031283433, 1.295675163241583, 0.3996992577397196, 1.4939161448197602, -0.26644093930805895, 1.6276126887744624, 0.33222096976377247, 0.5521487881618208, 1.5525492182629714, 0.563061604199306, 0.34237268343954397, 3.9590263356553255, 1.5673735294671916, 1.3236017562773714, 0.9436683569427798, 1.1377158968290164, 1.039639538185993, 1.1107134506716052, 1.1503069345843127, 0.14349029355313148, 1.1417872962305253, 1.305736217764227, 1.2714848888435661, 1.0172864497830885, 0.15101514150641474, 0.3373956499989912, 0.7619021529779566, 1.1213755109205232, 1.1874604917659897, 1.1464555938428687, 1.0064116976200808, 0.6286319686418389, 1.474463220849875, 1.2799093081263455, 0.600207707635054, 1.651669218751306, 0.926871579290101, 1.291877222179973, 0.014537191968507501, 2.319144739578022, 1.736223511267101, 1.6491728220016264, -0.07645533521147135, 0.7954551959068508, 0.8707466227792285, 0.996705545604804, 1.0818271469513168, 1.5901841441408715, 0.4170910972395224, 1.9128135490646463, 1.3248732705097361, 1.2873231069509896, 0.758300976556959, 0.4847585826308931, 1.1769131659295489, 1.597665224730584, 1.1231005314775162, 0.32413382270911506, 0.8075178260356103, -0.014350680659510198, 1.5070728854342792, 1.5971664972816075, 0.3579533009149982, 0.46249509141291884, 0.9287078911337789, 1.0246975462404806, 2.3216207016518466, 1.3513591137305903, 1.410660244053087, 0.5708200582165417, 3.7508361340581757, 0.5910393480625149, 2.644548632590606, 1.774745879861122, 0.28897799361862697, 0.9742079014977135, 0.9243891123267634, 0.22886052074698496, 0.40634678038152916, 0.9005836566095027, 2.118754966262836, 1.5793013193275791, 0.9367413485162204, -0.13219013881326158, 0.3340838504098076, 1.3171161970285272, 1.4014663904630087, 1.0569844835613855, 0.7600125490843758, 0.2317946943697889, 0.9477880614719439, 1.1321494657713254, 1.1360638163716612, 0.6305563089423463, 1.47187157781187, 1.3310897636095995, 0.3803905393116609, 0.9075045466406191, 1.0132031279988187, 3.318910768315469, 0.6724072642718453, -2.930047618842446, 1.1775196687173457, 1.3948747529574248, 1.8728451657581053, 0.422039804707534, 0.7969583995670377, 0.9900477146640426, 1.4465155906359528, 1.0093812355618492, 1.269333273939252, 0.6133978981733622, 3.329279270632316, 0.7548388852981323, 0.36774195955256034, 2.403577808320497, 0.8265068902430477, 1.2001094896037552, 0.7372370889749492, 0.8509563745132906, 0.5669685047833044, 1.0030788503447767, 0.6281018506965967, 1.2751454500686386, 1.5235737563828882, 0.5393922584795784, 0.6291609510416132, 0.5416201460675933, 0.7474824081243078, 1.1614461787255936, 0.6650311581180468, 0.8130518066429138, 1.2568589061054358, 3.0022818866417254, 0.1582936794081072, 0.9505354967848844, 1.3895342966619892, 1.4246932020779455, 2.6824160873314744, 0.5847641275945235, 1.0482946029649045, 1.739916291198887, 2.839977809137533, 1.501804689437274, 0.5841487044082658, 0.9105345125070157, 0.9863274854483577, 0.4643748938989974, 0.9320885151414935, 1.6505550949925496, 0.9714678617594407, 2.3610329560484367, 0.5456070924159621, 1.3873228034947696, 1.4076007144426432, 1.5272636344581967, 1.1187659881708076, 0.9655732714171967, 0.8861884798777425, 1.1375688653318528, 0.47537195506610397, 0.33800280976909547, 0.8082769649616901, 1.5990159368392496, 1.2413523131760447, 1.1637590165266802, 2.126388168574125, 1.7511238402756264, 1.22589544029883, 0.4784508740496744, 0.2767312805578782, 0.6676801974320422, 0.7505477861769381, 0.4603003666452313, 0.8172261173640009, 2.0019447473528746, 1.1167562049993827, 0.16761958536457144, 1.9510046027110832, 0.1758694196309726, -1.5208644351395573, 1.0191965266062302, 1.9488943723341363, 0.3667320524680219, 2.0918951713779084, 1.343475250811685, 1.475215269449802, 2.255951930074273, 1.522965430876364, 1.080857477894622, 0.6208377779618974, 0.622592650849705, 0.7489370240560365, 0.11965905680016595, 1.7029311257599284, 1.5771088088085292, 0.3568805916721671, 1.6632515440846303, 1.6894656275788773, 0.9167157694972449, 1.0137960406977764, -8.016714250376037, 0.6698416439342204, 1.5449724012254171, 1.535547394839561, 0.22470047069509325, 1.724733706998998, 1.2970617137056988, 0.7699153706038548, 0.8190268881758833, 1.3784280474160229, 1.252621555076407, 1.6522126947047227, 0.5321355250446307, 0.5386807161416972, 1.0728002944182669, 0.4976529565788934, 1.175507330347906, 1.7211894547781776, 1.8435118744965364, 0.7435199049322893, 1.225042263743286, 1.6730050069143207, -0.009007400617778806, 0.5755455067535047, 1.2230043393607963, 1.0870622129603023, 1.435697609048011, 1.294398482555957, 1.2761407219844738, 2.3174522743859494, 1.7174624925415147, -0.07502680277381595, 1.7299385092716495, 0.6715034569234251, 0.11623814517487499, 0.8236760307845781, 0.6130665122557242, 1.982597359595872, 0.8725430021823479, 0.974775612941577, 1.3775966532313393, 1.6264183144128088, 1.2837414224908221, 0.610299961333824, 0.7229495294834125, -0.4094676403849594, 1.019001077025817, 1.252326047022493, 0.5900683188350844, -1.133135558032563, 3.8175899464851857, 2.7828556004976743, 0.9028563525900039, 1.1594301942227814, 3.7213679779871187, 1.241462337105132, 2.063958561461417, 1.0768185061497129, 0.6012840389189565, 1.4960878195907226, 0.9152240743244515, 0.9134656996662956, 0.5941736687798234, 0.8911185963977255, 2.117362528267856, 0.848366885749084, 0.8880765853406605, 1.5809565018561953, 1.0279784233449916, 0.275279374525076, 2.2913986191457467, 0.6066836329117581, 0.6768333103098413, 2.1170438426823797, 0.36973616473939286, 1.493846880264857, 0.7342704598109548, 0.36062218399764806, 0.10629472186779443, 1.6035953895841684, 1.1260469280865637, 0.5436735809775424, 1.6205941374971553, 0.6845115632223033, 0.28293509506607967, 0.4108802250006725, -0.08226965466209035, 1.2620722975011218, 1.5146835746196856, 1.0154184779662556, 1.3074643121041802, 0.5272710118371207, 1.1762776023431953, -0.4706323926226626, 1.4256357213769828, 0.7397245978320911, 1.162856688031669, 0.9820710979773999, 2.0576952764906196, 1.3075677573678042, 0.8696123945789009, 1.0195847419572974, 0.7249227369101279, 0.9643896034734586, 1.7478863928060404, 0.8357964055802963, 1.9596341277033553, 1.2157536945981002, 0.7448120198733209, 1.2511131142449419, 2.609535551770209, 2.502120177105084, 1.2344846845700432, 0.8255409058331695, 1.264039433650777, 0.668919213082743, 0.8730143531013128, 0.9698008641588769, 1.4192706464965705, 2.005980158860056, 1.4984464969998104, 1.258792163658769, -0.2203044171378997, 1.0593304714303127, 0.6423422615419444, 0.6740375455037897, 0.27788691589726444, 1.9099128236097536, 0.6817504437128135, -0.7690983255674306, 1.4999686632563694, 1.2428066595400988, 0.7217322970105302, 0.8445181402604535, 1.2005627249889101, 0.9720180353009634, 1.7436988949490453, 0.823435468545998, 0.5683108418214342, 0.8369774702202627, 0.732010056139331, 0.7851227776765015, 1.4432614123213328, 1.1340326389547621, 0.7618379991975368, 0.19072620854681693, 1.767556072429339, 0.3805518681551432, 1.3212987458289043, 0.7539917201919555, 1.0240537160906995, 0.6034337005652837, 1.084728588678154, 2.1559831236516187, 0.924750974041403, 1.3646961027849103, 1.9998341889417364, 0.1379817231106107, 0.1277821595932038, 0.5595868829142528, 0.9206535074175648, 1.1538018167887485, 1.7173239670063274, 0.44313621841419004, 0.9898183192246615, 0.4763206609811129, 0.7634287994906697, 0.5538704952233181, 1.3155058182765063, 0.80160745890974, -1.13672594080559, 0.6462528586952941, 0.27960942077065815, 0.6746656324540516, 1.7707683100937324, 0.900954367021645, 1.5248585338092266, 1.0206315111889948, 1.15411414831041, 1.0196764274298253, 1.8964641670943125, 0.6192906183277167, 2.0450397977607473, 1.1280394382052283, 1.0285612305538194, 1.7321207435935395, 1.4581372115509148, 0.18959678465243668, 1.4894112554618046, 1.0997821552613412, 0.8515039820259336, 0.9151367811654023, 1.558237117918544, 0.8615412403033319, 0.7582422307540632, 2.233043573716991, 1.111623251870968, 1.3645139584653825, 0.5608315935493868, 1.8595158986027005, 0.2494767830690209, 1.1223542036488219, 1.5029019860477049, 0.3269368317320563, 0.6132198276804626, 1.5089611763446094, 1.1877549392584945, 0.15967543299671436, 0.6637505209787407]\n",
            "[-0.5402075201203763, -0.025964565501159498, 0.0782494239145563, 0.4535460437015308, -0.4161797823140478, 1.2762619015276573, 3.180037944500682, 0.19365396584665046, 0.13619087441961525, 1.2057352108200943, 1.9336553344770513, -0.16429142944650915, 1.8654201172862448, -0.4659082955852719, 0.5558778972149656, -0.22034963040169958, 0.976096648794687, 1.7415920154796611, 0.19405312958332527, 0.20266485739957013, -0.24066104706348412, 2.5071544187465644, 3.2429810618571495, -0.15891418956813996, 0.20222477506854353, -0.1424664442846291, 0.8390461499032624, 2.6402865912868796, 0.3026806191460965, 4.547789743421308, 0.6548666792940201, 0.2209927016397745, 2.126994980443872, -0.26115078263562747, 1.0343833847957902, 0.21450942111582516, -0.537402281159852, 2.239974153096431, 0.08950769544733389, 0.012000010307842063, -0.04700595929835916, 1.5969347669777572, -0.24753173390226368, 0.0942662450588104, -0.014226247993200538, -0.4361119647445661, 0.3940910298166479, 1.479444914059322, 0.024846497638413935, 0.7256082754202962, -0.14108599392181598, -0.3600449596801294, 1.3510708234712563, 2.529525663663823, 0.41315382992748206, 2.57625476654691, 1.122659289823438, 0.33855839826688483, 0.1321065155097432, 0.693664205067657, -0.10685995124148327, 0.2154520456029761, 5.155033150387232, 1.8898226195888368, 1.1330017272334925, 2.165406278729708, 2.7748394881690457, 1.9576377729671979, 0.39174326931229964, -0.014972050125487635, -0.28799599360539485, 0.7790004529736174, 0.3822060652710694, 0.04223383577289096, 0.7191966665145795, 0.19607276018242734, 1.227737887374844, 0.4077525456722325, 0.36535838196318116, -1.8920949437360939, 0.4526125212500318, -0.7717716661560513, 1.2780493533541892, 0.4847599185627837, -0.41254965581492836, 0.3524004362291, 0.1109794434993279, -0.5416086528448555, -0.10604235218024398, -0.1271185713860808, 0.46537233094855873, 1.4317191365828714, -0.014456343022158199, -0.14994277267520623, 0.830909763350351, 1.0484422464981518, 1.410326659669941, 1.5847535275992672, 0.3425324015581949, 2.352357100100771, 0.05092189798965503, -0.18847924670953542, -0.2481975035992177, 0.9694600062713996, 1.4717635196559689, -0.39655251597276997, 0.4968475380622797, 0.09251822419312727, -0.40435834708951135, 6.3629614001327734, -0.893601917831929, 2.008610729329362, -0.25463182681021584, 1.1360103488961912, 1.4116068735488, 0.49793058729720013, 0.11765642712575419, -0.9463259375729527, -2.6911463169856837, 1.3393618077639888, 0.0726736680117512, -0.34279467286407284, 0.054229459251897705, -0.2755587998470426, -0.17729735403343463, 1.6441459420054862, 1.0349915657489488, 3.2745050438059526, 0.1351506505326481, 2.801926794579683, -0.046409885349171925, 0.14067578184948323, 0.08954482431982116, -0.3474618474792599, 1.4308113179222823, -0.016902212124033644, 1.0305410433570763, 0.7403845232392818, 0.8450604389080731, 1.0257466563822497, -0.17258209575825373, 0.7494358752635912, -0.13290105356324056, -0.06794067903129335, 0.2917899124717786, 1.3692535817601632, 1.067681571158026, 2.3309026731552374, 1.2622285482006061, -0.17235004770815782, 1.3202816927645116, -0.0579249312813494, 0.2447905518668848, 0.4856962298795108, 0.6391698598960648, 0.22066234727922235, -0.6899926784372619, 1.2653604376135925, 0.5937422836840363, -0.3180315275934023, 0.45994567784857243, -0.14025363639690264, 0.15470397853467055, -0.3337135539699187, 2.273572957642385, 1.5207336613992348, 3.958822946662407, 1.0771797932519007, 0.00030950715658682737, 0.3413043981810424, -0.17027977583557077, 0.4690616909407702, 2.40156082902271, 1.3209958997716718, 1.3182815452505114, 0.2660889078089995, 0.8138595062774896, 1.001432264371871, 2.6483513419667997, 0.14497826664121932, 0.40785850025890735, -1.4308627678655808, 1.0772255122125847, 0.27799769868270774, 1.242191741466381, 0.38122901111760044, 0.8031761171191495, -0.03288417188544018, 0.5170301682822238, 0.936896056355843, 1.8359079654830444, -0.12166098851603724, 1.1195375426403789, 0.767684926880214, -0.7526749176388252, -0.5682423831704411, 0.1558918031999718, 0.5346515696679579, 0.4439963292025818, 0.982145533640966, 0.04879652445021476, 1.7917692549454207, 1.2276918872562752, -0.4790242073626816, 0.24346093421379145, -0.2662792640906928, 0.7799942898622734, -0.7220013694182643, 1.2222346721754571, 0.18512927642088528, -0.44191641628715644, 0.4735879836665617, 0.32746249317854775, -0.5200501287765662, 0.11577111857380286, 0.5822670475249523, -8.691011396326655, -0.5345821166062298, -0.11186238224894761, 0.28130602127355353, 0.10502279180843344, 0.689269066443329, 3.1720848101740438, 0.10336699774045614, 0.03258093966286424, 1.312452036531146, -0.5677763095278555, 0.055302716872321994, 0.00800404285386705, 1.2705395435238784, -0.25785734901923774, 0.9046483903480943, 0.601517718459658, 0.5238418327300677, 0.05949865103623525, -0.1503400472515756, 0.876926411428685, -0.5167368650656237, 0.4669047148030565, 0.2513570112646306, 0.9573753823973445, -0.4439876971393407, 1.449134382234703, 0.07429040407281698, -0.38802603311355544, -0.24525566143598185, -0.09945866102997375, -0.2142302599504585, -0.4550348648888637, 0.11817753563686068, 4.19504583860223, -0.4215676783004195, 0.6748679774450627, 1.2926098458561255, -0.6106932431520437, 0.40387735767777294, 0.602611804878555, -0.4165847283504738, 0.037226266412072384, 1.7214232257951037, -0.2926133802090499, 0.16309666663368916, 0.766921004669273, 0.5286002398285837, -0.02496542997912491, 1.0732029404411003, 2.056894132356694, 0.02519266123890218, 0.7070582159231873, -0.21123251014138333, -0.17726602552909304, -0.34362293613511774, 0.9898818371191312, 0.5762568524192372, 0.537317071863892, -0.34919148049015314, -0.5766838220036576, 3.5807510801553097, 0.9023062570527334, 1.2416166400631994, 0.09291986032257527, -0.4428998103952343, -0.12406883745010189, 0.8149176341337446, 0.4153754921952965, -0.6772109742575335, 0.7233419525830052, 0.8511723980424394, 1.03137559229906, -0.2968094754994346, 0.10825426712466907, 0.28820822111592503, 0.7795110038394839, -0.3319934423982809, -0.03852668835931475, 4.282310814641985, -0.8474728606068724, -1.440402231511329, -0.12110057084512305, 1.278374604669974, 0.33490462664782183, 0.418359438471096, 1.3264379633615784, 0.3952214667594456, 0.4986004902416183, -0.10257225012166049, 0.795051074318088, 0.38592319650425355, 0.9016676350480958, -0.03447621760551478, 0.9677351073984751, 0.8689298038811435, 0.38372729252349047, -0.9086525440222922, -0.024980166266654766, -0.1200348751631794, 0.988017171312684, 1.2159681110975606, 0.37158884121005453, 1.023092061580826, -0.5335641286312297, 0.2837296661444789, 0.3993802431087697, 0.31443833446295244, 0.6036932854686103, 1.401763622189729, 0.7400888073676065, 0.5119994820151867, -0.6726559563015753, -0.254314943607287, 1.3273501597592485, 3.046548369197076, -0.10973575912267172, -0.06494567950322602, 0.16501587769344706, 1.573132198380542, 0.3132175954520272, -0.42677326682954464, -0.005606968923421954, -0.1757601615834483, 0.4968844021776601, -0.2077168560721603, 0.9880625616014684, -0.35169919099103275, -0.5316722450128384, -0.4353638000804826, -0.01677564664698225, -0.05816482622097147, -0.0480330050607152, -0.9752959420036258, 0.5599062990885267, -1.8419379048979656, -0.0701478057145346, -0.5669822634725319, 0.0662796280459079, -0.30025964660056315, 0.24290015693174538, -0.11596167299129667, 3.0352964396200424, -0.39406862652332986, -0.49676948067725113, -0.2870982973730907, 1.7154560915079573, -0.4299747146141813, 0.5928208474003294, 0.35779961885226536, 1.3252659145176677, 0.17001809330177603, 0.031168464003678998, 0.6354481477892887, 0.6859572672837636, 0.3738849909990612, 1.926196503641646, -0.03405961537906474, 0.38824748367911616, 1.9308710591452736, -0.43477664800716803, -0.9042398293997943, -0.9554879225137739, 0.7923710943933644, -0.47552582611849337, 1.043440615305904, 0.7836341009577303, 3.1037559320119645, 0.7470078501142777, -0.5586505053211916, -0.28059824346985374, 0.15819629507512983, 0.45641515898778684, 1.0078553251711255, 3.4916086355645986, 1.8679825078656773, 2.244915852941591, 0.4161566374604153, 0.7307002701920178, 0.6035504303790603, 2.7265776075276014, -0.29970061012736005, 0.17597230250221277, 0.9756478577067476, 0.47508832085695707, 0.3195870639979227, -0.7006567750675305, 0.5034837835636305, -0.6354281970413069, -0.9142148437267003, 0.10037259209714897, 0.15156795767073317, 1.092268752818744, 0.16236184097519646, -0.3995508414026537, 1.6857235187908401, 2.143776934330412, -0.6761205883820561, 0.3351794246298765, 0.5609356121905731, 1.4848543751074494, -0.17070439079819616, 1.4897658521768005, 0.32310668675881055, 0.3968264961320642, -0.1250479093780439, 0.2094942555138729, -0.030556083037251297, 0.7886454259338861, 0.4082403537414967, 1.4505477305463337, 0.31448018439248915, 0.39295142290241275, -0.6358742101186616, 0.16235241166681447, 1.1042717434272382, -0.27408454281866934, 0.07533679842810946, 1.212279722121555, 0.6073421561569905, 0.8374926488761056, 1.414052197085607, 0.11582421045216744, -0.5833670624974585, 1.4450768213291125, 1.0112926508329223, 1.4286190692722165, 1.170257005741636, 0.8719704208616015, -0.010396149553604489, 1.771911900820054, 1.0757661417748765, 0.6290060812431307, -0.011637474961151542, -0.22894911905711599, 0.04642388487100241, 0.9570696975598507, 1.5737328399212005, 0.31321455105774587, 0.4951082313888002, -0.07015539255141778, 0.9410356153165343, -0.230677699756653, 0.6359135925108103, -0.5949265946962782, 0.13037415921573137, 1.159043872200646, 0.7920022894200248, 0.9924007753665413, 0.8888680842139326, 1.123256683437953, 0.7837079032902953, 0.13729545419417216, 0.1293756335658448, 1.3284179331243045, 1.840326783465582, 0.7682823801293682, 0.914015955064322, 0.6811497122411931, 0.3023297795163984, -1.6079125306521214, 0.45497041031303614, 0.18986620567292997, 0.3566248209431721, 0.13667824135360102, 0.49451603456105264, 0.5602738347685887, -0.051133426294064116, 0.4468117928634996, 1.527404546458967, 0.8956481225774371, -0.1404439692867794, 0.8412016305318117, -0.07223528737704221, -0.10120886198199999, 0.8721794494594269, 2.5683744684184897, 0.9729143516452999, 1.763953251676419, -1.0483355828528391, -0.3544013210487408, -0.6776346195973165, -6.25634700462944, -0.7403642996419999, -0.06089621508019921, 0.0947749711513162, -2.159517591582951, 0.3982076313779782, 0.12434670831329758, -0.3880760431242079, 0.8255482031710331, -0.6459163266486712, -0.6152858240293702, 1.1939871557351538, 0.4923387715109821, -0.3018837399670544, -0.13669859618777028, 0.4622552972729073, 0.46398793746661426, 1.9016556127707172, 0.23902012465120737, -0.198304289982127, 1.3320203639744974, -0.08681461805991439, 1.5551716541458998, 0.7469703588096845, 0.08158103085307973, 2.9714158405097755, 2.0856820639399087, -0.22502064713616457, 1.5412152100278058, 0.5975906952962722, 0.6907860777057229, 0.22040160387881022, 0.5640602970510753, 2.6756653367259897, -1.0783998599488196, 0.3083717171392785, 0.5788437449902437, 0.22909112396845932, 0.001292043164396614, -0.4768817442326434, 0.40712582122940394, 0.05013969368446742, 0.04360873506978344, 0.4117049626682765, 1.5915576262417181, -0.6297764417012932, 1.5812750230028298, 1.3199338333722734, 0.496306363681996, -0.1442001313616482, -0.43208612149735337, 0.5593591172411232, 1.278588809249504, 0.2804054504517771, 0.4033246936549294, 1.4228175710956998, 0.2945597396655342, 0.29491053690149066, 0.1689396528009482, 0.6726625101799133, -0.2638678221246097, 0.49019370594888945, 1.107466070596826, 1.0377834826665904, -0.23887645541945757, 0.006244474637371322, 1.0474708767694392, 2.64904839284992, 0.0867854577926904, 0.12912442095386253, 0.0578080813183469, 0.06533752575296412, 1.3061947697656695, -0.5820564186487674, 1.9468995314583073, 0.8028585581921448, -0.7280542348014982, 0.4437746069926858, 0.540151917654818, 0.5724548741495161, 1.0794475906777015, 0.15452934221467252, 0.3426943122259388, 0.9729250469576649, 1.8637013247724274, -0.3422555948781819, 0.47647272416753716, 0.762601807621975, 0.24921607649933764, 0.023586465613022245, 1.1408012381119348, 0.8546642815642838, -0.056198231802410216, 1.13348221678644, 0.34711182846727034, 0.07805347122020212, 1.0380030876649482, 1.357401564828355, 0.1561870177106576, 1.2232929456795985, 0.2973538809778594, -0.6536289717293625, 1.023623249027817, 1.65911147680161, 2.691675216599381, 1.4241354454038562, 0.7373392797938674, 0.40668030955497525, 0.6275107553212254, 1.8466581253398908, 0.16735655436797475, 0.10640730648313035, 1.0970584320197965, 0.9258607560697567, 1.0908798916492497, -0.21489281876952449, 0.1816660860614031, 5.153713898998746, 0.3044583948270654, 0.32705339918673376, 0.035192344046300686, 0.6137791821720029, 1.8522497495189145, 1.0246433077717372, 0.47586826929041204, 0.32501587165875256, 0.34013562274789505, 0.053502025929774745, -0.4350776481653342, -0.08265789258649539, 0.16418126172726627, 0.3031481438375081, 0.40140152211196845, 2.1228893149003754, 2.1823109920636856, 0.4578161421312127, 0.02863087288985222, -0.11051391243400771, 0.7247046186545293, 0.2944350039294034, 1.7554319457837262, 6.49600960600906, 0.4399740626037489, 0.5530557964449277, -0.019569331990794105, 0.6321698887906113, 0.08570225395197649, 0.34311162441943077, -0.15360129569321326, 0.6017030368040055, 0.6673598289577778, 0.718170022485836, 0.282909189012547, 0.2242553117100841, 0.6044278235656843, 1.0896977097307212, -0.6581064147909876, 0.50864967467075, 0.23593478459570863, -0.17965036791213748, -0.5346956052875542, -0.706401112881355, 0.31043245833542954, 0.7397762608325567, -0.3346438726252457, 0.2950185226834723, 0.7479033479204548, -0.2633269199356142, 0.11039656513788768, 1.019394339777404, -0.23363517769065412, 0.9823556469560554, -0.049088539513519325, 0.16412048740881507, 0.7805769719525442, -0.8005650422457439, 0.4431619552320037, -0.3403986156904183, 0.540624659717923, -0.0403235746401317, -0.2811958260399995, 0.7168301819374256, 0.6549055122794332, 0.4889310183279406, 0.8447890166503517, -0.7729437709223055, 5.106846110839336, 1.6783979838379006, 0.4461348074341661, 1.848134226649401, -0.9623738011718518, 0.530297196290878, 0.5131040023913888, 0.33857270261205685, 0.17321396561980706, 1.182885497700007, -0.30917911718066077, 0.3169330578958415, 0.19684341940798297, 0.3291428328109165, -0.11484358758158772, 1.025091882220048, 3.587292130076943, -0.2845065840754203, -0.23824909271078443, 0.07299085203147987, 0.035652710802331594, -0.05513053166216433, -0.0017830807881578092, 0.3946148507366981, 1.810278568972644, 0.7475508903481104, -0.07983962623190505, 0.2595250305906418, 1.6444478300119587, 1.3684638820475592, 0.18478780820427065, 1.4044484665258805, -5.838490944206251, -0.4973442714937955, -0.5598514572312833, 1.4326803858251702, 0.38253300819943303, 0.9107819757358351, -0.07872619015556093, 0.2998647149615859, 1.054631729867566, 2.417995190844888, 1.2444980580765632, -0.5070779460571945, 0.015720418734424785, -0.35485956862789897, 0.14040913915939857, 0.22249587576154875, 0.40663837327570806, -0.25984001564819914, 1.1796259136953247, -0.08742171957022134, 0.2443027307784234, 1.274570061693647, 0.8812072286973646, -0.08479904910331454, 0.6614056049021938, 0.3528844767949886, -0.10436410228465991, -0.14572988765014516, 0.7249350205806656, 0.2890479581707403, 0.6941565940001524, -0.7055039762031086, 0.5174339147250955, 1.3942555154730585, 0.32724232466479364, -0.042260487176665806, 0.8497694990579627, -0.11006053209615879, -0.026410015676581383, -0.0483294466806605, -0.015423315230532364, -0.14960432941118856, 0.28129826448144013, 0.7326844237785446, -0.05932405080089187, -0.5321383337832258, 0.09419513464256457, 0.21853100670218584, 0.13156664855181613, 0.3348816359302854, 0.639915980912252, 0.3338281974286325, 1.5957087942097508, -0.6422885452520184, 0.4716048728966512, -0.14173684010592832, 0.39919342753561254, -0.9826128608811331, 1.4643080797024843, 0.6140002322759043, 0.12667978659398685, 0.18708339267822138, 1.8129987239338319, 0.02562882322625326, 1.5663779824564767, 1.2214683439362741, 1.0335718412623869, 2.1908636170881763, 0.6228846500464432, 0.3731548270064733, 1.9298918127712412, 1.105605144126055, 1.9043707798644196, -0.46615792602255346, 0.07800907769731957, 0.3470820819973732, 1.063834216393963, 0.12455886793283286, 0.3835629026883401, -0.324527306148918, -0.26177414260859766, 0.2553842381469218, -0.21093773523766585, 0.8416384542677918, 0.30799949135273696, 0.2235436725089346, -0.47672639426132724, 1.3015157753056579, -0.5349288454630722, 1.1440755376839995, 0.46393367930974283, 0.44979906865520214, 0.5566166530536267, 0.06673267433711844, 2.2920469414797098, 6.94515784283908, 0.04787985807279599, 0.12193224054310758, 0.06326868695655113, 0.3738963796043837, -4.240953638243507, 2.046987711036232, 0.9496588371353848, 3.8847155382277734, -0.2654726042985009, -0.0988945054729441, 0.23246349774569447, 0.7031966513452643, -0.5928660442528345, 0.4736645509845915, -0.07927582681845657, -1.119573163991027, -0.010387712042491892, 0.15367725548654276, -0.3419397295616884, 0.7487375119819342, 1.913602937615419, 0.8764235110141556, 1.6742315985262772, -0.4562536271792864, -0.15265169242941534, -0.8765211211016443, -1.1283053462776913, -0.45412568366352124, 2.054095048448019, 1.284833481038091, 0.7385971723928515, 0.9065959981223062, -0.3570687383645356, -3.6067384222078065, 0.3745808379934502, 0.35942025368285546, -0.5998835154664998, -0.12624046929031918, 1.7119552144690586, 1.7381047365886935, 2.8114223985109037, -0.0799389667575132, -0.3758741035578399, 0.8539751723177178, -0.3268681279819067, 0.886741620506034, -0.27831949419942603, -0.07308690404171805, 0.01753388157544944, 0.9893069845676324, 0.08856510496570041, 0.40800208827946943, 0.5395391918255984, 0.7961326626110893, -0.43809882541839473, -0.10428902559271634, 1.2744732181422505, 0.523672329762997, -0.019450720597388005, 0.87780690506752, 1.117953821879279, 0.29326491291641954, 0.43171326001140786, 2.0375129127599707, 0.649491616073566, 0.7393376808271718, -1.584904317872578, 0.3857412757178799, 1.711911288632193, 2.0833562358820035, 1.3935806342278423, -0.024056354359213515, -10.218793905573497, -0.1284747479689589, 0.2975356201559607, 0.7912496114259961, 2.258947814712595, 0.10724223980818695, 0.1281125656136184, -0.11970670186388202, 0.7993278486502595, -0.06168446573014286, 0.4704134721866156, -0.23723552906162668, -0.40213412892778333, 2.8148505835911584, 0.06333380468387745, 1.0868635087633642, 0.6845299780531602, 0.2592919985874488, 0.9521112267602614, 0.6258584759395958, 2.438742396842473, -0.14907774191899315, 2.1050148741660477, -3.2930804185402653, 0.5692258404337394, 1.3564424660025127, -0.9731027595547784, 0.820497813243158, 0.205872361742985, 1.1187320597251085, -0.18958151875871443, 0.8924409024391013, 2.0915043968721596, 0.3479888718124191, 1.7882355978739852, 0.9447654785084434, -0.5760645775120586, -0.3449429336301142, 0.09639529907423385, 1.0596482922602313, 0.45507145158946344, -0.9934386716382736, 0.5266464011822819, 3.7047972106482034, 0.8319357191161189, 0.6326842141453801, 0.2669118329963783, 0.8122773686569766, 2.082163239412293, 1.6028145359739405, 0.06646303194389125, 0.33534739266423397, 0.4383743917142232, 0.4167262670029711, 1.5155938399565507, 0.26262615661932737, 0.29627964381265165, 0.28257234737397396, 0.24954887527181852, 1.148333246960395, -0.8655133263116883, -1.6063506417050382, -0.06543834754829511, -0.27866185718561165, 0.5066359561144607, 0.803090772318164, 1.1203015580484883, -0.5492993555507456, 0.42511503080874286, 0.2035082447861327, -0.06631978752874146, 1.3827066880280028, -0.03216627148501133, -0.4850306576478801, 0.2544417739614971, 0.13876581054048606, 0.06570202299940184, 0.29417715127955196, 2.7204696835081297, 0.07648015579709669, 0.25394547140099644, 0.18399207347609753, 0.29248753193783006, 0.10837429995023541, 0.7379008353752109, 0.4479577048649449, 0.9100024262094174, -0.9811881120753353, -0.37489240868237345, 1.0772316615133168, 0.4708274105919057, -0.35630671279852477, 0.8786622519277563, 0.21423358601650017, 0.5422797250070182, 0.9122585184727003, -1.301252784825675, -0.08281400511675721, -0.40852050203391854, 0.7977927460701755, 0.15959146547699615, 0.8974736930108788, -0.240465251043827, -0.3204524036477806, 0.7102990105079366, 1.5035076285247875, 2.2482945074016643, 1.593373934819293, -0.17446711365944204, 0.21831529094087326, 0.24364917493385313, 0.4539973558385817, 0.4225713162770751, 2.911920774412823, 0.9341468512333347, 1.2910756452629977, -0.06517899554485479, 0.5818692676994324, 0.3494103754384254, -0.28055987289610673, 0.033932185416455596, 0.9610073061985631, -0.9283173813863338, 2.319839903970669, 0.5533681737414058, 0.43885287898458153, -0.1023934121184749, -1.3760928164604729, -0.4110130923492482, 1.4766208807930754, 1.3546494397894184, 1.5496498151124931, 0.5373748603005362, 3.1662357729070325, -0.03089955737028907, 0.5480287741443295, 0.9696076295604488, -3.258895998585441, 0.8653291727713572, -0.4378869152124638, -0.42213837238440194, 1.6224358294122472, 2.242631646169976, 0.15209952910990057, -0.1851623009677203, -0.09342757580606198, 1.1655888621992996, 1.4759663849625388, 0.2363704458378799, 1.0264921056393137, 0.6206282016250984, 4.389002122589656, 0.6371963346715301, 0.6333463366188514, 0.723473280559503, 0.7036197931756617, -0.1562759519096219, 0.7597700067196282, 1.3168149983915685, 0.9994525254999717, 0.38582326512745346, 0.20776919060661747, 1.2811295848999524, -0.10358254593757346, 0.7963568877278886, -0.04503304961463769, 1.3242612859536054, 0.07162349998249787, 3.8405926516091107, 0.13051879245750853, 0.1351873465635911, 0.6031724762307665, -0.10323917605874411, -0.049966828678971315, 1.6717237799113283, 0.2724866382197011, 1.4528371324944254, -0.20010111615847836, 0.8068743508767107, 2.848540318767666, -0.3341310167173996, 0.6738945840418705, 0.5375093481434521, 0.9432783555518647, 1.0286862756049673, 0.8609947344653228, -0.1893635604785745, -0.856894132924872, 0.8043293233367794, 0.8631857952704599, 0.5100063861845909, 0.10444202527880453, 1.1421421950567783, 0.8424114103634842, -0.5477312681621056, 0.6751986014484374, 0.7712934906126517, 2.014213066814631, 1.2512424316829596, 1.0986495710112925, -2.596517813697766, 0.05423658124488834, 0.043195920456841425, 0.2151241874819662, 0.954139002454523, 2.623293110972024, -0.8096950230109107, 1.0428246588903285, 1.5271880385142498, -1.2914855504213172, 2.164496770630995, 0.20140268500672953, 0.42254028817558853, 0.20546116029159683, 0.3551718822166205, 1.9810226041584154, -0.27607295335795623, 0.0557403779138446, 0.46764050323647877, -0.7769318456076852, 0.7393861096502562, -0.28604434148292884, 0.38244838274971865, 0.03901965717343914, 0.7559796548830116, -0.3074629973287486, 2.0014693543169138, 0.8593226325552525, 0.26450947726599394, -0.4775259063953086, 1.12547311281997, 0.01839730670051392, 0.09922534386847688, -1.0539351689659835, 1.191369534224286, -0.46204788549283005, -0.3549084288051015, -0.4110110434993931, 0.36970420425314454, 0.5318327274319028, 0.4217816139406778, 0.09948566010399945, 0.15658901511002596, -0.2823826316156223, 1.5478765187414392, -0.9104425933347341, 3.2708974431313065, 8.107216800890248, 0.7709500035538809, -1.112762792896699, -0.32347693339926903, 4.650637765127368, 0.7410082885793349, -0.038528008574890124, 1.2663857090401014, 3.8014812941300837, 0.7077690864490809, 0.9045787100055095, 3.494837337825129, 0.2545190281408065, 0.351093919622699, 0.48885134103512723, -0.6441735516868472, 1.0130988979971944, 0.3865266746292634, 0.590893933128438, -0.49958686504856914, 1.9117676888490907, 9.82602517449559, 4.296122670212746, -0.10321552307618594, -0.32771940167436375, 1.2597135340569243, 2.89187421180939, 0.4524878334345904, -0.2501552282812325, 0.39848604583477676, -0.4248376139001063, 0.23791783037551673, 0.18790043869752554, 0.17825820121668473, 0.14111160123554733, -0.8274964817055068, 3.454486839303267, 1.6107435167568043, 0.8779568526703848, 0.7636554338005719, 0.8601481846003884, 1.157779977728377, 2.2115884366596896, -0.001541076372993399, 1.5767454175672837, -0.8120931223676631, 0.5016424904459275, -0.21213333537036744, 0.22640230396438532, -0.12739704413794134, -0.2570843248571326, -0.6531786310856371, 0.7400697545558534, 0.10526018038934455, 0.16484561397398162, 0.7544247915739534, 0.17986306437618788, -0.007624181497564844, 2.1057248907000607, 0.6584788974195119, 1.1686686786284772, 0.798390968570886, 1.0986776944251455, 1.0181277694932582, 1.0098584927422554, 0.23454232793161933, 1.6866824628038337, -0.18638074709194352, -0.5887834082925734, -0.40223025952218405, 4.369369623529511, -0.7062297716474958, -2.9891476314320458, 1.304753240270764, 1.7760400671477605, 7.011535850426263, 0.7659557421232702, 0.601586318829403, 1.9849047689199169, 0.7697909188256625, 0.002689702269239147, 1.0736923193260293, 0.19239727844439614, 0.9296881296064128, 1.2240878614004347, 1.064312911509672, -0.3793584331784843, 0.3075694613511947, -0.339770094342653, -0.5493885687229366, 0.31901171468287937, 2.1737315605119503, -0.24158280264443935, 0.6598166616989133, 1.0175406304510755, 1.2479210391804831, 2.6854100411077195, -0.5444327197572216, 0.9194493883407764, 0.8921629195667586, 1.4266449445004834, -0.03645226807650542, 0.6080793214251368, 0.8309697823987257, -2.32462534648369, 1.835465743372327, 2.5190853386448073, 1.4854485374471336, 0.11810259557712155, 0.8506063788496285, 1.0033090085452963, 0.9052122360680642, -0.031897932663750565, 0.07637066577709484, 1.030905052541083, 1.0638629246897173, -0.007402897306012839, -0.06519272332590302, -0.0772443107559216, 1.0962747438959473, 0.086856185990246, 0.782411458639791, 0.6885378285377536, 0.08189861883673355, 0.4787652182618989, -0.2748437234331782, 1.022054524823213, 1.8548034149243438, 0.04206600005669511, 0.4419834494128526, 0.592604194457338, 1.1541255436590108, -0.6760827115760515, -0.3463835568275466, 0.2737965407256742, -0.3474554048844661, 1.284213822795375, -0.41844219559882345, -0.18509894539095267, 0.8329929649367406, 0.4385822985280892, -0.8005200074363035, -0.31675704439080027, 0.6165263874769766, 0.260052245694084, 0.15768690897058568, 0.4884407002304252, 1.8998296631238327, -1.336931386965145, 0.4252411681978092, 0.5418165153904768, 0.10515369223120194, 0.5950455230649334, 0.4281624348000064, 0.7076541266288416, 0.7315586257684906, -1.2748905455463202, 0.12314043434461636, 1.0288352631132809, 0.9118070792644513, -1.2556659443054146, -0.0787444970160496, 0.2526483845763142, 0.10189576262909952, 0.5139318355122258, -0.3214132850597844, 0.1412350024758626, 2.6967573999304886, -0.39519895207901706, 1.1007546975070706, 1.122318953716016, 0.5547397267927023, 0.7078491519296984, -0.05511470998367285, -0.5423353187387665, -0.5862317856695147, 0.008781448110805556, 0.5511786063660271, 0.10734571672102669, -0.43497106652526135, 0.419685774587345, 0.46053481818051195, -0.10369786080261519, 0.29533342684900643, 0.6043910788484248, 0.362660917420172, 1.997181188087949, -0.24468702401367615, -0.2559240007413499, 0.7696569279065055, 1.5560904062217675, 0.7933040621070883, -0.8989512400748833, 0.18700195201361813, 0.04574233602596155, 0.1824283374721776, 1.071033943254898, 0.4099762533166548, 0.8102268621452858, 0.9466798367500778, 0.0016948611398620583, -1.0774281948453288, -0.048044608508149546, -8.039563329710917, 0.6113068422449278, -0.18359993076797793, 0.34422003869964846, 1.0241326074805546, -0.4685480783331719, 0.029231877423478547, 0.23349589572974816, 1.7626094708815787, 2.3927156270170133, 1.212107508158376, 0.3919203454160355, -0.599175336436771, -0.7027246637671799, 0.06952869357989727, -0.026893938040767396, -0.3991047313442053, -0.4699211455788783, 2.3530648094643114, 0.01004034925908881, 0.6632534065598208, 2.2600233435420414, 6.404202382387004, 0.6797595491204728, 0.7520489641184749, 1.3699598428306423, 0.12204729398811662]\n",
            "[-0.3101226827768796, 0.6868438259508284, 0.020156724618388577, 0.6273669856286599, -0.7764663214965138, 0.5851697885930054, -0.660152365862329, 0.25455846855928105, -0.10674416516642418, 1.0847676781327644, -0.7785618902709849, -0.6946880499547083, -0.020068069889654705, -0.35264050176104017, -0.06752834735936664, 0.237605063701329, 0.24095140541393265, -0.8849814456824583, -0.4961707622547599, 0.7834241419173512, -0.3153807423332039, 1.0356526881648467, -0.6150607021246776, -0.7078661234289951, 0.06631915202635508, 0.5205555406057736, -1.1699274029366, 0.4475447442612838, -0.061100302079533375, -1.9539728321427177, 0.044916951684037976, -0.6658542296200634, 0.40768472805340783, -0.08554299740750783, 0.8076153356629856, 0.48372024121537216, -0.2951040663285851, -1.2569777632803998, -0.15638048180443662, 0.044428223236623404, -0.4333354252416314, -0.8770929483128307, -0.8151070799102046, 0.08275581931522974, 0.022897327860060265, 0.4880238465359757, 0.6981681101225208, 1.210131853287598, -0.2637164848059082, 0.1449980231782981, 0.1002702840238548, 0.6428544945028994, -0.8334744249594875, -0.6968667087586092, 0.5279733277745939, -0.48036368007196995, -1.2036276288526948, 0.9731955370137539, 0.8381714808169929, -0.303121674222334, 0.17742125716390808, -0.07841253038098056, 1.4151386790185378, -1.0760689022594256, -0.7786039771116939, -1.8891780313663493, 4.446959496266074, -0.012550769030947484, -0.13527691406451514, 0.15811991932512431, -0.3141883644948249, 0.32815873454836875, -0.4484096356702769, -0.15561860226452645, -0.9762813049494767, -0.6056630706750149, 1.0152512969961076, 1.0047589623076594, 0.19220144643453546, -1.0227825038496992, 0.5165206835441513, -0.6691511436294458, 0.9064865699147499, -0.12894885631147118, -0.8433128728376568, 0.5212741790913965, -0.1486995677893071, -0.4672625750103966, 0.046157447201554236, -0.09968882835974996, -0.19403457064269955, 1.0081678749739371, 0.06467831534520901, 0.18925851535378152, -1.3094512240948926, 0.44578331927718184, -0.6596805936570368, -2.5737221678172935, 0.7769334441396893, 1.0670917837755576, -0.14919688226455746, 0.2767296758040881, 0.6540518909499371, -0.8885244454855545, -4.777610528059139, 0.07811513327382344, -0.6315192232588772, 2.711086823960682, -1.4897172810037556, -0.2723002838513959, 0.5414693004934157, -1.6414009339890587, -0.20424983178308714, -0.4233123242054897, -0.10158071763431875, 0.36969536493813254, 0.07352343006318979, -1.1131269355857505, 0.21191912290187684, -0.29261952774140493, -0.3644715448471929, -0.524217588300816, 0.5572567832744779, -0.36745338128743893, -0.2557076304494863, -1.2197495493250567, -1.422894254720422, -2.1797973922961815, 0.30948291720842513, -0.28288213482204827, -0.346161256961865, -0.1444335874907658, -0.5617296333100978, 0.11737315484052986, -0.39469933095895016, 1.4336709222549897, -2.5723326791135483, 0.8856882056990375, 0.8721457619955587, 0.16431259504855436, -0.820482154846088, 0.016800911095978144, 0.6692648830780623, 1.1946127436378196, 0.39329338219779447, -0.08211980917868755, 0.2813621334853053, 0.9788867363496123, 1.0997349024821812, -0.32407623648274564, 0.09432228927540354, 1.055033916197917, 0.9898481127212966, 0.5774947604504714, -0.6099359334168525, 1.1628133954114308, 1.605130697346056, 0.4828366156564703, 1.3270598362911032, 0.06804439193369836, 0.16349566133398336, 0.8700944360136712, 1.1850660925527514, 0.32472443582131183, 4.297615881998451, -0.4608222636299122, -0.49782333658343614, -0.055806131535584114, 0.48888873354287193, -0.5565197796783337, -0.47511256892491616, 0.2698875259321497, -0.7141911754575878, 0.035340462795034264, -0.5711588963873883, -0.06259130685633607, 0.8332031453413697, 1.176874474050495, -0.9456719610427167, 0.979655825313465, -0.6253911312236069, 0.021306976848225245, 0.8627571568028604, -0.3895141350081445, -0.26849027881928605, -0.6491100482256614, 0.8492424991661686, 0.5711007271952928, 0.004154709487507985, -0.26940647523351496, -0.1321160109157331, 1.055330800553251, 1.1022411768477318, 0.09614688490787288, 0.6125154123305776, 0.20745735865250903, 0.6171043776564529, 0.5514940849399429, 1.1939364472056861, -0.7632163936893603, 1.7834516195165824, -0.4904548994981158, 1.0443471272348175, -0.31686435152295833, 0.27032622134602335, -0.24095405932817882, 1.0766685500480262, 0.16453947131125826, 0.30812900537737675, 0.49548894092940204, 0.19557641391744918, -0.3061057603868768, 0.29230253414211294, 0.8555193394775746, 0.4654692133757252, 0.9138026469719207, 0.26505501448572205, -0.811030711933076, 0.07853344482196976, 1.163751952253652, 0.5543340631084039, -0.6525103408549024, -1.8991924967893592, 1.7324885740767473, 0.313276249910111, -1.3954842043121427, -0.49639474137539996, 0.158866258299859, 0.597715514678937, 1.3911456899289927, -0.6877946862759412, 0.5888884483584947, 0.5057816353605177, 1.5340851580346961, 0.1673939348728875, -0.11331605903735525, 1.0450912864346737, -0.5850369446432968, 0.1780172100117931, -0.37284733384728086, 1.4312880620332373, -0.35922563507291366, -1.3555125085570419, 0.25750833923923544, -0.1287376679060555, 0.24481814463985918, 0.30946314722626256, 0.8896717112523572, -0.3468711463634703, -0.933374528989739, -1.2517352231404502, -0.3574455000726514, 1.472851875293166, 1.0716522514565432, 0.08465388628136766, 0.20003279042467692, -0.8718342975512609, 0.6433207201861137, 0.017363212046462573, 1.4498713040530107, -0.3735404169691143, 0.5822651575662303, -0.8096664186890952, 1.2481496347759462, 0.24010423564274225, 0.7124865856264795, -0.265984319827698, 0.8947027631626345, 0.5751820540075446, -0.5471378793546007, 0.03207256972244121, -0.1307181687911323, 1.386923881117339, 0.2377949640707704, 1.2218386863985078, -0.755593735092607, -0.47670567623739524, 1.143338062941154, 0.8685800783092879, -0.027931646279558187, -0.44567585464641196, -0.515740110822698, -0.4334658777158547, -1.0792809846778344, -0.13024924675802002, 0.45306263894237325, 2.1789284960354287, -0.3035575530432255, 0.706133827540028, -0.8850200465653524, -0.33783369904181304, -0.984721419765326, -0.11454353611529888, -0.1805026896138941, -0.5979651563316902, -0.7185871374902364, -1.6270539796360706, -0.490357063580491, -0.003581691226630934, 0.9333363224058753, -1.1012717369401435, 0.24559657562263398, -0.824487953801944, -0.5179288106362165, -0.21546457291807908, -0.7112943072864547, 0.03901860050968148, 0.0017956382578905583, 1.1848921027288954, -0.27189846887910474, -0.5621402217956992, -0.5068799470400631, -0.7642621844630195, 0.2823713538893779, -0.06486321599498673, -0.007209617356396469, 1.1878947608746577, -0.2415732063185476, -0.03382448520710288, -0.4931567252505725, -0.09116334074798338, 0.509339070969715, 0.08473012514831568, 1.0691689888252622, -0.2622849554082787, -1.1551021043394794, -0.579908221066086, -0.09921043672994248, -0.061460951248787615, 0.4032985547887926, -3.2019765941340657, 1.3431068538102695, 0.7950172028195376, 0.4067581246497964, 0.2681992742093924, -0.7501972297413109, 0.9906061653659121, -0.11884517180409115, -0.23650264634957308, -0.30917994375686264, 0.7208039811678038, -0.29184639874533025, 0.5302779275222942, 0.28053545489656057, 0.17553131423915105, 0.1671287964119649, -0.3386363342291445, -0.8795921522212429, -0.3065322699546239, 0.6934049855035946, -0.23122230993733078, -2.9391124307281347, 0.389037688293858, -0.47731266077242596, 0.07012541877151227, 0.026731047650777787, -0.3791704147126864, -0.22074976449822925, -2.1037931832098917, -0.010993941998170869, -0.15001786389356409, 0.011407301266057351, 1.453867632844612, 0.0098096109572125, 0.1727981877018582, -0.014976138290244407, -2.766346537932294, -1.0983768962468088, -0.01913056954523961, -0.5780372613964161, 1.0949109649145943, 0.8605252408280182, 1.198315763654428, -0.27319656422522104, 0.44712822360246446, 0.06435883716347246, -0.13483088589895617, -0.6135281718612026, -0.49126321928566796, 0.8620270144533076, -1.1056150075182336, 0.9889938179650102, -0.18196349101494513, -0.03615367493535965, -0.7159156512982388, -0.00806276030966415, -0.7788131802744316, 0.7373135516480993, 0.2455657883984505, 0.24399211047566827, -0.5873734466540643, 0.024284970145228457, -0.16068390160159862, 0.14427169280387162, 0.9657348531840269, -0.48056941470900555, -1.7001980096698426, -0.6243202927676286, -0.31244168367068087, 0.15504376138726997, -0.4749593950913759, -0.21117209844453105, -0.07405623585728464, 0.594525776359339, 0.08601122707985098, -0.24824377229838568, -0.29641387177151013, 2.4935303056170923, 0.8648146962277398, -0.016224439168910046, -0.306450293521234, -0.4816398682631685, -1.8071321738596717, -0.13155385993172913, -1.159473457843921, 1.3409764953440027, -2.4050055389008724, -0.08465479915767453, 0.48214608754110333, -0.10106621536728119, 0.3125699598401719, -0.029229554288756537, -0.007285972513375649, -0.2722719933117894, -0.715930322527093, 1.048188687481403, 0.9699278867807253, 0.5564542162312887, 0.7834376640764713, 0.47251085438238655, 0.6343513895194076, -0.8749868484743447, -0.5037323454318121, 0.013400695571414323, 1.1521518506994433, -0.14518342809403362, 0.8901637109163625, 0.8661674698235461, 0.29515119918862126, -0.40826992827648, -0.021489748615612703, -0.5870998188897557, 1.0862916379046352, 0.7211742360460323, 1.2682474823792314, 0.33469420324354404, -1.1374573745143948, 0.7686257108096153, 0.7858528336369531, -0.4127944460629792, -0.3557752230330088, 1.3281107818860534, -0.5849522360180216, -1.9474101796846086, -0.2320992092261849, 0.8462950537027489, -0.1298615724253334, 1.0196281019950075, 0.055678018791728845, 0.40948526446376193, -0.6755617639253795, 1.287930392851743, 1.0481485857773594, -0.07477962107705252, 1.3369734606835912, -1.5444212341623116, -0.2104699001287642, 0.2738754944036905, -0.06669370008673553, 0.11099615768323427, -0.7251959282434951, -0.1048272719272394, 0.7818494650154022, 0.9692743947504359, -0.6126800343456937, -0.028092508891658846, -0.7561999660932599, -0.4743805396259733, 0.7726328271036974, -1.281467988734656, 1.4940231674799689, -0.027646224722809545, 1.0921715368591856, -0.9622986027432421, 0.1882832135794157, 0.9489102742214756, -1.308902797690407, 0.2830642861703536, 1.0971038787329803, -1.4178524672667856, 0.12415650122344879, -0.12381190132589953, -1.9193904337569583, 0.4537610388444867, 1.5072042549360818, 1.379527087778425, -0.22101235140931064, -0.013713069859586625, 0.12163756143255088, -1.0251201151355458, -0.5068157687693312, 0.006228517675068879, -0.9720884169826418, 0.6880811868851823, 0.43192124525824654, 0.14944285640672922, 0.14854662979337035, -0.3559030614614936, -0.38329357008295706, -0.9696755448054337, 0.2565051183734247, -0.8848553999303848, 0.6707032140960992, -0.5203124282782418, -0.45540735523495945, -0.22384833901419982, 0.7826081985269613, 1.375089435595882, 0.9469056117588519, -0.00881112213189407, -0.5726856532278748, 0.9308403409750725, 1.0013195269752118, -2.0985836590830003, 0.6359346164570061, 0.7362063805717466, -1.1460650901693183, 0.47671297163579346, 0.6647738066895235, 0.05530850245415156, 1.2767267128261033, -0.07348360361222883, 0.536638108170008, 1.1241653892631014, 1.3149718184944588, 0.2141098635517772, 0.2253707497821203, -0.027288321745658248, -0.5040964356972143, 0.4469633221403643, -0.10820411499493143, 0.5369146751575664, 1.2487600264653103, 0.23773456841465573, 0.5447504716040628, 1.6710615639861812, -3.0088778858044076, 0.23676849406313757, 0.3451894513470344, -0.5360173365383433, -0.4478362105546835, -0.07915136326463776, 0.83257106660957, -0.6697502028897635, 0.5917621838286002, -0.15036564582018155, 0.05402479407803232, 1.3487453347476785, 0.029795746678062784, 0.5351938390381155, 1.2894798589600556, 1.5226497677190314, 0.16843590931841218, -0.07646722966550405, -0.036105254954004976, 0.32502308722736056, -0.2219220945903878, -0.17473318311144626, -0.03453569194289017, 0.3674828909840894, -0.5059878275468301, -0.14759605991873057, 0.2215778044404863, 0.5149630964151134, -0.23223465437151508, 0.0006514747512945673, 0.5623123852964902, 0.9477929022566458, 0.45556102882307803, 0.04799975522242317, 0.01349600108360692, 1.425527990762403, -0.7861190772176085, -1.2860222588759251, -0.3768114967695156, 1.3340166080782137, 0.5825591510086175, 0.09365892888636501, 1.1233683214882175, 1.4724577758819897, 0.15334099296330236, 0.4605868453209359, -0.9356798540008433, -2.1853538158990387, 0.2134490484509995, 0.8519259769354275, -0.3254765986613971, 0.5846500009274171, -0.22921133115763684, 0.4556729966012495, 0.03353618644638093, 0.8431851895601694, -0.6411827817086755, 0.23402697825079707, -1.3770385401063603, 0.08084767699093003, -1.6306200258964958, -0.281017518156357, 0.9902379247332675, 0.048952708092097286, -1.4160522112778038, 1.0687486709649954, -0.6753809779275346, -0.4427054430593903, -0.4785597893538165, 1.272144100044069, -1.4835488385285198, -0.050166116003112535, -0.7266638307884827, -0.5794127339924959, 0.6744673146716248, 0.6984415273397198, -0.3561483388604915, 0.6050264315613381, 0.3568215410256257, 0.6038435908645903, -0.06748935975011355, -0.38633761397899224, 0.21341026006312097, -0.8888625533732015, -0.4421943508803087, -0.24409628923888538, -0.6203624439837498, 0.458178834096037, 0.07002029116987568, -0.7978389368304166, 0.2643717970118732, -0.006562537477235231, 0.5345524597327076, -0.9938366050932534, -0.7271611885926916, 0.26546792503750416, 0.1152094952131168, 0.5283798987454206, 0.28845715405974237, 0.943905516583486, -0.4133681928214416, 0.17406555459118994, -0.7159703975973432, 0.42403226359589474, 0.25946269977746994, -0.0010340465269874644, 0.06506570602456484, -0.7837797403311185, -0.6576280185025896, 0.09477861970548927, -0.057514370545035665, -0.3662271275739689, -0.04667791549004199, -0.7681221531445166, 0.27074980182568553, -0.21106930581261263, 1.1647755394526138, 0.458201058610097, 0.8737443495364363, -0.21904464476039048, -0.22157585444255196, 0.3837030316168702, -2.0188250319578094, 0.9671052871406234, 0.7170968741570659, 1.4728073128240957, -0.6773575807025336, 0.6096460344931282, 0.07142564537262719, -0.053897385458879454, 0.46523697898838356, 0.03272636575615236, -0.42394898682986615, 0.05820779773179888, 1.0178773476879268, 0.13828552969890934, 0.6464676308840701, -0.002308667391631214, -3.383645331648266, 0.03512951863327879, -0.4468472654231058, -0.7376556315193585, 0.2733233843480962, 0.32753500067964475, 0.7487791369020875, 1.2073360283125059, -0.07371056810299503, 0.16501653835827113, 0.6466751807618922, 0.10494308205153009, 0.2871297800967231, -1.0370931650130093, 1.357466224249852, 1.2109967291606543, -0.9596970103683513, -0.3504981921414921, -0.34342101265868163, -0.30145542678368353, -0.359114122836078, 0.003938486494199993, 0.3017090371696628, 0.6483243580159292, 0.9050077002932783, 0.05284794683883892, -0.02625735987523664, 0.3681936067068414, -0.03089507766359506, -0.8837142340286166, -0.3588698501950699, -0.45534212523862255, -0.36112027039908523, -0.74876360926244, -0.827196544712773, -1.2724926920520003, -1.3563683889802505, 1.0205159905615855, 0.19748177483886153, -0.4795087534781513, -0.22705056135933074, -1.2793813186380198, -0.05525668598193284, -0.0972980569363599, 1.819504953720903, -0.22672842496681275, 0.4582023170021222, -0.7037458456882802, 0.17253470640654195, -0.27132712991163366, 0.0294500730854015, 0.467924756902081, -0.6328949406740684, 0.8475125476764827, -1.6661540180542396, 0.2809083326928413, -0.9765831673389005, 0.13659146795135518, -0.1128852098979707, -0.12957227374168653, -0.013532624024173157, 0.4057653043553697, 0.04935274396521863, 0.4253894366373027, 1.4493704116210058, 1.3020378541481057, 0.7587383473046068, -0.817232055194722, 1.4673080976438186, -0.635914402616893, -0.3531890465965503, -0.23907728021451646, 0.44753313594000815, 0.18134234217188308, -0.39529004635917, -0.31611953471137727, 0.6874281954401656, 0.14470786568744032, 0.3239759956503202, -0.21916017101529284, -0.7107164793747307, -0.8892407043447593, -0.402651128399092, 0.6372292125096664, -3.7065702038086856, -0.08017087974317297, -0.33957025776578253, -0.7471045754824076, 0.6621775240982177, -1.1044983329828626, 0.22958348858122735, 0.9600009957171199, 0.12946692755085143, -0.334665596462326, 0.46705188976805617, 0.25519685362690536, -1.2992740015943296, 0.7290559111668357, 0.727164698957268, -1.8565151026810178, -0.3433855263748654, 0.5110870530106271, -1.2385453060414202, 0.6567257529770903, -0.04217309255203394, -0.49193795954514974, 0.4534812795603866, -0.8276613164190936, 0.12841604051552033, 0.6414704025655448, 0.2982055341691022, -0.38626396981090083, -2.523791782606959, 0.06496525442187145, 0.02642129394925713, -0.34748389461940526, -0.6491522921285969, 0.212646169186633, -0.25072346477722834, -0.08179970344109277, -0.09777088366181017, -1.3794422898917187, -0.429527767724415, 1.843732429774841, 0.7473409011477602, 1.2005090773435116, -1.054752813124539, 5.958606839907949, -0.07164641946045772, -0.6561717689524194, -0.227825019569802, -1.6154550368500389, 1.2205661488344912, 1.4093787066730528, 0.45190498304236576, 0.18931058445669996, -0.008991519187041552, 1.2021882466498048, -0.952702247905621, 0.7433749694039824, -0.29456981874219157, -0.2567264129910002, -0.02603801719647378, 0.05823341110531244, 1.2741870068674999, -1.4264522029078217, -0.11593253264068051, 0.36782230733619514, -0.2163623818865088, 1.4173990659063278, -0.3742001842721653, -0.14856970271201334, -0.514995396771246, 0.25710650269963387, -1.3514978735198244, -0.10010298269233742, 0.9504148565289285, -1.5821868064437488, 0.846737010836139, 1.0262522645457657, -0.5409003653815879, -3.926143372356361, -0.060121987122019896, 0.49284595591736513, -0.3000175053851467, -0.35866958028331486, -0.44785127209896886, 0.1694687294870808, -0.5315062743262107, -1.349702342481713, -1.5349506539237991, 0.6375152738950455, -0.9020138759249658, 0.6900375706103552, -0.36896779390300544, -0.3986046126725266, 0.09898269470421056, -0.5765068614301134, -1.7140019268574123, 0.08133580614634509, 0.2782175278929474, 0.8605954712700287, 0.4528595483999014, -0.030141633813479285, 1.0027025763050088, -0.22590853500947858, -0.8327530231090058, -0.438207948756903, -0.005769927146432957, -0.0026723688874219637, 0.2977726070438127, 0.3632439788093445, 0.22372369322160146, 0.22935972783536956, -0.3599447074441562, 0.03374002058008732, 0.5104307509623897, 0.32768546450691516, -1.6252653132385502, 1.0600366395536651, 1.3286178865341232, -0.43830616347783496, 0.9124032905302002, -0.28952476934283955, -1.8881775941740335, -0.3485824611089664, 0.025868568011391282, -0.11650680747182612, 0.7751357768968126, -0.08228926134670633, 1.1364411926917222, 0.013945468518195612, 0.0641173680695304, 0.41709366837750456, 0.06214770416082824, 0.2778924534419295, 0.3113669126409495, -0.4845247403277532, 1.4048563965580094, 0.15955024981220836, 1.5418914644176636, 0.23042227458816955, 0.939385416501918, 0.43133117307397384, 0.5503929733774887, -2.4086124400242, -1.584656479538948, 0.5324882682576495, 0.5246590676954337, -0.6021294390167231, 0.29641690237321333, 0.8997837429143425, 0.6016459272171126, 1.0493312596784323, 0.6029821936245953, -2.915789146003287, 0.058266641490515844, 4.936934876183993, -0.18915006682266755, -0.42924659694655976, 0.38351414144303797, 5.122147082919143, 0.626034488862397, 1.0031573896053405, 1.7936998861390925, -0.7241578568223256, -1.747275607369197, 0.9979241799014205, -1.3301978819915543, 0.8127180873349189, -1.9133328032887, -0.2258558100203, 1.0532752586737817, 0.4860411160823248, -1.1628492340171714, 0.2062908708620367, -0.5177091590364136, 0.1348424519535609, -2.3411021277500828, 0.9060257649529623, 0.12256558155016622, 1.4533207731851172, 1.2670606837969043, -0.05861116929067675, -0.47662736688989316, 1.4551538071380032, -0.48661324883041934, -0.3048736328887499, 1.3542864524195561, -0.011383999578032697, 0.6423089834252431, 0.6548752348971315, -0.25826646131785225, -0.0950361049224518, 0.0222017168988691, 0.6066867812755196, -0.020641298572413133, -0.9047474413621763, 4.142351995421584, 0.028184899922567147, -0.6356064643983946, 0.018681796979941823, 1.0814758203091561, -0.2341804745798245, -0.029464305283884717, 0.4621701543969979, -0.20364239734359518, 0.11840470312664356, 1.1881801852677345, 1.127196333567309, -0.026938176087942522, -0.09732495052224441, -1.371442898381734, -0.010567817530263923, 0.06562873371052598, 1.0018204219851115, -0.430136238821295, 0.19573709383289353, -0.04328864702063509, 0.5994199657943535, -0.3837991921465016, -0.3494627939024032, 0.7275510053649555, 0.2691685369122404, 0.41853430066157427, -2.1465531856865234, -0.893801411700833, 0.4652578458918341, 1.443309073514284, -0.33500002184199673, 0.45183452374724625, 0.3963005934781298, -0.5673423237165333, -0.28502493665172823, 1.5386276901950326, 1.0747501614977149, 0.2692461628185816, 0.8343319446238793, 0.9868925384215909, -0.7490025243734872, -0.31928947657488016, -0.7685330160766265, -0.317745186488415, -0.4170998219996823, -0.6392520006448378, -1.184779864048152, 0.04410182095664723, 1.2548718558931147, -1.2123684258171492, -0.9917113329653505, 0.026821051891014025, -2.044655799321528, -0.45014826366220184, -1.015709257114504, -1.7893584070975967, 0.6969771300506686, 0.8876209905729568, -4.725827786607177, 0.08314812563981988, -1.0769588732646243, -0.25915321888262316, -1.1314182397346682, 1.0361523873271754, -0.43076918554226945, 0.29417459037144433, -0.053110558146569245, -1.1093402253214344, -1.6007958127325643, 1.5363623739803296, -0.9261979078773003, -1.2031515505709933, 0.723127561429731, 0.6642740131648585, 0.5799593045083365, 0.2955096429609503, 0.1271891575648727, -0.7704035305610639, 0.34449889313301196, 1.061685697465454, 0.26999279013289573, 0.004887177104099111, 0.3215839650872192, -5.2456942579503, -0.2161520626456696, 0.5511027542588401, -0.2692814285454687, 4.130901479212341, 0.16249904100402568, -1.1387078553779015, -0.3846797703350878, -1.8600517883350491, -0.11155845134993783, -0.01564314161468021, -0.0882070267613751, 0.598203954876056, 0.7109048425939659, 0.991037182190279, 0.06694639961384598, -0.45521732104767293, 2.2908779853675822, -0.2728522580199603, 0.2766454080997708, -1.5070787428945143, 0.48024887498402247, 1.0097226024109014, 0.9042259895522553, 0.43095492721308004, -0.8902489714534505, 0.9389893835020722, 0.6247870816353336, -0.15631496594598915, 0.8454977225132924, -0.35873972390835646, 0.9281128420505914, -0.14953819088015322, 0.49838737977475883, 1.0909324847738546, 0.20396223202503738, 0.5526929361210768, 1.1923992458361166, -0.4242835045055924, -0.4536489756826989, 0.02452254316141883, 0.11073462559066691, 1.6070448153059393, -0.7578243852099393, -0.45906993928942225, 1.0580180465849152, -0.7090487861337182, -2.586092267647496, 0.7316534153884089, -0.101502959015985, 0.10059973449335674, -0.181773216716763, 0.03277353121173593, -0.8519481065799758, 0.27642944110701395, -0.10102330105947924, 1.5562022953234838, 0.13748734504082866, 1.1393957582929592, 0.40263833868707954, 0.8980099853390412, 0.42469010992567724, 0.33063947214859246, -0.39795809973703294, 1.5677657030692946, 2.6507650181978843, 0.02611163517382742, -0.27969591464359167, 0.33089286604562684, 0.30384888658400855, -0.9340350846837567, 0.8990191660769808, 0.777340860000408, -0.7034869640160689, -0.05674209650032844, 0.0012771085629114665, 0.12144623983387676, 0.02319008438923026, -0.010686713908364343, -0.835747039261156, -0.7478241782230963, -0.2124414972147971, -0.5793486331676622, -1.0047478625976383, -2.2607659617880933, 0.44885182170404825, 0.7308092024745888, -0.24391837861178045, -0.448660293804527, -3.232510892059186, 0.6441446775543307, -0.5939661777701815, -1.3769167994744875, -1.0328669340760104, 0.12866736392333447, 1.029992906133931, -1.6639425846700802, -0.6901176336641826, 0.7094302916102928, 1.290954453158865, 0.4153315634059161, 0.2939089729254203, 0.8258014042786944, -0.7561312307133846, 0.09766913522287105, -0.08925755339097363, 1.4738913571112524, 7.609125193167145, 0.15524331308408063, -0.2513155063173464, 0.9909864172417506, 1.2381388023843516, 0.8154894705629181, -0.361587776922325, 0.0715703060578304, -0.02359199781878516, 0.21311165700301987, -0.48498527621280885, 0.10296302274925173, 0.2111324379253648, 0.20574237644754517, -1.3212376369172196, -0.3426301281541043, 1.75353840339447, 1.3344022116123297, 0.786391372792905, 0.8060268993581173, -1.9125042427855081, 0.031029554148936156, -0.015578286816780917, -0.6463616111733774, -1.8861423355657583, -0.18854824917211327, -0.7649476222275033, 0.17010747398505396, 0.3735007161075008, 0.16884053814332242, -0.43595006481740134, -0.13191227668588418, 0.4436286376064506, 0.17551969993608696, -0.31143005262036283, -0.3836662292341551, -2.5496247729505255, 0.9631006321641755, 0.5916723922857934, 0.0413914556038229, 0.6152187118920674, 0.36908576208352517, 0.3966522115180995, -0.31917387480433423, -2.055462729435346, 0.8584838560753265, -0.575382573513615, 0.15153076664978998, -4.715668687619323, -4.331075559303175, 1.6264761763997206, 1.2272457919747182, 0.46152224806648506, -6.450727080561251, 2.4617941495703355, -0.44595719103110343, -0.5961435609031338, -0.7220829972054572, -0.30020655228034343, 1.1011039157579834, 0.5313914931963456, 0.7614587087997287, 0.8886715617182545, -0.43636299365458475, 0.164477988822687, 0.298360564339753, -0.01595041698092567, 0.022593740403909365, -0.8182003340285339, -3.37677105146647, -0.3059242134887675, 0.15345026940944817, 0.048259895058925355, -0.4825173322565872, -0.13185527850149695, -0.9118307101000266, 0.5747585705220594, -0.7985975347487381, -0.2911947304415129, 0.013595750011516583, 0.08738849608564758, 0.5692110155740798, -0.8545273735902452, 0.037612150204853034, 1.3045781473474622, -9.17010856067548, 0.5943540383784502, 1.1484465559212311, 0.7706032655636167, 1.3802389721502797, -0.30842715458081765, -0.33019151396263635, 1.155587682450016, 0.025152848202508737, 0.3987097500846051, 0.05147546781460355, -0.2717125064683612, 0.4670551508235311, 0.5580373354907154, 1.1794648790892346, 1.1912868607459477, -0.011706408814008806, 0.8718756223371034, 1.7145373055390687, 0.25801585787694864, 3.843924991663048, 0.24656683731697046, 1.0473827373151843, -1.1836639068016863, 0.9743625476798785, 0.607691429157304, 0.9040454215147543, -0.20953327647190767, 0.0752443324193181, 0.9794809063230563, -0.6690285115486672, -0.10344189449610583, 0.8471196581227367, 0.628177225870074, 0.5347114697206462, 0.31806222213157653, -1.2476604228056465, 0.6998464847355497, 0.4243632991414291, -0.36030689564680907, 0.3048983726574812, 0.36920291506589986, -0.3606294028812475, 0.12334713983087373, 0.9044029396095881, 0.6643223685683372, -0.12711800201828283, 0.2553724939144949, -0.024361093328575834, -0.04064354165650516, 0.8619084452554977, -1.1464035987379257, -0.9780324333765833, -0.5621238767794273, -0.17937994786429184, -0.9185130519318967, 0.3056174445087996, -1.4965771379077786, 0.1486947471923558, -0.49906374806403286, -0.28067059448190007, 0.19407409665664127, 0.4401072929043124, 1.0142980000429456, 0.8303377476378941, 1.0933350683138487, -0.6566580697938658, 0.27343778114367, 0.4891242740719949, -1.312763011441814, -0.3332388125963597, 0.016598750042059934, -0.4418855215243249, -0.08732639793418828, 0.23099559928453894, 0.9929925663732959, 0.703791853867257, -0.6406698186108359, 0.710841878742273, -0.8046228135791945, -0.2280196483617889, 0.009621052732301918, 0.2874675757670836, -0.7083011554654283, -1.5685126595651084, 0.005783085228600715, -0.060010649113450956, 0.2053526524878798, 0.3428310831367043, 1.2247830825825075, 0.9488430546381511, 1.1715109758117164, 1.1998395935047586, 0.40775222605172334, -1.0118437573796761, 0.34273794083250964, -0.7867137383586287, 0.43638489583610396, 2.615332415735325, -0.13706327211913388, -0.11440236307486543, -0.33295585372468994, 2.1802094171841433, -0.08311913093228385, -1.57568760010078, -0.4984934716562037, 0.09607558525516124, 0.3211464206821676, 0.10747511404379786, -0.3388335763906242, -0.008006543917387143, -0.09212577301467573, -0.21817925903446217, -0.36250764844048733, -0.6307750954041296, -0.5147073650444989, -0.061617497702881385, -0.6977344774916003, 1.3925979030880984, 1.345412714973514, -1.5418710953484251, -1.0429942673047685, -0.3515855834546985]\n"
          ],
          "name": "stdout"
        }
      ]
    },
    {
      "cell_type": "code",
      "metadata": {
        "id": "fOzVeLqESRh9",
        "colab_type": "code",
        "colab": {
          "base_uri": "https://localhost:8080/",
          "height": 34
        },
        "outputId": "a28e37af-e16a-4064-d2cd-3baa3451fe13"
      },
      "source": [
        "FF.shape"
      ],
      "execution_count": null,
      "outputs": [
        {
          "output_type": "execute_result",
          "data": {
            "text/plain": [
              "(1361, 4)"
            ]
          },
          "metadata": {
            "tags": []
          },
          "execution_count": 23
        }
      ]
    },
    {
      "cell_type": "code",
      "metadata": {
        "id": "kZHD3thKa_pC",
        "colab_type": "code",
        "colab": {
          "base_uri": "https://localhost:8080/",
          "height": 235
        },
        "outputId": "6e5a926e-4260-414b-d801-7bad34673267"
      },
      "source": [
        "# Descriptive Statistics of FF Model\n",
        "ddf = pd.DataFrame(FF.describe())\n",
        "FF_des = ddf.drop(['count', 'std'])\n",
        "FF_des"
      ],
      "execution_count": null,
      "outputs": [
        {
          "output_type": "execute_result",
          "data": {
            "text/html": [
              "<div>\n",
              "<style scoped>\n",
              "    .dataframe tbody tr th:only-of-type {\n",
              "        vertical-align: middle;\n",
              "    }\n",
              "\n",
              "    .dataframe tbody tr th {\n",
              "        vertical-align: top;\n",
              "    }\n",
              "\n",
              "    .dataframe thead th {\n",
              "        text-align: right;\n",
              "    }\n",
              "</style>\n",
              "<table border=\"1\" class=\"dataframe\">\n",
              "  <thead>\n",
              "    <tr style=\"text-align: right;\">\n",
              "      <th></th>\n",
              "      <th>FF_Beta</th>\n",
              "      <th>FF_size</th>\n",
              "      <th>FF_value</th>\n",
              "    </tr>\n",
              "  </thead>\n",
              "  <tbody>\n",
              "    <tr>\n",
              "      <th>mean</th>\n",
              "      <td>1.059012</td>\n",
              "      <td>0.513168</td>\n",
              "      <td>0.026301</td>\n",
              "    </tr>\n",
              "    <tr>\n",
              "      <th>min</th>\n",
              "      <td>-8.016714</td>\n",
              "      <td>-10.218794</td>\n",
              "      <td>-9.170109</td>\n",
              "    </tr>\n",
              "    <tr>\n",
              "      <th>25%</th>\n",
              "      <td>0.640896</td>\n",
              "      <td>-0.065438</td>\n",
              "      <td>-0.435950</td>\n",
              "    </tr>\n",
              "    <tr>\n",
              "      <th>50%</th>\n",
              "      <td>1.024698</td>\n",
              "      <td>0.382206</td>\n",
              "      <td>0.026731</td>\n",
              "    </tr>\n",
              "    <tr>\n",
              "      <th>75%</th>\n",
              "      <td>1.410660</td>\n",
              "      <td>0.975648</td>\n",
              "      <td>0.577495</td>\n",
              "    </tr>\n",
              "    <tr>\n",
              "      <th>max</th>\n",
              "      <td>6.698717</td>\n",
              "      <td>9.826025</td>\n",
              "      <td>7.609125</td>\n",
              "    </tr>\n",
              "  </tbody>\n",
              "</table>\n",
              "</div>"
            ],
            "text/plain": [
              "       FF_Beta    FF_size  FF_value\n",
              "mean  1.059012   0.513168  0.026301\n",
              "min  -8.016714 -10.218794 -9.170109\n",
              "25%   0.640896  -0.065438 -0.435950\n",
              "50%   1.024698   0.382206  0.026731\n",
              "75%   1.410660   0.975648  0.577495\n",
              "max   6.698717   9.826025  7.609125"
            ]
          },
          "metadata": {
            "tags": []
          },
          "execution_count": 24
        }
      ]
    },
    {
      "cell_type": "markdown",
      "metadata": {
        "id": "VIrm7gYoj8wh",
        "colab_type": "text"
      },
      "source": [
        "### 5. Combine FF and CAPM Models\n"
      ]
    },
    {
      "cell_type": "markdown",
      "metadata": {
        "id": "nrLSn846XrcD",
        "colab_type": "text"
      },
      "source": [
        "**Interpreting the components of the two models** <br>\n",
        "*Capital Asset Pricing Model (CAPM)* <br>\n",
        "- Alpha(constant): difference between stock's actual return and expected CAPM return; measure of reward or penalty for holding firm-specific risk <br>\n",
        "- Beta: measures systematic risk (performance of overall economy) of an investment, which refers to the sensitivity of stock to the movement of the market index benchmark <br>\n",
        "High Beta = more volatile than market benchmark <br>\n",
        "Low Beta = less volatile than market <br>\n",
        "Based on our regression result, mean CAMP is 1.19 > 1, which indicates these stocks on average is theoretically 19% more volatile than the market. \n",
        "\n",
        "\n",
        "*Fama-French Three-Factor Model (FF)* <br>\n",
        "- FF_Beta is 1.05 on average, which shows these stocks are 5% more volatile than the market.\n",
        "- SMB coefficient: measures small firm risk AKA Small Minus Big companies <br>\n",
        "Positive coefficient = firm has small firm risk <br>\n",
        "Negative coefficient = firm has big firm risk <br>\n",
        "Our result shows that these firms have on averge of 0.513 , which shows firms has small firm risks.<br>\n",
        "- HML coefficient: measures the outperformance of value stocks over growth stocks AKA High Minus Low value; value stocks are firms with high book-to-market ratios while growth stocks are firms with low book-to-market ratios <br>\n",
        "Positive coefficient = a value/distress firm with high sensitivity to economic performance where it will perform really well if economy is experiencing positive movements, however is expected to perform extremely poorly during economic downturns <br>\n",
        "Negative coefficient = a growth stock less sensitive to changes in economic performance <br>\n",
        "As the result shows, HML coeffecient is 0.026 on average, which indicates these firms perform well as economy performance well. "
      ]
    },
    {
      "cell_type": "code",
      "metadata": {
        "id": "WqJIRE2dWEVV",
        "colab_type": "code",
        "colab": {
          "base_uri": "https://localhost:8080/",
          "height": 235
        },
        "outputId": "e5e31801-b493-4de5-e6d1-de07122094f8"
      },
      "source": [
        "# Compare descriptive statistics of two models as a DF\n",
        "des_stats = pd.concat([CAPM_des, FF_des], axis=1)\n",
        "des_stats"
      ],
      "execution_count": null,
      "outputs": [
        {
          "output_type": "execute_result",
          "data": {
            "text/html": [
              "<div>\n",
              "<style scoped>\n",
              "    .dataframe tbody tr th:only-of-type {\n",
              "        vertical-align: middle;\n",
              "    }\n",
              "\n",
              "    .dataframe tbody tr th {\n",
              "        vertical-align: top;\n",
              "    }\n",
              "\n",
              "    .dataframe thead th {\n",
              "        text-align: right;\n",
              "    }\n",
              "</style>\n",
              "<table border=\"1\" class=\"dataframe\">\n",
              "  <thead>\n",
              "    <tr style=\"text-align: right;\">\n",
              "      <th></th>\n",
              "      <th>CAPM_Beta</th>\n",
              "      <th>FF_Beta</th>\n",
              "      <th>FF_size</th>\n",
              "      <th>FF_value</th>\n",
              "    </tr>\n",
              "  </thead>\n",
              "  <tbody>\n",
              "    <tr>\n",
              "      <th>mean</th>\n",
              "      <td>1.193104</td>\n",
              "      <td>1.059012</td>\n",
              "      <td>0.513168</td>\n",
              "      <td>0.026301</td>\n",
              "    </tr>\n",
              "    <tr>\n",
              "      <th>min</th>\n",
              "      <td>-5.229175</td>\n",
              "      <td>-8.016714</td>\n",
              "      <td>-10.218794</td>\n",
              "      <td>-9.170109</td>\n",
              "    </tr>\n",
              "    <tr>\n",
              "      <th>25%</th>\n",
              "      <td>0.752256</td>\n",
              "      <td>0.640896</td>\n",
              "      <td>-0.065438</td>\n",
              "      <td>-0.435950</td>\n",
              "    </tr>\n",
              "    <tr>\n",
              "      <th>50%</th>\n",
              "      <td>1.163310</td>\n",
              "      <td>1.024698</td>\n",
              "      <td>0.382206</td>\n",
              "      <td>0.026731</td>\n",
              "    </tr>\n",
              "    <tr>\n",
              "      <th>75%</th>\n",
              "      <td>1.548536</td>\n",
              "      <td>1.410660</td>\n",
              "      <td>0.975648</td>\n",
              "      <td>0.577495</td>\n",
              "    </tr>\n",
              "    <tr>\n",
              "      <th>max</th>\n",
              "      <td>6.277273</td>\n",
              "      <td>6.698717</td>\n",
              "      <td>9.826025</td>\n",
              "      <td>7.609125</td>\n",
              "    </tr>\n",
              "  </tbody>\n",
              "</table>\n",
              "</div>"
            ],
            "text/plain": [
              "      CAPM_Beta   FF_Beta    FF_size  FF_value\n",
              "mean   1.193104  1.059012   0.513168  0.026301\n",
              "min   -5.229175 -8.016714 -10.218794 -9.170109\n",
              "25%    0.752256  0.640896  -0.065438 -0.435950\n",
              "50%    1.163310  1.024698   0.382206  0.026731\n",
              "75%    1.548536  1.410660   0.975648  0.577495\n",
              "max    6.277273  6.698717   9.826025  7.609125"
            ]
          },
          "metadata": {
            "tags": []
          },
          "execution_count": 25
        }
      ]
    },
    {
      "cell_type": "code",
      "metadata": {
        "id": "qm2Md95skDAi",
        "colab_type": "code",
        "colab": {
          "base_uri": "https://localhost:8080/",
          "height": 204
        },
        "outputId": "3802e075-54f4-4e9e-d304-205b00779d63"
      },
      "source": [
        "# Use merge to combine CAPM and FF coefficients\n",
        "df_mods = pd.merge(CAPM, FF, on='ticker', how='left')\n",
        "df_mods.rename(columns={'ticker':'Ticker','FF_Beta':'FF-Beta','FF_size':'FF-Size','FF_value':'FF-Value'},inplace=True)\n",
        "df_mods.head()"
      ],
      "execution_count": null,
      "outputs": [
        {
          "output_type": "execute_result",
          "data": {
            "text/html": [
              "<div>\n",
              "<style scoped>\n",
              "    .dataframe tbody tr th:only-of-type {\n",
              "        vertical-align: middle;\n",
              "    }\n",
              "\n",
              "    .dataframe tbody tr th {\n",
              "        vertical-align: top;\n",
              "    }\n",
              "\n",
              "    .dataframe thead th {\n",
              "        text-align: right;\n",
              "    }\n",
              "</style>\n",
              "<table border=\"1\" class=\"dataframe\">\n",
              "  <thead>\n",
              "    <tr style=\"text-align: right;\">\n",
              "      <th></th>\n",
              "      <th>Ticker</th>\n",
              "      <th>CAPM_Beta</th>\n",
              "      <th>FF-Beta</th>\n",
              "      <th>FF-Size</th>\n",
              "      <th>FF-Value</th>\n",
              "    </tr>\n",
              "  </thead>\n",
              "  <tbody>\n",
              "    <tr>\n",
              "      <th>0</th>\n",
              "      <td>A</td>\n",
              "      <td>1.249362</td>\n",
              "      <td>1.397810</td>\n",
              "      <td>-0.540208</td>\n",
              "      <td>-0.310123</td>\n",
              "    </tr>\n",
              "    <tr>\n",
              "      <th>1</th>\n",
              "      <td>AAL</td>\n",
              "      <td>1.803727</td>\n",
              "      <td>1.798855</td>\n",
              "      <td>-0.025965</td>\n",
              "      <td>0.686844</td>\n",
              "    </tr>\n",
              "    <tr>\n",
              "      <th>2</th>\n",
              "      <td>AAON</td>\n",
              "      <td>0.950044</td>\n",
              "      <td>0.928965</td>\n",
              "      <td>0.078249</td>\n",
              "      <td>0.020157</td>\n",
              "    </tr>\n",
              "    <tr>\n",
              "      <th>3</th>\n",
              "      <td>AAP</td>\n",
              "      <td>1.006860</td>\n",
              "      <td>0.875947</td>\n",
              "      <td>0.453546</td>\n",
              "      <td>0.627367</td>\n",
              "    </tr>\n",
              "    <tr>\n",
              "      <th>4</th>\n",
              "      <td>AAPL</td>\n",
              "      <td>1.172580</td>\n",
              "      <td>1.296143</td>\n",
              "      <td>-0.416180</td>\n",
              "      <td>-0.776466</td>\n",
              "    </tr>\n",
              "  </tbody>\n",
              "</table>\n",
              "</div>"
            ],
            "text/plain": [
              "  Ticker  CAPM_Beta   FF-Beta   FF-Size  FF-Value\n",
              "0      A   1.249362  1.397810 -0.540208 -0.310123\n",
              "1    AAL   1.803727  1.798855 -0.025965  0.686844\n",
              "2   AAON   0.950044  0.928965  0.078249  0.020157\n",
              "3    AAP   1.006860  0.875947  0.453546  0.627367\n",
              "4   AAPL   1.172580  1.296143 -0.416180 -0.776466"
            ]
          },
          "metadata": {
            "tags": []
          },
          "execution_count": 44
        }
      ]
    },
    {
      "cell_type": "code",
      "metadata": {
        "id": "HJo7kBd2mvC1",
        "colab_type": "code",
        "colab": {
          "base_uri": "https://localhost:8080/",
          "height": 34
        },
        "outputId": "b57b4504-78a8-47c8-dd83-a917e3141ddc"
      },
      "source": [
        "# Get ccwd\n",
        "import os\n",
        "os.getcwd()"
      ],
      "execution_count": null,
      "outputs": [
        {
          "output_type": "execute_result",
          "data": {
            "text/plain": [
              "'/content'"
            ]
          },
          "metadata": {
            "tags": []
          },
          "execution_count": 27
        }
      ]
    },
    {
      "cell_type": "code",
      "metadata": {
        "id": "Kshe3vLQlZA3",
        "colab_type": "code",
        "colab": {}
      },
      "source": [
        "# Export df_mods into an xlsx file in cwd\n",
        "df_mods.to_excel (r'/content/Assign4-Output.xlsx', index = False, header=True)"
      ],
      "execution_count": null,
      "outputs": []
    }
  ]
}